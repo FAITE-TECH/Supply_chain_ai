{
 "cells": [
  {
   "cell_type": "code",
   "execution_count": 1,
   "metadata": {},
   "outputs": [],
   "source": [
    "import pandas as pd\n",
    "import numpy as np\n",
    "import matplotlib.pyplot as plt\n",
    "import seaborn as sns\n",
    "from datetime import datetime, timedelta\n",
    "import warnings\n",
    "import plotly.express as px\n",
    "import plotly.graph_objects as go\n",
    "from plotly.subplots import make_subplots\n",
    "import plotly.figure_factory as ff\n",
    "from scipy import stats\n",
    "from sklearn.preprocessing import StandardScaler\n",
    "from sklearn.decomposition import PCA\n",
    "from sklearn.cluster import KMeans\n",
    "import plotly.offline as pyo"
   ]
  },
  {
   "cell_type": "code",
   "execution_count": 2,
   "metadata": {},
   "outputs": [
    {
     "name": "stdout",
     "output_type": "stream",
     "text": [
      "✅ Orders Data: (30871, 26)\n",
      "✅ Inventory Data: (4200, 5)\n",
      "✅ Fulfillment Data: (118, 2)\n",
      "✅ Procurement Features: (118, 59)\n",
      "✅ ML Features: (118, 23)\n"
     ]
    }
   ],
   "source": [
    "try:\n",
    "    # Load preprocessed datasets\n",
    "    orders_df = pd.read_csv('../data/processed/orders_ingested.csv')\n",
    "    inventory_df = pd.read_csv('../data/processed/inventory_ingested.csv')\n",
    "    fulfillment_df = pd.read_csv('../data/processed/fulfillment_ingested.csv')\n",
    "    procurement_df = pd.read_csv('../data/processed/procurement_features.csv')\n",
    "    ml_features_df = pd.read_csv('../data/processed/ml_features.csv')\n",
    "    \n",
    "    # Convert date columns\n",
    "    orders_df['Order_Date'] = pd.to_datetime(orders_df['Order_Date'])\n",
    "    orders_df['Shipment_Date'] = pd.to_datetime(orders_df['Shipment_Date'])\n",
    "    inventory_df['Year_Month_Date'] = pd.to_datetime(inventory_df['Year_Month_Date'])\n",
    "    \n",
    "    print(f\"✅ Orders Data: {orders_df.shape}\")\n",
    "    print(f\"✅ Inventory Data: {inventory_df.shape}\")\n",
    "    print(f\"✅ Fulfillment Data: {fulfillment_df.shape}\")\n",
    "    print(f\"✅ Procurement Features: {procurement_df.shape}\")\n",
    "    print(f\"✅ ML Features: {ml_features_df.shape}\")\n",
    "    \n",
    "except Exception as e:\n",
    "    print(f\"❌ Error loading data: {e}\")\n",
    "    print(\"Please run the preprocessing pipeline first!\")\n"
   ]
  },
  {
   "cell_type": "code",
   "execution_count": 10,
   "metadata": {},
   "outputs": [
    {
     "name": "stdout",
     "output_type": "stream",
     "text": [
      "\n",
      "Orders Dataset Summary:\n",
      "Shape: (30871, 29)\n",
      "Memory usage: 24.40 MB\n",
      "Date range: 2015-01-01 00:00:00 to 2017-12-31 00:00:00\n",
      "Missing values: {'Discount %': 1749}\n",
      "Data types: {dtype('int64'): 14, dtype('O'): 10, dtype('<M8[ns]'): 2, dtype('int32'): 2, dtype('float64'): 1}\n",
      "\n",
      "Inventory Dataset Summary:\n",
      "Shape: (4200, 5)\n",
      "Memory usage: 0.49 MB\n",
      "Date range: 2015-01-01 00:00:00 to 2017-12-01 00:00:00\n",
      "Missing values: None\n",
      "Data types: {dtype('int64'): 2, dtype('O'): 1, dtype('float64'): 1, dtype('<M8[ns]'): 1}\n",
      "\n",
      "Procurement Features Dataset Summary:\n",
      "Shape: (118, 61)\n",
      "Memory usage: 0.08 MB\n",
      "Date range: No dates to No dates\n",
      "Missing values: None\n",
      "Data types: {dtype('float64'): 51, dtype('int64'): 6, dtype('O'): 4}\n"
     ]
    }
   ],
   "source": [
    "def display_dataset_info(df, name):\n",
    "    \"\"\"Display comprehensive dataset information\"\"\"\n",
    "    print(f\"\\n{name} Dataset Summary:\")\n",
    "    print(f\"Shape: {df.shape}\")\n",
    "    print(f\"Memory usage: {df.memory_usage(deep=True).sum() / 1024**2:.2f} MB\")\n",
    "    print(f\"Date range: {df.select_dtypes(include=['datetime64']).min().min() if not df.select_dtypes(include=['datetime64']).empty else 'No dates'} to {df.select_dtypes(include=['datetime64']).max().max() if not df.select_dtypes(include=['datetime64']).empty else 'No dates'}\")\n",
    "    \n",
    "    # Missing values\n",
    "    missing = df.isnull().sum()\n",
    "    if missing.sum() > 0:\n",
    "        print(f\"Missing values: {missing[missing > 0].to_dict()}\")\n",
    "    else:\n",
    "        print(\"Missing values: None\")\n",
    "    \n",
    "    # Data types\n",
    "    print(f\"Data types: {df.dtypes.value_counts().to_dict()}\")\n",
    "\n",
    "display_dataset_info(orders_df, \"Orders\")\n",
    "display_dataset_info(inventory_df, \"Inventory\")\n",
    "display_dataset_info(procurement_df, \"Procurement Features\")"
   ]
  },
  {
   "cell_type": "code",
   "execution_count": 5,
   "metadata": {},
   "outputs": [
    {
     "name": "stdout",
     "output_type": "stream",
     "text": [
      "📦 Total Products: 118\n",
      "💰 Total Revenue: $6,181,476.00\n",
      "💸 Total Profit: $3,994,192.00\n",
      "📊 Average Profit Margin: 64.62%\n",
      "🚨 Products Requiring Reorder: 3 (2.5%)\n",
      "❌ Products in Stockout: 96 (81.4%)\n",
      "📈 Products Overstocked: 16 (13.6%)\n",
      "\n",
      "🎯 ABC Classification:\n",
      "   Category C: 56 products (47.5%) - 1.6% of revenue\n",
      "   Category B: 39 products (33.1%) - 2.8% of revenue\n",
      "   Category A: 23 products (19.5%) - 95.6% of revenue\n"
     ]
    }
   ],
   "source": [
    "total_products = procurement_df['Product Name'].nunique()\n",
    "total_revenue = procurement_df['Gross Sales_sum'].sum()\n",
    "total_profit = procurement_df['Profit_sum'].sum()\n",
    "avg_profit_margin = (total_profit / total_revenue) * 100\n",
    "\n",
    "reorder_required = len(procurement_df[procurement_df['Stock_Status'] == 'Reorder_Required'])\n",
    "stockout_products = len(procurement_df[procurement_df['Stock_Status'] == 'Stockout'])\n",
    "overstock_products = len(procurement_df[procurement_df['Stock_Status'] == 'Overstock'])\n",
    "\n",
    "print(f\"📦 Total Products: {total_products:,}\")\n",
    "print(f\"💰 Total Revenue: ${total_revenue:,.2f}\")\n",
    "print(f\"💸 Total Profit: ${total_profit:,.2f}\")\n",
    "print(f\"📊 Average Profit Margin: {avg_profit_margin:.2f}%\")\n",
    "print(f\"🚨 Products Requiring Reorder: {reorder_required} ({reorder_required/total_products*100:.1f}%)\")\n",
    "print(f\"❌ Products in Stockout: {stockout_products} ({stockout_products/total_products*100:.1f}%)\")\n",
    "print(f\"📈 Products Overstocked: {overstock_products} ({overstock_products/total_products*100:.1f}%)\")\n",
    "\n",
    "# ABC Analysis Summary\n",
    "abc_distribution = procurement_df['ABC_Category'].value_counts()\n",
    "print(f\"\\n🎯 ABC Classification:\")\n",
    "for category, count in abc_distribution.items():\n",
    "    percentage = (count / total_products) * 100\n",
    "    revenue_contribution = procurement_df[procurement_df['ABC_Category'] == category]['Gross Sales_sum'].sum()\n",
    "    revenue_percentage = (revenue_contribution / total_revenue) * 100\n",
    "    print(f\"   Category {category}: {count} products ({percentage:.1f}%) - {revenue_percentage:.1f}% of revenue\")"
   ]
  },
  {
   "cell_type": "code",
   "execution_count": 11,
   "metadata": {},
   "outputs": [
    {
     "name": "stdout",
     "output_type": "stream",
     "text": [
      "📅 Data Period: 2015-01-01 to 2017-12-31\n",
      "📈 Peak Order Month: 2016-10 (2,324 units)\n",
      "💰 Peak Revenue Month: 2016-08 ($203,949.00)\n",
      "\n",
      "🌟 Seasonal Insights:\n",
      "   Highest demand month: 1 (6,215 units)\n",
      "   Lowest demand month: 12 (4,171 units)\n",
      "   Highest demand quarter: Q1 (18,153 units)\n"
     ]
    }
   ],
   "source": [
    "monthly_orders = orders_df.groupby(orders_df['Order_Date'].dt.to_period('M')).agg({\n",
    "    'Order Quantity': 'sum',\n",
    "    'Gross Sales': 'sum',\n",
    "    'Order ID': 'nunique'\n",
    "}).reset_index()\n",
    "\n",
    "monthly_orders['Order_Date'] = monthly_orders['Order_Date'].dt.to_timestamp()\n",
    "\n",
    "print(f\"📅 Data Period: {orders_df['Order_Date'].min().strftime('%Y-%m-%d')} to {orders_df['Order_Date'].max().strftime('%Y-%m-%d')}\")\n",
    "print(f\"📈 Peak Order Month: {monthly_orders.loc[monthly_orders['Order Quantity'].idxmax(), 'Order_Date'].strftime('%Y-%m')} ({monthly_orders['Order Quantity'].max():,} units)\")\n",
    "print(f\"💰 Peak Revenue Month: {monthly_orders.loc[monthly_orders['Gross Sales'].idxmax(), 'Order_Date'].strftime('%Y-%m')} (${monthly_orders['Gross Sales'].max():,.2f})\")\n",
    "\n",
    "# Seasonality analysis\n",
    "orders_df['Month'] = orders_df['Order_Date'].dt.month\n",
    "orders_df['Quarter'] = orders_df['Order_Date'].dt.quarter\n",
    "orders_df['Day_of_Week'] = orders_df['Order_Date'].dt.day_name()\n",
    "\n",
    "seasonal_patterns = orders_df.groupby('Month')['Order Quantity'].sum()\n",
    "quarterly_patterns = orders_df.groupby('Quarter')['Order Quantity'].sum()\n",
    "weekly_patterns = orders_df.groupby('Day_of_Week')['Order Quantity'].sum()\n",
    "\n",
    "print(f\"\\n🌟 Seasonal Insights:\")\n",
    "print(f\"   Highest demand month: {seasonal_patterns.idxmax()} ({seasonal_patterns.max():,} units)\")\n",
    "print(f\"   Lowest demand month: {seasonal_patterns.idxmin()} ({seasonal_patterns.min():,} units)\")\n",
    "print(f\"   Highest demand quarter: Q{quarterly_patterns.idxmax()} ({quarterly_patterns.max():,} units)\")"
   ]
  },
  {
   "cell_type": "code",
   "execution_count": 5,
   "metadata": {},
   "outputs": [
    {
     "name": "stdout",
     "output_type": "stream",
     "text": [
      "💰 Top 10 Products by Revenue:\n",
      "   Field & Stream Sportsman 16 Gun Fire Safe... - $1,151,200.00 (Category A)\n",
      "   Perfect Fitness Perfect Rip Deck... - $777,120.00 (Category A)\n",
      "   Diamondback Women's Serene Classic Comfort Bi... - $728,100.00 (Category A)\n",
      "   Nike Men's Free 5.0+ Running Shoe... - $645,500.00 (Category A)\n",
      "   Nike Men's Dri-FIT Victory Golf Polo... - $544,300.00 (Category A)\n",
      "   Pelican Sunstream 100 Kayak... - $536,200.00 (Category A)\n",
      "   O'Brien Men's Neoprene Life Vest... - $508,200.00 (Category A)\n",
      "   Nike Men's CJ Elite 2 TD Football Cleat... - $501,150.00 (Category A)\n",
      "   Under Armour Girls' Toddler Spine Surge Runni... - $227,560.00 (Category A)\n",
      "   Web Camera... - $86,332.00 (Category A)\n",
      "\n",
      "📦 Top 10 Products by Volume:\n",
      "   Perfect Fitness Perfect Rip Deck... - 12,952.0 units (Category A)\n",
      "   Nike Men's Dri-FIT Victory Golf Polo... - 10,886.0 units (Category A)\n",
      "   O'Brien Men's Neoprene Life Vest... - 10,164.0 units (Category A)\n",
      "   Nike Men's Free 5.0+ Running Shoe... - 6,455.0 units (Category A)\n",
      "   Under Armour Girls' Toddler Spine Surge Runni... - 5,689.0 units (Category A)\n",
      "   Nike Men's CJ Elite 2 TD Football Cleat... - 3,855.0 units (Category A)\n",
      "   Field & Stream Sportsman 16 Gun Fire Safe... - 2,878.0 units (Category A)\n",
      "   Pelican Sunstream 100 Kayak... - 2,681.0 units (Category A)\n",
      "   Diamondback Women's Serene Classic Comfort Bi... - 2,427.0 units (Category A)\n",
      "   Team Golf Pittsburgh Steelers Putter Grip... - 194.0 units (Category B)\n",
      "\n",
      "🏢 Department Performance:\n",
      "   Apparel: 8 products, 17,021 units, $1,341,243.00\n",
      "   Book Shop: 1 products, 56 units, $1,736.00\n",
      "   Discs Shop: 4 products, 264 units, $26,955.00\n",
      "   Fan Shop: 9 products, 18,404 units, $2,934,670.00\n",
      "   Fitness: 14 products, 987 units, $59,268.00\n",
      "   Footwear: 13 products, 7,622 units, $697,686.00\n",
      "   Golf: 8 products, 17,353 units, $805,305.00\n",
      "   Health and Beauty: 1 products, 29 units, $8,497.00\n",
      "   Outdoors: 52 products, 4,315 units, $200,834.00\n",
      "   Pet Shop: 1 products, 75 units, $6,300.00\n",
      "   Technology: 2 products, 241 units, $98,982.00\n"
     ]
    }
   ],
   "source": [
    "\n",
    "# Top performing products\n",
    "top_products_revenue = procurement_df.nlargest(10, 'Gross Sales_sum')[['Product Name', 'Gross Sales_sum', 'Order Quantity_sum', 'ABC_Category']]\n",
    "top_products_volume = procurement_df.nlargest(10, 'Order Quantity_sum')[['Product Name', 'Order Quantity_sum', 'Gross Sales_sum', 'ABC_Category']]\n",
    "\n",
    "print(\"💰 Top 10 Products by Revenue:\")\n",
    "for idx, row in top_products_revenue.iterrows():\n",
    "    print(f\"   {row['Product Name'][:50]}... - ${row['Gross Sales_sum']:,.2f} (Category {row['ABC_Category']})\")\n",
    "\n",
    "print(\"\\n📦 Top 10 Products by Volume:\")\n",
    "for idx, row in top_products_volume.iterrows():\n",
    "    print(f\"   {row['Product Name'][:50]}... - {row['Order Quantity_sum']:,} units (Category {row['ABC_Category']})\")\n",
    "\n",
    "# Product diversity analysis\n",
    "dept_performance = orders_df.groupby('Product Department').agg({\n",
    "    'Order Quantity': 'sum',\n",
    "    'Gross Sales': 'sum',\n",
    "    'Product Name': 'nunique'\n",
    "}).round(2)\n",
    "\n",
    "print(f\"\\n🏢 Department Performance:\")\n",
    "for dept, data in dept_performance.iterrows():\n",
    "    print(f\"   {dept}: {data['Product Name']} products, {data['Order Quantity']:,} units, ${data['Gross Sales']:,.2f}\")\n"
   ]
  },
  {
   "cell_type": "code",
   "execution_count": 12,
   "metadata": {},
   "outputs": [
    {
     "name": "stdout",
     "output_type": "stream",
     "text": [
      "📊 Inventory Statistics:\n",
      "       Current_Inventory  Reorder_Point  Safety_Stock      EOQ\n",
      "count             118.00         118.00        118.00   118.00\n",
      "mean                3.34           0.90          0.53   313.84\n",
      "std                14.66           0.78          0.52   522.27\n",
      "min                 0.00           0.00          0.00     0.00\n",
      "25%                 0.00           0.17          0.00    88.08\n",
      "50%                 0.00           0.83          0.59   183.56\n",
      "75%                 0.00           1.57          1.01   290.40\n",
      "max               133.00           2.36          1.46  3052.16\n",
      "\n",
      "🚨 High Risk Products (Stockout Frequency > 20% or Below Reorder Point): 112\n",
      "Top 5 High Risk Products:\n",
      "   First aid kit... - Current: 18, Reorder: 0.1, Priority: 82.2\n",
      "   Summer dresses... - Current: 13, Reorder: 0.2, Priority: 81.6\n",
      "   Porcelain crafts... - Current: 0, Reorder: 0.2, Priority: 80.9\n",
      "   Industrial consumer electronics... - Current: 0, Reorder: 0.2, Priority: 80.4\n",
      "   Lawn mower... - Current: 4, Reorder: 0.1, Priority: 79.2\n",
      "\n",
      "⚡ Efficiency Metrics:\n",
      "       Inventory_Efficiency  Cost_Efficiency\n",
      "count                118.00           118.00\n",
      "mean                 465.44         28137.55\n",
      "std                 1701.27        100843.46\n",
      "min                    0.00             0.00\n",
      "25%                   11.00           713.75\n",
      "50%                   47.50          1576.50\n",
      "75%                  146.75          3360.50\n",
      "max                12952.00        630924.00\n"
     ]
    }
   ],
   "source": [
    "current_inventory_stats = procurement_df[['Current_Inventory', 'Reorder_Point', 'Safety_Stock', 'EOQ']].describe()\n",
    "print(\"📊 Inventory Statistics:\")\n",
    "print(current_inventory_stats.round(2))\n",
    "\n",
    "# Stockout risk analysis\n",
    "high_risk_products = procurement_df[\n",
    "    (procurement_df['Stockout_Frequency'] > 0.2) |  # More than 20% stockout frequency\n",
    "    (procurement_df['Current_Inventory'] <= procurement_df['Reorder_Point'])\n",
    "].sort_values('Procurement_Priority_Score', ascending=False)\n",
    "\n",
    "print(f\"\\n🚨 High Risk Products (Stockout Frequency > 20% or Below Reorder Point): {len(high_risk_products)}\")\n",
    "if len(high_risk_products) > 0:\n",
    "    print(\"Top 5 High Risk Products:\")\n",
    "    for idx, row in high_risk_products.head().iterrows():\n",
    "        print(f\"   {row['Product Name'][:50]}... - Current: {row['Current_Inventory']}, Reorder: {row['Reorder_Point']:.1f}, Priority: {row['Procurement_Priority_Score']:.1f}\")\n",
    "\n",
    "# Inventory efficiency metrics\n",
    "procurement_df['Inventory_Efficiency'] = procurement_df['Order Quantity_sum'] / (procurement_df['Current_Inventory'] + 1)  # Add 1 to avoid division by zero\n",
    "procurement_df['Cost_Efficiency'] = procurement_df['Profit_sum'] / (procurement_df['Current_Unit_Cost'] * procurement_df['Current_Inventory'] + 1)\n",
    "\n",
    "efficiency_stats = procurement_df[['Inventory_Efficiency', 'Cost_Efficiency']].describe()\n",
    "print(f\"\\n⚡ Efficiency Metrics:\")\n",
    "print(efficiency_stats.round(2))"
   ]
  },
  {
   "cell_type": "code",
   "execution_count": 7,
   "metadata": {},
   "outputs": [
    {
     "name": "stdout",
     "output_type": "stream",
     "text": [
      "📦 Delivery Performance Statistics:\n",
      "       Warehouse_Fulfillment_Days  On_Time_Delivery_mean  Delivery_Reliability\n",
      "count                     118.000                118.000               118.000\n",
      "mean                        5.192                  0.560                 0.694\n",
      "std                         2.578                  0.179                 0.189\n",
      "min                         0.000                  0.000                 0.000\n",
      "25%                         3.300                  0.500                 0.651\n",
      "50%                         5.300                  0.563                 0.717\n",
      "75%                         6.900                  0.660                 0.777\n",
      "max                         9.900                  1.000                 1.000\n",
      "\n",
      "✅ Best Delivery Performance:\n",
      "   Garmin Forerunner 910XT GPS Watch... - Reliability: 1.000, Lead Time: 5.6 days\n",
      "   GoPro HERO3+ Black Edition Camera... - Reliability: 1.000, Lead Time: 5.4 days\n",
      "   GolfBuddy VT3 GPS Watch... - Reliability: 1.000, Lead Time: 6.7 days\n",
      "   Nike Kids' Grade School KD VI Basketball Shoe... - Reliability: 1.000, Lead Time: 9.9 days\n",
      "   The North Face Women's Recon Backpack... - Reliability: 1.000, Lead Time: 4.1 days\n",
      "\n",
      "❌ Worst Delivery Performance:\n",
      "   Bowflex SelectTech 1090 Dumbbells... - Reliability: 0.000, Lead Time: 0.0 days\n",
      "   Bushnell Pro X7 Jolt Slope Rangefinder... - Reliability: 0.000, Lead Time: 0.0 days\n",
      "   Dell Laptop... - Reliability: 0.000, Lead Time: 0.0 days\n",
      "   SOLE E25 Elliptical... - Reliability: 0.000, Lead Time: 0.0 days\n",
      "   SOLE E35 Elliptical... - Reliability: 0.000, Lead Time: 0.0 days\n"
     ]
    }
   ],
   "source": [
    "delivery_stats = procurement_df[['Warehouse_Fulfillment_Days', 'On_Time_Delivery_mean', 'Delivery_Reliability']].describe()\n",
    "print(\"📦 Delivery Performance Statistics:\")\n",
    "print(delivery_stats.round(3))\n",
    "\n",
    "# Best and worst performing products by delivery\n",
    "best_delivery = procurement_df.nlargest(5, 'Delivery_Reliability')[['Product Name', 'Delivery_Reliability', 'Warehouse_Fulfillment_Days']]\n",
    "worst_delivery = procurement_df.nsmallest(5, 'Delivery_Reliability')[['Product Name', 'Delivery_Reliability', 'Warehouse_Fulfillment_Days']]\n",
    "\n",
    "print(f\"\\n✅ Best Delivery Performance:\")\n",
    "for idx, row in best_delivery.iterrows():\n",
    "    print(f\"   {row['Product Name'][:50]}... - Reliability: {row['Delivery_Reliability']:.3f}, Lead Time: {row['Warehouse_Fulfillment_Days']:.1f} days\")\n",
    "\n",
    "print(f\"\\n❌ Worst Delivery Performance:\")\n",
    "for idx, row in worst_delivery.iterrows():\n",
    "    print(f\"   {row['Product Name'][:50]}... - Reliability: {row['Delivery_Reliability']:.3f}, Lead Time: {row['Warehouse_Fulfillment_Days']:.1f} days\")"
   ]
  },
  {
   "cell_type": "code",
   "execution_count": 8,
   "metadata": {},
   "outputs": [
    {
     "name": "stdout",
     "output_type": "stream",
     "text": [
      "📊 Demand Analysis:\n",
      "       Order Quantity_mean  Order Quantity_std  Demand_Variability  \\\n",
      "count              118.000             118.000             118.000   \n",
      "mean                 2.030               0.753               0.254   \n",
      "std                  1.069               0.701               0.238   \n",
      "min                  0.000               0.000               0.000   \n",
      "25%                  1.000               0.000               0.000   \n",
      "50%                  2.611               1.184               0.379   \n",
      "75%                  3.000               1.420               0.479   \n",
      "max                  3.667               1.586               0.570   \n",
      "\n",
      "       Demand_Growth_Mean  \n",
      "count             118.000  \n",
      "mean                0.827  \n",
      "std                 1.256  \n",
      "min                -0.800  \n",
      "25%                 0.220  \n",
      "50%                 0.503  \n",
      "75%                 0.853  \n",
      "max                 8.833  \n",
      "\n",
      "📈 High Growth Products (>10% growth): 93\n",
      "Top 5 Growing Products:\n",
      "   Lawn mower... - Growth: 8.833, Current Demand: 1.0\n",
      "   Summer dresses... - Growth: 5.399, Current Demand: 1.0\n",
      "   Baby sweater... - Growth: 4.947, Current Demand: 1.0\n",
      "   First aid kit... - Growth: 4.900, Current Demand: 1.0\n",
      "   Total Gym 1400... - Growth: 4.000, Current Demand: 1.0\n",
      "\n",
      "📉 Declining Demand Products (<-10% growth): 3\n",
      "Top 5 Declining Products:\n",
      "   Diamondback Girls' Clarity 24 Hybrid Bike 201... - Growth: -0.800, Current Demand: 1.0\n",
      "   Garmin Forerunner 910XT GPS Watch... - Growth: -0.667, Current Demand: 1.0\n",
      "   MDGolf Pittsburgh Penguins Putter... - Growth: -0.117, Current Demand: 2.9\n"
     ]
    }
   ],
   "source": [
    "demand_analysis = procurement_df[['Order Quantity_mean', 'Order Quantity_std', 'Demand_Variability', 'Demand_Growth_Mean']].describe()\n",
    "print(\"📊 Demand Analysis:\")\n",
    "print(demand_analysis.round(3))\n",
    "\n",
    "# High growth products\n",
    "high_growth = procurement_df[procurement_df['Demand_Growth_Mean'] > 0.1].sort_values('Demand_Growth_Mean', ascending=False)\n",
    "declining_demand = procurement_df[procurement_df['Demand_Growth_Mean'] < -0.1].sort_values('Demand_Growth_Mean', ascending=True)\n",
    "\n",
    "print(f\"\\n📈 High Growth Products (>10% growth): {len(high_growth)}\")\n",
    "if len(high_growth) > 0:\n",
    "    print(\"Top 5 Growing Products:\")\n",
    "    for idx, row in high_growth.head().iterrows():\n",
    "        print(f\"   {row['Product Name'][:50]}... - Growth: {row['Demand_Growth_Mean']:.3f}, Current Demand: {row['Order Quantity_mean']:.1f}\")\n",
    "\n",
    "print(f\"\\n📉 Declining Demand Products (<-10% growth): {len(declining_demand)}\")\n",
    "if len(declining_demand) > 0:\n",
    "    print(\"Top 5 Declining Products:\")\n",
    "    for idx, row in declining_demand.head().iterrows():\n",
    "        print(f\"   {row['Product Name'][:50]}... - Growth: {row['Demand_Growth_Mean']:.3f}, Current Demand: {row['Order Quantity_mean']:.1f}\")\n"
   ]
  },
  {
   "cell_type": "code",
   "execution_count": 14,
   "metadata": {},
   "outputs": [
    {
     "name": "stdout",
     "output_type": "stream",
     "text": [
      "📦 Economic Order Quantity (EOQ) Analysis:\n",
      "count     118.00\n",
      "mean      313.84\n",
      "std       522.27\n",
      "min         0.00\n",
      "25%        88.08\n",
      "50%       183.56\n",
      "75%       290.40\n",
      "max      3052.16\n",
      "Name: EOQ, dtype: float64\n",
      "\n",
      "🔄 Reorder Point Analysis:\n",
      "count    118.00\n",
      "mean       0.90\n",
      "std        0.78\n",
      "min        0.00\n",
      "25%        0.17\n",
      "50%        0.83\n",
      "75%        1.57\n",
      "max        2.36\n",
      "Name: Reorder_Point, dtype: float64\n",
      "\n",
      "⭐ Procurement Priority Score Analysis:\n",
      "count    118.00\n",
      "mean      52.22\n",
      "std       14.65\n",
      "min       17.97\n",
      "25%       44.81\n",
      "50%       50.56\n",
      "75%       59.57\n",
      "max       82.21\n",
      "Name: Procurement_Priority_Score, dtype: float64\n",
      "\n",
      "📋 Recommended Actions Summary:\n",
      "   Urgent_Reorder: 96 products (81.4%)\n",
      "   Reduce_Orders: 16 products (13.6%)\n",
      "   Reorder_Soon: 3 products (2.5%)\n",
      "   Increase_Stock: 2 products (1.7%)\n",
      "   Monitor: 1 products (0.8%)\n"
     ]
    }
   ],
   "source": [
    "\n",
    "total_products = procurement_df['Product Name'].nunique()\n",
    "eoq_stats = procurement_df['EOQ'].describe()\n",
    "print(\"📦 Economic Order Quantity (EOQ) Analysis:\")\n",
    "print(eoq_stats.round(2))\n",
    "\n",
    "# Reorder point analysis\n",
    "reorder_stats = procurement_df['Reorder_Point'].describe()\n",
    "print(f\"\\n🔄 Reorder Point Analysis:\")\n",
    "print(reorder_stats.round(2))\n",
    "\n",
    "# Priority score distribution\n",
    "priority_stats = procurement_df['Procurement_Priority_Score'].describe()\n",
    "print(f\"\\n⭐ Procurement Priority Score Analysis:\")\n",
    "print(priority_stats.round(2))\n",
    "\n",
    "# Action recommendations summary\n",
    "action_summary = procurement_df['Recommended_Action'].value_counts()\n",
    "print(f\"\\n📋 Recommended Actions Summary:\")\n",
    "for action, count in action_summary.items():\n",
    "    percentage = (count / total_products) * 100\n",
    "    print(f\"   {action}: {count} products ({percentage:.1f}%)\")"
   ]
  },
  {
   "cell_type": "code",
   "execution_count": 15,
   "metadata": {},
   "outputs": [
    {
     "name": "stdout",
     "output_type": "stream",
     "text": [
      "🔗 Strong Correlations (|r| > 0.7): 10\n",
      "   Reorder_Point ↔ Safety_Stock: 0.986\n",
      "   Gross Sales_sum ↔ Profit_sum: 0.968\n",
      "   Demand_Variability ↔ Safety_Stock: 0.940\n",
      "   Order Quantity_mean ↔ Demand_Variability: 0.935\n",
      "   Order Quantity_mean ↔ Safety_Stock: 0.911\n"
     ]
    }
   ],
   "source": [
    "correlation_features = [\n",
    "    'Order Quantity_mean', 'Gross Sales_sum', 'Profit_sum',\n",
    "    'Current_Inventory', 'Stockout_Frequency', 'Demand_Variability',\n",
    "    'Warehouse_Fulfillment_Days', 'Delivery_Reliability',\n",
    "    'Reorder_Point', 'Safety_Stock', 'EOQ', 'Procurement_Priority_Score'\n",
    "]\n",
    "\n",
    "correlation_matrix = procurement_df[correlation_features].corr()\n",
    "\n",
    "# Find strong correlations (>0.7 or <-0.7)\n",
    "strong_correlations = []\n",
    "for i in range(len(correlation_matrix.columns)):\n",
    "    for j in range(i+1, len(correlation_matrix.columns)):\n",
    "        corr_value = correlation_matrix.iloc[i, j]\n",
    "        if abs(corr_value) > 0.7:\n",
    "            strong_correlations.append({\n",
    "                'feature1': correlation_matrix.columns[i],\n",
    "                'feature2': correlation_matrix.columns[j],\n",
    "                'correlation': corr_value\n",
    "            })\n",
    "\n",
    "print(f\"🔗 Strong Correlations (|r| > 0.7): {len(strong_correlations)}\")\n",
    "for corr in sorted(strong_correlations, key=lambda x: abs(x['correlation']), reverse=True)[:5]:\n",
    "    print(f\"   {corr['feature1']} ↔ {corr['feature2']}: {corr['correlation']:.3f}\")"
   ]
  },
  {
   "cell_type": "code",
   "execution_count": 16,
   "metadata": {},
   "outputs": [
    {
     "name": "stdout",
     "output_type": "stream",
     "text": [
      "🎯 Outlier Detection Results:\n",
      "   Order Quantity_sum: 9 outliers (7.6%)\n",
      "   Gross Sales_sum: 19 outliers (16.1%)\n",
      "   Current_Inventory: 22 outliers (18.6%)\n",
      "   Procurement_Priority_Score: 6 outliers (5.1%)\n"
     ]
    }
   ],
   "source": [
    "def detect_outliers_iqr(df, column):\n",
    "    \"\"\"Detect outliers using IQR method\"\"\"\n",
    "    Q1 = df[column].quantile(0.25)\n",
    "    Q3 = df[column].quantile(0.75)\n",
    "    IQR = Q3 - Q1\n",
    "    lower_bound = Q1 - 1.5 * IQR\n",
    "    upper_bound = Q3 + 1.5 * IQR\n",
    "    outliers = df[(df[column] < lower_bound) | (df[column] > upper_bound)]\n",
    "    return outliers\n",
    "\n",
    "# Detect outliers in key metrics\n",
    "outlier_columns = ['Order Quantity_sum', 'Gross Sales_sum', 'Current_Inventory', 'Procurement_Priority_Score']\n",
    "\n",
    "print(\"🎯 Outlier Detection Results:\")\n",
    "for col in outlier_columns:\n",
    "    if col in procurement_df.columns:\n",
    "        outliers = detect_outliers_iqr(procurement_df, col)\n",
    "        percentage = (len(outliers) / len(procurement_df)) * 100\n",
    "        print(f\"   {col}: {len(outliers)} outliers ({percentage:.1f}%)\")\n",
    "        \n",
    "        if len(outliers) > 0 and len(outliers) <= 5:\n",
    "            print(f\"      Example outliers: {outliers['Product Name'].head(3).tolist()}\")\n"
   ]
  },
  {
   "cell_type": "code",
   "execution_count": 21,
   "metadata": {},
   "outputs": [
    {
     "name": "stdout",
     "output_type": "stream",
     "text": [
      "\n",
      "Procurement Features Data Quality Report:\n",
      "   📊 Completeness: 100.00%\n",
      "   🆔 Product Uniqueness: 100.00%\n",
      "   ✅ Consistency: 100.00%\n",
      "   🏆 Overall Quality Score: 100.00%\n",
      "\n",
      "ML Features Data Quality Report:\n",
      "   📊 Completeness: 100.00%\n",
      "   🆔 Product Uniqueness: 100.00%\n",
      "   ✅ Consistency: 87.56%\n",
      "   🏆 Overall Quality Score: 95.85%\n"
     ]
    }
   ],
   "source": [
    "def assess_data_quality(df, name):\n",
    "    \"\"\"Comprehensive data quality assessment\"\"\"\n",
    "    print(f\"\\n{name} Data Quality Report:\")\n",
    "    \n",
    "    # Completeness\n",
    "    total_cells = df.shape[0] * df.shape[1]\n",
    "    missing_cells = df.isnull().sum().sum()\n",
    "    completeness = ((total_cells - missing_cells) / total_cells) * 100\n",
    "    print(f\"   📊 Completeness: {completeness:.2f}%\")\n",
    "    \n",
    "    # Uniqueness (for product names)\n",
    "    if 'Product Name' in df.columns:\n",
    "        uniqueness = (df['Product Name'].nunique() / len(df)) * 100\n",
    "        print(f\"   🆔 Product Uniqueness: {uniqueness:.2f}%\")\n",
    "    \n",
    "    # Consistency (no negative values where inappropriate)\n",
    "    numeric_cols = df.select_dtypes(include=[np.number]).columns\n",
    "    negative_issues = 0\n",
    "    for col in numeric_cols:\n",
    "        if 'Quantity' in col or 'Sales' in col or 'Inventory' in col:\n",
    "            negative_count = (df[col] < 0).sum()\n",
    "            if negative_count > 0:\n",
    "                negative_issues += negative_count\n",
    "    \n",
    "    consistency = ((len(df) * len(numeric_cols) - negative_issues) / (len(df) * len(numeric_cols))) * 100 if len(numeric_cols) > 0 else 100\n",
    "    print(f\"   ✅ Consistency: {consistency:.2f}%\")\n",
    "    \n",
    "    # Overall quality score\n",
    "    overall_quality = (completeness + uniqueness + consistency) / 3 if 'Product Name' in df.columns else (completeness + consistency) / 2\n",
    "    print(f\"   🏆 Overall Quality Score: {overall_quality:.2f}%\")\n",
    "    return overall_quality\n",
    "\n",
    "assess_data_quality(procurement_df, \"Procurement Features\")\n",
    "overall_quality = assess_data_quality(ml_features_df, \"ML Features\")"
   ]
  },
  {
   "cell_type": "code",
   "execution_count": 18,
   "metadata": {},
   "outputs": [
    {
     "name": "stdout",
     "output_type": "stream",
     "text": [
      "   ✅ Reasonable Reorder Points: 113/118 (95.8%)\n",
      "   ✅ Reasonable EOQ Values: 37/118 (31.4%)\n",
      "   ✅ Reasonable Safety Stock: 118/118 (100.0%)\n",
      "\n",
      "📊 Feature Distribution Summary:\n",
      "   📈 Highly Skewed Features (|skew| > 1): 11\n",
      "      Inventory_Days_Supply: 7.558\n",
      "      Current_Inventory: 6.827\n",
      "      EOQ: 3.749\n",
      "      Order_Frequency: 3.482\n",
      "      Demand_Growth_Mean: 3.456\n"
     ]
    }
   ],
   "source": [
    "reasonable_reorder = procurement_df[\n",
    "    (procurement_df['Reorder_Point'] > 0) & \n",
    "    (procurement_df['Reorder_Point'] <= procurement_df['Order Quantity_sum'])\n",
    "]\n",
    "print(f\"   ✅ Reasonable Reorder Points: {len(reasonable_reorder)}/{len(procurement_df)} ({len(reasonable_reorder)/len(procurement_df)*100:.1f}%)\")\n",
    "\n",
    "# Check if EOQ values are reasonable\n",
    "reasonable_eoq = procurement_df[\n",
    "    (procurement_df['EOQ'] > 0) & \n",
    "    (procurement_df['EOQ'] <= procurement_df['Order Quantity_sum'] * 2)\n",
    "]\n",
    "print(f\"   ✅ Reasonable EOQ Values: {len(reasonable_eoq)}/{len(procurement_df)} ({len(reasonable_eoq)/len(procurement_df)*100:.1f}%)\")\n",
    "\n",
    "# Check if safety stock is reasonable\n",
    "reasonable_safety = procurement_df[\n",
    "    (procurement_df['Safety_Stock'] >= 0) & \n",
    "    (procurement_df['Safety_Stock'] <= procurement_df['Order Quantity_mean'] * 2)\n",
    "]\n",
    "print(f\"   ✅ Reasonable Safety Stock: {len(reasonable_safety)}/{len(procurement_df)} ({len(reasonable_safety)/len(procurement_df)*100:.1f}%)\")\n",
    "\n",
    "# Feature distribution analysis\n",
    "print(f\"\\n📊 Feature Distribution Summary:\")\n",
    "ml_numeric_features = ml_features_df.select_dtypes(include=[np.number]).columns\n",
    "skewed_features = []\n",
    "for feature in ml_numeric_features:\n",
    "    skewness = stats.skew(ml_features_df[feature].dropna())\n",
    "    if abs(skewness) > 1:  # Highly skewed\n",
    "        skewed_features.append((feature, skewness))\n",
    "\n",
    "print(f\"   📈 Highly Skewed Features (|skew| > 1): {len(skewed_features)}\")\n",
    "for feature, skew_val in sorted(skewed_features, key=lambda x: abs(x[1]), reverse=True)[:5]:\n",
    "    print(f\"      {feature}: {skew_val:.3f}\")"
   ]
  },
  {
   "cell_type": "code",
   "execution_count": 22,
   "metadata": {},
   "outputs": [
    {
     "name": "stdout",
     "output_type": "stream",
     "text": [
      "   🚨 URGENT: 96 products are in stockout - immediate reordering required\n",
      "   📈 OPPORTUNITY: 14 high-value products showing strong growth\n",
      "   💰 EFFICIENCY: $111,062.00 tied up in overstocked products\n",
      "   🚚 SUPPLIER: 93 products have poor delivery reliability (<80%)\n",
      "\n",
      "📊 RECOMMENDATIONS:\n",
      "   1. Implement automated reordering for 99 products\n",
      "   2. Review supplier contracts for 93 underperforming products\n",
      "   3. Optimize inventory levels to free up $111,062.00 in working capital\n",
      "   4. Focus growth strategies on 14 high-potential products\n",
      "\n",
      "✅ DATA READINESS FOR ML:\n",
      "   • 118 products with 22 features\n",
      "   • Data quality score: 95.9%\n",
      "   • Feature engineering validation: 95.8% metrics validated\n",
      "   • Ready for demand forecasting, inventory optimization, and supplier selection models\n"
     ]
    }
   ],
   "source": [
    "reorder_required = len(procurement_df[procurement_df['Stock_Status'] == 'Reorder_Required'])\n",
    "stockout_products = len(procurement_df[procurement_df['Stock_Status'] == 'Stockout'])\n",
    "\n",
    "urgent_products = len(procurement_df[procurement_df['Stock_Status'] == 'Stockout'])\n",
    "if urgent_products > 0:\n",
    "    print(f\"   🚨 URGENT: {urgent_products} products are in stockout - immediate reordering required\")\n",
    "\n",
    "# High opportunity products\n",
    "high_opportunity = len(procurement_df[\n",
    "    (procurement_df['Demand_Growth_Mean'] > 0.1) & \n",
    "    (procurement_df['ABC_Category'] == 'A')\n",
    "])\n",
    "if high_opportunity > 0:\n",
    "    print(f\"   📈 OPPORTUNITY: {high_opportunity} high-value products showing strong growth\")\n",
    "\n",
    "# Efficiency improvements\n",
    "overstock_value = procurement_df[procurement_df['Stock_Status'] == 'Overstock']['Gross Sales_sum'].sum()\n",
    "if overstock_value > 0:\n",
    "    print(f\"   💰 EFFICIENCY: ${overstock_value:,.2f} tied up in overstocked products\")\n",
    "\n",
    "# Supplier issues\n",
    "poor_suppliers = len(procurement_df[procurement_df['Delivery_Reliability'] < 0.8])\n",
    "if poor_suppliers > 0:\n",
    "    print(f\"   🚚 SUPPLIER: {poor_suppliers} products have poor delivery reliability (<80%)\")\n",
    "\n",
    "print(f\"\\n📊 RECOMMENDATIONS:\")\n",
    "print(f\"   1. Implement automated reordering for {reorder_required + stockout_products} products\")\n",
    "print(f\"   2. Review supplier contracts for {poor_suppliers} underperforming products\")\n",
    "print(f\"   3. Optimize inventory levels to free up ${overstock_value:,.2f} in working capital\")\n",
    "print(f\"   4. Focus growth strategies on {high_opportunity} high-potential products\")\n",
    "\n",
    "print(f\"\\n✅ DATA READINESS FOR ML:\")\n",
    "print(f\"   • {len(ml_features_df)} products with {len(ml_features_df.columns)-1} features\")\n",
    "print(f\"   • Data quality score: {overall_quality:.1f}%\")\n",
    "print(f\"   • Feature engineering validation: {len(reasonable_reorder)/len(procurement_df)*100:.1f}% metrics validated\")\n",
    "print(f\"   • Ready for demand forecasting, inventory optimization, and supplier selection models\")\n"
   ]
  },
  {
   "cell_type": "code",
   "execution_count": 23,
   "metadata": {},
   "outputs": [
    {
     "data": {
      "application/vnd.plotly.v1+json": {
       "config": {
        "plotlyServerURL": "https://plot.ly"
       },
       "data": [
        {
         "domain": {
          "x": [
           0,
           0.45
          ],
          "y": [
           0.625,
           1
          ]
         },
         "labels": [
          "C",
          "B",
          "A"
         ],
         "name": "ABC Categories",
         "type": "pie",
         "values": [
          56,
          39,
          23
         ]
        },
        {
         "marker": {
          "color": [
           "red",
           "blue",
           "green",
           "orange"
          ]
         },
         "name": "Stock Status",
         "type": "bar",
         "x": [
          "Stockout",
          "Overstock",
          "Normal",
          "Reorder_Required"
         ],
         "xaxis": "x",
         "y": [
          96,
          16,
          3,
          3
         ],
         "yaxis": "y"
        },
        {
         "marker": {
          "color": "lightblue"
         },
         "name": "Revenue by Department",
         "type": "bar",
         "x": [
          "Fan Shop",
          "Apparel",
          "Golf",
          "Footwear",
          "Outdoors",
          "Technology",
          "Fitness",
          "Discs Shop",
          "Health and Beauty",
          "Pet Shop"
         ],
         "xaxis": "x2",
         "y": [
          2934670,
          1341243,
          805305,
          697686,
          200834,
          98982,
          59268,
          26955,
          8497,
          6300
         ],
         "yaxis": "y2"
        },
        {
         "marker": {
          "color": "purple"
         },
         "name": "Priority Score",
         "nbinsx": 30,
         "type": "histogram",
         "x": [
          79.1324612590799,
          66.19642615012107,
          39.07640395480226,
          51.90868926553673,
          50.42281261770245,
          41.79927495291902,
          49.80068644067797,
          62.15340799031477,
          61.55882324455206,
          74.70652179176754,
          57.91011259079903,
          47.67604479418885,
          37.36329472693032,
          50.6279143126177,
          55.35395480225989,
          75.77154842615012,
          72.88306658595641,
          48.34916828087167,
          31.504740112994348,
          39.18609698681732,
          63.78434987893462,
          31.950468926553672,
          65.566299031477,
          82.20585472154963,
          59.74087167070218,
          58.14877589453861,
          47.88206658595641,
          43.43462469733656,
          39.43657815442562,
          35.91748493408663,
          46.20244915254238,
          42.27939265536723,
          39.22877777777778,
          42.45883777239709,
          50.49199623352166,
          41.7392297551789,
          42.50905838041431,
          43.15753201506591,
          80.3958837772397,
          67.00408595641647,
          50.00520809792844,
          48.91038512241054,
          59.03226647834275,
          79.20634140435834,
          44.450283427495286,
          49.69521791767555,
          57.8574604519774,
          77.03954802259886,
          44.319460048426144,
          47.816375302663445,
          63.62474293785311,
          45.90774011299435,
          54.46427602905569,
          30.629918079096043,
          53.74508757062147,
          52.69548775894539,
          28.33867796610169,
          51.7369176755448,
          29.70554237288136,
          56.83784261501211,
          63.79739225181598,
          61.6199818401937,
          46.1269802259887,
          57.57016572504709,
          30.6876713747646,
          67.91586064030132,
          55.455634382566586,
          31.319146892655368,
          30.254882297551788,
          59.04835122410546,
          49.0671120527307,
          80.93034866828087,
          73.26171549636804,
          79.09025544794189,
          66.55036803874091,
          71.23002421307505,
          81.59910532687653,
          46.96775894538607,
          53.49909792843691,
          71.81228436911488,
          55.73685956416465,
          47.98441054613936,
          56.03719679849341,
          53.86837288135592,
          49.73084651600753,
          45.93517514124294,
          53.90802824858757,
          48.96803013182674,
          59.01089588377724,
          57.918549905838034,
          54.33806308851224,
          52.84407438794727,
          58.97156967984935,
          49.92164971751412,
          47.3501779661017,
          67.20631113801453,
          48.42470217917675,
          28.76883145009416,
          46.28846798493409,
          58.85221280602636,
          65.81400094161958,
          49.58616854990584,
          58.96079472693032,
          48.03712335216572,
          52.292760828625234,
          77.9356416464891,
          49.858248184019374,
          46.672053268765126,
          48.69080414312618,
          41.30490960451977,
          49.34403107344633,
          56.85586064030132,
          64.07899636803874,
          17.966101694915256,
          17.966101694915256,
          17.966101694915256,
          17.966101694915256,
          17.966101694915256
         ],
         "xaxis": "x3",
         "yaxis": "y3"
        }
       ],
       "layout": {
        "annotations": [
         {
          "font": {
           "size": 16
          },
          "showarrow": false,
          "text": "ABC Category Distribution",
          "x": 0.225,
          "xanchor": "center",
          "xref": "paper",
          "y": 1,
          "yanchor": "bottom",
          "yref": "paper"
         },
         {
          "font": {
           "size": 16
          },
          "showarrow": false,
          "text": "Stock Status Overview",
          "x": 0.775,
          "xanchor": "center",
          "xref": "paper",
          "y": 1,
          "yanchor": "bottom",
          "yref": "paper"
         },
         {
          "font": {
           "size": 16
          },
          "showarrow": false,
          "text": "Revenue by Product Category",
          "x": 0.225,
          "xanchor": "center",
          "xref": "paper",
          "y": 0.375,
          "yanchor": "bottom",
          "yref": "paper"
         },
         {
          "font": {
           "size": 16
          },
          "showarrow": false,
          "text": "Procurement Priority Distribution",
          "x": 0.775,
          "xanchor": "center",
          "xref": "paper",
          "y": 0.375,
          "yanchor": "bottom",
          "yref": "paper"
         }
        ],
        "height": 800,
        "showlegend": false,
        "template": {
         "data": {
          "bar": [
           {
            "error_x": {
             "color": "#2a3f5f"
            },
            "error_y": {
             "color": "#2a3f5f"
            },
            "marker": {
             "line": {
              "color": "#E5ECF6",
              "width": 0.5
             },
             "pattern": {
              "fillmode": "overlay",
              "size": 10,
              "solidity": 0.2
             }
            },
            "type": "bar"
           }
          ],
          "barpolar": [
           {
            "marker": {
             "line": {
              "color": "#E5ECF6",
              "width": 0.5
             },
             "pattern": {
              "fillmode": "overlay",
              "size": 10,
              "solidity": 0.2
             }
            },
            "type": "barpolar"
           }
          ],
          "carpet": [
           {
            "aaxis": {
             "endlinecolor": "#2a3f5f",
             "gridcolor": "white",
             "linecolor": "white",
             "minorgridcolor": "white",
             "startlinecolor": "#2a3f5f"
            },
            "baxis": {
             "endlinecolor": "#2a3f5f",
             "gridcolor": "white",
             "linecolor": "white",
             "minorgridcolor": "white",
             "startlinecolor": "#2a3f5f"
            },
            "type": "carpet"
           }
          ],
          "choropleth": [
           {
            "colorbar": {
             "outlinewidth": 0,
             "ticks": ""
            },
            "type": "choropleth"
           }
          ],
          "contour": [
           {
            "colorbar": {
             "outlinewidth": 0,
             "ticks": ""
            },
            "colorscale": [
             [
              0,
              "#0d0887"
             ],
             [
              0.1111111111111111,
              "#46039f"
             ],
             [
              0.2222222222222222,
              "#7201a8"
             ],
             [
              0.3333333333333333,
              "#9c179e"
             ],
             [
              0.4444444444444444,
              "#bd3786"
             ],
             [
              0.5555555555555556,
              "#d8576b"
             ],
             [
              0.6666666666666666,
              "#ed7953"
             ],
             [
              0.7777777777777778,
              "#fb9f3a"
             ],
             [
              0.8888888888888888,
              "#fdca26"
             ],
             [
              1,
              "#f0f921"
             ]
            ],
            "type": "contour"
           }
          ],
          "contourcarpet": [
           {
            "colorbar": {
             "outlinewidth": 0,
             "ticks": ""
            },
            "type": "contourcarpet"
           }
          ],
          "heatmap": [
           {
            "colorbar": {
             "outlinewidth": 0,
             "ticks": ""
            },
            "colorscale": [
             [
              0,
              "#0d0887"
             ],
             [
              0.1111111111111111,
              "#46039f"
             ],
             [
              0.2222222222222222,
              "#7201a8"
             ],
             [
              0.3333333333333333,
              "#9c179e"
             ],
             [
              0.4444444444444444,
              "#bd3786"
             ],
             [
              0.5555555555555556,
              "#d8576b"
             ],
             [
              0.6666666666666666,
              "#ed7953"
             ],
             [
              0.7777777777777778,
              "#fb9f3a"
             ],
             [
              0.8888888888888888,
              "#fdca26"
             ],
             [
              1,
              "#f0f921"
             ]
            ],
            "type": "heatmap"
           }
          ],
          "heatmapgl": [
           {
            "colorbar": {
             "outlinewidth": 0,
             "ticks": ""
            },
            "colorscale": [
             [
              0,
              "#0d0887"
             ],
             [
              0.1111111111111111,
              "#46039f"
             ],
             [
              0.2222222222222222,
              "#7201a8"
             ],
             [
              0.3333333333333333,
              "#9c179e"
             ],
             [
              0.4444444444444444,
              "#bd3786"
             ],
             [
              0.5555555555555556,
              "#d8576b"
             ],
             [
              0.6666666666666666,
              "#ed7953"
             ],
             [
              0.7777777777777778,
              "#fb9f3a"
             ],
             [
              0.8888888888888888,
              "#fdca26"
             ],
             [
              1,
              "#f0f921"
             ]
            ],
            "type": "heatmapgl"
           }
          ],
          "histogram": [
           {
            "marker": {
             "pattern": {
              "fillmode": "overlay",
              "size": 10,
              "solidity": 0.2
             }
            },
            "type": "histogram"
           }
          ],
          "histogram2d": [
           {
            "colorbar": {
             "outlinewidth": 0,
             "ticks": ""
            },
            "colorscale": [
             [
              0,
              "#0d0887"
             ],
             [
              0.1111111111111111,
              "#46039f"
             ],
             [
              0.2222222222222222,
              "#7201a8"
             ],
             [
              0.3333333333333333,
              "#9c179e"
             ],
             [
              0.4444444444444444,
              "#bd3786"
             ],
             [
              0.5555555555555556,
              "#d8576b"
             ],
             [
              0.6666666666666666,
              "#ed7953"
             ],
             [
              0.7777777777777778,
              "#fb9f3a"
             ],
             [
              0.8888888888888888,
              "#fdca26"
             ],
             [
              1,
              "#f0f921"
             ]
            ],
            "type": "histogram2d"
           }
          ],
          "histogram2dcontour": [
           {
            "colorbar": {
             "outlinewidth": 0,
             "ticks": ""
            },
            "colorscale": [
             [
              0,
              "#0d0887"
             ],
             [
              0.1111111111111111,
              "#46039f"
             ],
             [
              0.2222222222222222,
              "#7201a8"
             ],
             [
              0.3333333333333333,
              "#9c179e"
             ],
             [
              0.4444444444444444,
              "#bd3786"
             ],
             [
              0.5555555555555556,
              "#d8576b"
             ],
             [
              0.6666666666666666,
              "#ed7953"
             ],
             [
              0.7777777777777778,
              "#fb9f3a"
             ],
             [
              0.8888888888888888,
              "#fdca26"
             ],
             [
              1,
              "#f0f921"
             ]
            ],
            "type": "histogram2dcontour"
           }
          ],
          "mesh3d": [
           {
            "colorbar": {
             "outlinewidth": 0,
             "ticks": ""
            },
            "type": "mesh3d"
           }
          ],
          "parcoords": [
           {
            "line": {
             "colorbar": {
              "outlinewidth": 0,
              "ticks": ""
             }
            },
            "type": "parcoords"
           }
          ],
          "pie": [
           {
            "automargin": true,
            "type": "pie"
           }
          ],
          "scatter": [
           {
            "fillpattern": {
             "fillmode": "overlay",
             "size": 10,
             "solidity": 0.2
            },
            "type": "scatter"
           }
          ],
          "scatter3d": [
           {
            "line": {
             "colorbar": {
              "outlinewidth": 0,
              "ticks": ""
             }
            },
            "marker": {
             "colorbar": {
              "outlinewidth": 0,
              "ticks": ""
             }
            },
            "type": "scatter3d"
           }
          ],
          "scattercarpet": [
           {
            "marker": {
             "colorbar": {
              "outlinewidth": 0,
              "ticks": ""
             }
            },
            "type": "scattercarpet"
           }
          ],
          "scattergeo": [
           {
            "marker": {
             "colorbar": {
              "outlinewidth": 0,
              "ticks": ""
             }
            },
            "type": "scattergeo"
           }
          ],
          "scattergl": [
           {
            "marker": {
             "colorbar": {
              "outlinewidth": 0,
              "ticks": ""
             }
            },
            "type": "scattergl"
           }
          ],
          "scattermapbox": [
           {
            "marker": {
             "colorbar": {
              "outlinewidth": 0,
              "ticks": ""
             }
            },
            "type": "scattermapbox"
           }
          ],
          "scatterpolar": [
           {
            "marker": {
             "colorbar": {
              "outlinewidth": 0,
              "ticks": ""
             }
            },
            "type": "scatterpolar"
           }
          ],
          "scatterpolargl": [
           {
            "marker": {
             "colorbar": {
              "outlinewidth": 0,
              "ticks": ""
             }
            },
            "type": "scatterpolargl"
           }
          ],
          "scatterternary": [
           {
            "marker": {
             "colorbar": {
              "outlinewidth": 0,
              "ticks": ""
             }
            },
            "type": "scatterternary"
           }
          ],
          "surface": [
           {
            "colorbar": {
             "outlinewidth": 0,
             "ticks": ""
            },
            "colorscale": [
             [
              0,
              "#0d0887"
             ],
             [
              0.1111111111111111,
              "#46039f"
             ],
             [
              0.2222222222222222,
              "#7201a8"
             ],
             [
              0.3333333333333333,
              "#9c179e"
             ],
             [
              0.4444444444444444,
              "#bd3786"
             ],
             [
              0.5555555555555556,
              "#d8576b"
             ],
             [
              0.6666666666666666,
              "#ed7953"
             ],
             [
              0.7777777777777778,
              "#fb9f3a"
             ],
             [
              0.8888888888888888,
              "#fdca26"
             ],
             [
              1,
              "#f0f921"
             ]
            ],
            "type": "surface"
           }
          ],
          "table": [
           {
            "cells": {
             "fill": {
              "color": "#EBF0F8"
             },
             "line": {
              "color": "white"
             }
            },
            "header": {
             "fill": {
              "color": "#C8D4E3"
             },
             "line": {
              "color": "white"
             }
            },
            "type": "table"
           }
          ]
         },
         "layout": {
          "annotationdefaults": {
           "arrowcolor": "#2a3f5f",
           "arrowhead": 0,
           "arrowwidth": 1
          },
          "autotypenumbers": "strict",
          "coloraxis": {
           "colorbar": {
            "outlinewidth": 0,
            "ticks": ""
           }
          },
          "colorscale": {
           "diverging": [
            [
             0,
             "#8e0152"
            ],
            [
             0.1,
             "#c51b7d"
            ],
            [
             0.2,
             "#de77ae"
            ],
            [
             0.3,
             "#f1b6da"
            ],
            [
             0.4,
             "#fde0ef"
            ],
            [
             0.5,
             "#f7f7f7"
            ],
            [
             0.6,
             "#e6f5d0"
            ],
            [
             0.7,
             "#b8e186"
            ],
            [
             0.8,
             "#7fbc41"
            ],
            [
             0.9,
             "#4d9221"
            ],
            [
             1,
             "#276419"
            ]
           ],
           "sequential": [
            [
             0,
             "#0d0887"
            ],
            [
             0.1111111111111111,
             "#46039f"
            ],
            [
             0.2222222222222222,
             "#7201a8"
            ],
            [
             0.3333333333333333,
             "#9c179e"
            ],
            [
             0.4444444444444444,
             "#bd3786"
            ],
            [
             0.5555555555555556,
             "#d8576b"
            ],
            [
             0.6666666666666666,
             "#ed7953"
            ],
            [
             0.7777777777777778,
             "#fb9f3a"
            ],
            [
             0.8888888888888888,
             "#fdca26"
            ],
            [
             1,
             "#f0f921"
            ]
           ],
           "sequentialminus": [
            [
             0,
             "#0d0887"
            ],
            [
             0.1111111111111111,
             "#46039f"
            ],
            [
             0.2222222222222222,
             "#7201a8"
            ],
            [
             0.3333333333333333,
             "#9c179e"
            ],
            [
             0.4444444444444444,
             "#bd3786"
            ],
            [
             0.5555555555555556,
             "#d8576b"
            ],
            [
             0.6666666666666666,
             "#ed7953"
            ],
            [
             0.7777777777777778,
             "#fb9f3a"
            ],
            [
             0.8888888888888888,
             "#fdca26"
            ],
            [
             1,
             "#f0f921"
            ]
           ]
          },
          "colorway": [
           "#636efa",
           "#EF553B",
           "#00cc96",
           "#ab63fa",
           "#FFA15A",
           "#19d3f3",
           "#FF6692",
           "#B6E880",
           "#FF97FF",
           "#FECB52"
          ],
          "font": {
           "color": "#2a3f5f"
          },
          "geo": {
           "bgcolor": "white",
           "lakecolor": "white",
           "landcolor": "#E5ECF6",
           "showlakes": true,
           "showland": true,
           "subunitcolor": "white"
          },
          "hoverlabel": {
           "align": "left"
          },
          "hovermode": "closest",
          "mapbox": {
           "style": "light"
          },
          "paper_bgcolor": "white",
          "plot_bgcolor": "#E5ECF6",
          "polar": {
           "angularaxis": {
            "gridcolor": "white",
            "linecolor": "white",
            "ticks": ""
           },
           "bgcolor": "#E5ECF6",
           "radialaxis": {
            "gridcolor": "white",
            "linecolor": "white",
            "ticks": ""
           }
          },
          "scene": {
           "xaxis": {
            "backgroundcolor": "#E5ECF6",
            "gridcolor": "white",
            "gridwidth": 2,
            "linecolor": "white",
            "showbackground": true,
            "ticks": "",
            "zerolinecolor": "white"
           },
           "yaxis": {
            "backgroundcolor": "#E5ECF6",
            "gridcolor": "white",
            "gridwidth": 2,
            "linecolor": "white",
            "showbackground": true,
            "ticks": "",
            "zerolinecolor": "white"
           },
           "zaxis": {
            "backgroundcolor": "#E5ECF6",
            "gridcolor": "white",
            "gridwidth": 2,
            "linecolor": "white",
            "showbackground": true,
            "ticks": "",
            "zerolinecolor": "white"
           }
          },
          "shapedefaults": {
           "line": {
            "color": "#2a3f5f"
           }
          },
          "ternary": {
           "aaxis": {
            "gridcolor": "white",
            "linecolor": "white",
            "ticks": ""
           },
           "baxis": {
            "gridcolor": "white",
            "linecolor": "white",
            "ticks": ""
           },
           "bgcolor": "#E5ECF6",
           "caxis": {
            "gridcolor": "white",
            "linecolor": "white",
            "ticks": ""
           }
          },
          "title": {
           "x": 0.05
          },
          "xaxis": {
           "automargin": true,
           "gridcolor": "white",
           "linecolor": "white",
           "ticks": "",
           "title": {
            "standoff": 15
           },
           "zerolinecolor": "white",
           "zerolinewidth": 2
          },
          "yaxis": {
           "automargin": true,
           "gridcolor": "white",
           "linecolor": "white",
           "ticks": "",
           "title": {
            "standoff": 15
           },
           "zerolinecolor": "white",
           "zerolinewidth": 2
          }
         }
        },
        "title": {
         "text": "Procurement Business Overview Dashboard"
        },
        "xaxis": {
         "anchor": "y",
         "domain": [
          0.55,
          1
         ]
        },
        "xaxis2": {
         "anchor": "y2",
         "domain": [
          0,
          0.45
         ]
        },
        "xaxis3": {
         "anchor": "y3",
         "domain": [
          0.55,
          1
         ]
        },
        "yaxis": {
         "anchor": "x",
         "domain": [
          0.625,
          1
         ]
        },
        "yaxis2": {
         "anchor": "x2",
         "domain": [
          0,
          0.375
         ]
        },
        "yaxis3": {
         "anchor": "x3",
         "domain": [
          0,
          0.375
         ]
        }
       }
      }
     },
     "metadata": {},
     "output_type": "display_data"
    }
   ],
   "source": [
    "fig = make_subplots(\n",
    "    rows=2, cols=2,\n",
    "    subplot_titles=('ABC Category Distribution', 'Stock Status Overview', \n",
    "                   'Revenue by Product Category', 'Procurement Priority Distribution'),\n",
    "    specs=[[{\"type\": \"pie\"}, {\"type\": \"bar\"}],\n",
    "           [{\"type\": \"bar\"}, {\"type\": \"histogram\"}]]\n",
    ")\n",
    "\n",
    "# ABC Category Distribution (Pie Chart)\n",
    "abc_counts = procurement_df['ABC_Category'].value_counts()\n",
    "fig.add_trace(\n",
    "    go.Pie(labels=abc_counts.index, values=abc_counts.values, name=\"ABC Categories\"),\n",
    "    row=1, col=1\n",
    ")\n",
    "\n",
    "# Stock Status Overview (Bar Chart)\n",
    "stock_counts = procurement_df['Stock_Status'].value_counts()\n",
    "colors = ['red' if status == 'Stockout' else 'orange' if status == 'Reorder_Required' \n",
    "          else 'blue' if status == 'Overstock' else 'green' for status in stock_counts.index]\n",
    "\n",
    "fig.add_trace(\n",
    "    go.Bar(x=stock_counts.index, y=stock_counts.values, name=\"Stock Status\",\n",
    "           marker_color=colors),\n",
    "    row=1, col=2\n",
    ")\n",
    "\n",
    "# Revenue by Department (Bar Chart)\n",
    "dept_revenue = orders_df.groupby('Product Department')['Gross Sales'].sum().sort_values(ascending=False).head(10)\n",
    "fig.add_trace(\n",
    "    go.Bar(x=dept_revenue.index, y=dept_revenue.values, name=\"Revenue by Department\",\n",
    "           marker_color='lightblue'),\n",
    "    row=2, col=1\n",
    ")\n",
    "\n",
    "# Procurement Priority Distribution (Histogram)\n",
    "fig.add_trace(\n",
    "    go.Histogram(x=procurement_df['Procurement_Priority_Score'], name=\"Priority Score\",\n",
    "                nbinsx=30, marker_color='purple'),\n",
    "    row=2, col=2\n",
    ")\n",
    "\n",
    "fig.update_layout(height=800, showlegend=False, title_text=\"Procurement Business Overview Dashboard\")\n",
    "fig.show()"
   ]
  },
  {
   "cell_type": "code",
   "execution_count": 24,
   "metadata": {},
   "outputs": [
    {
     "data": {
      "application/vnd.plotly.v1+json": {
       "config": {
        "plotlyServerURL": "https://plot.ly"
       },
       "data": [
        {
         "line": {
          "color": "blue",
          "width": 3
         },
         "mode": "lines+markers",
         "name": "Order Volume",
         "type": "scatter",
         "x": [
          "2015-01-01T00:00:00",
          "2015-02-01T00:00:00",
          "2015-03-01T00:00:00",
          "2015-04-01T00:00:00",
          "2015-05-01T00:00:00",
          "2015-06-01T00:00:00",
          "2015-07-01T00:00:00",
          "2015-08-01T00:00:00",
          "2015-09-01T00:00:00",
          "2015-10-01T00:00:00",
          "2015-11-01T00:00:00",
          "2015-12-01T00:00:00",
          "2016-01-01T00:00:00",
          "2016-02-01T00:00:00",
          "2016-03-01T00:00:00",
          "2016-04-01T00:00:00",
          "2016-05-01T00:00:00",
          "2016-06-01T00:00:00",
          "2016-07-01T00:00:00",
          "2016-08-01T00:00:00",
          "2016-09-01T00:00:00",
          "2016-10-01T00:00:00",
          "2016-11-01T00:00:00",
          "2016-12-01T00:00:00",
          "2017-01-01T00:00:00",
          "2017-02-01T00:00:00",
          "2017-03-01T00:00:00",
          "2017-04-01T00:00:00",
          "2017-05-01T00:00:00",
          "2017-06-01T00:00:00",
          "2017-07-01T00:00:00",
          "2017-08-01T00:00:00",
          "2017-09-01T00:00:00",
          "2017-10-01T00:00:00",
          "2017-11-01T00:00:00",
          "2017-12-01T00:00:00"
         ],
         "xaxis": "x",
         "y": [
          2243,
          1929,
          2146,
          2114,
          1760,
          1897,
          1981,
          1837,
          1821,
          1908,
          1968,
          1838,
          2070,
          1853,
          1936,
          2001,
          2198,
          1875,
          2168,
          2262,
          1928,
          2324,
          2079,
          2010,
          1902,
          2142,
          1932,
          1873,
          1922,
          1784,
          1896,
          1821,
          1907,
          371,
          348,
          323
         ],
         "yaxis": "y"
        },
        {
         "line": {
          "color": "green",
          "width": 3
         },
         "mode": "lines+markers",
         "name": "Revenue",
         "type": "scatter",
         "x": [
          "2015-01-01T00:00:00",
          "2015-02-01T00:00:00",
          "2015-03-01T00:00:00",
          "2015-04-01T00:00:00",
          "2015-05-01T00:00:00",
          "2015-06-01T00:00:00",
          "2015-07-01T00:00:00",
          "2015-08-01T00:00:00",
          "2015-09-01T00:00:00",
          "2015-10-01T00:00:00",
          "2015-11-01T00:00:00",
          "2015-12-01T00:00:00",
          "2016-01-01T00:00:00",
          "2016-02-01T00:00:00",
          "2016-03-01T00:00:00",
          "2016-04-01T00:00:00",
          "2016-05-01T00:00:00",
          "2016-06-01T00:00:00",
          "2016-07-01T00:00:00",
          "2016-08-01T00:00:00",
          "2016-09-01T00:00:00",
          "2016-10-01T00:00:00",
          "2016-11-01T00:00:00",
          "2016-12-01T00:00:00",
          "2017-01-01T00:00:00",
          "2017-02-01T00:00:00",
          "2017-03-01T00:00:00",
          "2017-04-01T00:00:00",
          "2017-05-01T00:00:00",
          "2017-06-01T00:00:00",
          "2017-07-01T00:00:00",
          "2017-08-01T00:00:00",
          "2017-09-01T00:00:00",
          "2017-10-01T00:00:00",
          "2017-11-01T00:00:00",
          "2017-12-01T00:00:00"
         ],
         "xaxis": "x2",
         "y": [
          194792,
          177835,
          180387,
          185757,
          160554,
          174748,
          172124,
          176947,
          167648,
          181203,
          169121,
          171463,
          193825,
          163495,
          174607,
          177073,
          187525,
          168450,
          199063,
          203949,
          172991,
          199842,
          196108,
          176422,
          161730,
          184755,
          171889,
          173091,
          183268,
          182309,
          189340,
          181159,
          200518,
          96605,
          84814,
          46069
         ],
         "yaxis": "y2"
        },
        {
         "marker": {
          "color": "orange"
         },
         "name": "Monthly Volume",
         "type": "bar",
         "x": [
          1,
          2,
          3,
          4,
          5,
          6,
          7,
          8,
          9,
          10,
          11,
          12
         ],
         "xaxis": "x3",
         "y": [
          6215,
          5924,
          6014,
          5988,
          5880,
          5556,
          6045,
          5920,
          5656,
          4603,
          4395,
          4171
         ],
         "yaxis": "y3"
        },
        {
         "marker": {
          "color": "purple"
         },
         "name": "Weekly Volume",
         "type": "bar",
         "x": [
          "Monday",
          "Tuesday",
          "Wednesday",
          "Thursday",
          "Friday",
          "Saturday",
          "Sunday"
         ],
         "xaxis": "x4",
         "y": [
          9152,
          9536,
          9472,
          9311,
          9639,
          9589,
          9668
         ],
         "yaxis": "y4"
        }
       ],
       "layout": {
        "annotations": [
         {
          "font": {
           "size": 16
          },
          "showarrow": false,
          "text": "Monthly Order Volume Trend",
          "x": 0.225,
          "xanchor": "center",
          "xref": "paper",
          "y": 1,
          "yanchor": "bottom",
          "yref": "paper"
         },
         {
          "font": {
           "size": 16
          },
          "showarrow": false,
          "text": "Monthly Revenue Trend",
          "x": 0.775,
          "xanchor": "center",
          "xref": "paper",
          "y": 1,
          "yanchor": "bottom",
          "yref": "paper"
         },
         {
          "font": {
           "size": 16
          },
          "showarrow": false,
          "text": "Seasonal Patterns (by Month)",
          "x": 0.225,
          "xanchor": "center",
          "xref": "paper",
          "y": 0.375,
          "yanchor": "bottom",
          "yref": "paper"
         },
         {
          "font": {
           "size": 16
          },
          "showarrow": false,
          "text": "Weekly Patterns",
          "x": 0.775,
          "xanchor": "center",
          "xref": "paper",
          "y": 0.375,
          "yanchor": "bottom",
          "yref": "paper"
         }
        ],
        "height": 800,
        "showlegend": false,
        "template": {
         "data": {
          "bar": [
           {
            "error_x": {
             "color": "#2a3f5f"
            },
            "error_y": {
             "color": "#2a3f5f"
            },
            "marker": {
             "line": {
              "color": "#E5ECF6",
              "width": 0.5
             },
             "pattern": {
              "fillmode": "overlay",
              "size": 10,
              "solidity": 0.2
             }
            },
            "type": "bar"
           }
          ],
          "barpolar": [
           {
            "marker": {
             "line": {
              "color": "#E5ECF6",
              "width": 0.5
             },
             "pattern": {
              "fillmode": "overlay",
              "size": 10,
              "solidity": 0.2
             }
            },
            "type": "barpolar"
           }
          ],
          "carpet": [
           {
            "aaxis": {
             "endlinecolor": "#2a3f5f",
             "gridcolor": "white",
             "linecolor": "white",
             "minorgridcolor": "white",
             "startlinecolor": "#2a3f5f"
            },
            "baxis": {
             "endlinecolor": "#2a3f5f",
             "gridcolor": "white",
             "linecolor": "white",
             "minorgridcolor": "white",
             "startlinecolor": "#2a3f5f"
            },
            "type": "carpet"
           }
          ],
          "choropleth": [
           {
            "colorbar": {
             "outlinewidth": 0,
             "ticks": ""
            },
            "type": "choropleth"
           }
          ],
          "contour": [
           {
            "colorbar": {
             "outlinewidth": 0,
             "ticks": ""
            },
            "colorscale": [
             [
              0,
              "#0d0887"
             ],
             [
              0.1111111111111111,
              "#46039f"
             ],
             [
              0.2222222222222222,
              "#7201a8"
             ],
             [
              0.3333333333333333,
              "#9c179e"
             ],
             [
              0.4444444444444444,
              "#bd3786"
             ],
             [
              0.5555555555555556,
              "#d8576b"
             ],
             [
              0.6666666666666666,
              "#ed7953"
             ],
             [
              0.7777777777777778,
              "#fb9f3a"
             ],
             [
              0.8888888888888888,
              "#fdca26"
             ],
             [
              1,
              "#f0f921"
             ]
            ],
            "type": "contour"
           }
          ],
          "contourcarpet": [
           {
            "colorbar": {
             "outlinewidth": 0,
             "ticks": ""
            },
            "type": "contourcarpet"
           }
          ],
          "heatmap": [
           {
            "colorbar": {
             "outlinewidth": 0,
             "ticks": ""
            },
            "colorscale": [
             [
              0,
              "#0d0887"
             ],
             [
              0.1111111111111111,
              "#46039f"
             ],
             [
              0.2222222222222222,
              "#7201a8"
             ],
             [
              0.3333333333333333,
              "#9c179e"
             ],
             [
              0.4444444444444444,
              "#bd3786"
             ],
             [
              0.5555555555555556,
              "#d8576b"
             ],
             [
              0.6666666666666666,
              "#ed7953"
             ],
             [
              0.7777777777777778,
              "#fb9f3a"
             ],
             [
              0.8888888888888888,
              "#fdca26"
             ],
             [
              1,
              "#f0f921"
             ]
            ],
            "type": "heatmap"
           }
          ],
          "heatmapgl": [
           {
            "colorbar": {
             "outlinewidth": 0,
             "ticks": ""
            },
            "colorscale": [
             [
              0,
              "#0d0887"
             ],
             [
              0.1111111111111111,
              "#46039f"
             ],
             [
              0.2222222222222222,
              "#7201a8"
             ],
             [
              0.3333333333333333,
              "#9c179e"
             ],
             [
              0.4444444444444444,
              "#bd3786"
             ],
             [
              0.5555555555555556,
              "#d8576b"
             ],
             [
              0.6666666666666666,
              "#ed7953"
             ],
             [
              0.7777777777777778,
              "#fb9f3a"
             ],
             [
              0.8888888888888888,
              "#fdca26"
             ],
             [
              1,
              "#f0f921"
             ]
            ],
            "type": "heatmapgl"
           }
          ],
          "histogram": [
           {
            "marker": {
             "pattern": {
              "fillmode": "overlay",
              "size": 10,
              "solidity": 0.2
             }
            },
            "type": "histogram"
           }
          ],
          "histogram2d": [
           {
            "colorbar": {
             "outlinewidth": 0,
             "ticks": ""
            },
            "colorscale": [
             [
              0,
              "#0d0887"
             ],
             [
              0.1111111111111111,
              "#46039f"
             ],
             [
              0.2222222222222222,
              "#7201a8"
             ],
             [
              0.3333333333333333,
              "#9c179e"
             ],
             [
              0.4444444444444444,
              "#bd3786"
             ],
             [
              0.5555555555555556,
              "#d8576b"
             ],
             [
              0.6666666666666666,
              "#ed7953"
             ],
             [
              0.7777777777777778,
              "#fb9f3a"
             ],
             [
              0.8888888888888888,
              "#fdca26"
             ],
             [
              1,
              "#f0f921"
             ]
            ],
            "type": "histogram2d"
           }
          ],
          "histogram2dcontour": [
           {
            "colorbar": {
             "outlinewidth": 0,
             "ticks": ""
            },
            "colorscale": [
             [
              0,
              "#0d0887"
             ],
             [
              0.1111111111111111,
              "#46039f"
             ],
             [
              0.2222222222222222,
              "#7201a8"
             ],
             [
              0.3333333333333333,
              "#9c179e"
             ],
             [
              0.4444444444444444,
              "#bd3786"
             ],
             [
              0.5555555555555556,
              "#d8576b"
             ],
             [
              0.6666666666666666,
              "#ed7953"
             ],
             [
              0.7777777777777778,
              "#fb9f3a"
             ],
             [
              0.8888888888888888,
              "#fdca26"
             ],
             [
              1,
              "#f0f921"
             ]
            ],
            "type": "histogram2dcontour"
           }
          ],
          "mesh3d": [
           {
            "colorbar": {
             "outlinewidth": 0,
             "ticks": ""
            },
            "type": "mesh3d"
           }
          ],
          "parcoords": [
           {
            "line": {
             "colorbar": {
              "outlinewidth": 0,
              "ticks": ""
             }
            },
            "type": "parcoords"
           }
          ],
          "pie": [
           {
            "automargin": true,
            "type": "pie"
           }
          ],
          "scatter": [
           {
            "fillpattern": {
             "fillmode": "overlay",
             "size": 10,
             "solidity": 0.2
            },
            "type": "scatter"
           }
          ],
          "scatter3d": [
           {
            "line": {
             "colorbar": {
              "outlinewidth": 0,
              "ticks": ""
             }
            },
            "marker": {
             "colorbar": {
              "outlinewidth": 0,
              "ticks": ""
             }
            },
            "type": "scatter3d"
           }
          ],
          "scattercarpet": [
           {
            "marker": {
             "colorbar": {
              "outlinewidth": 0,
              "ticks": ""
             }
            },
            "type": "scattercarpet"
           }
          ],
          "scattergeo": [
           {
            "marker": {
             "colorbar": {
              "outlinewidth": 0,
              "ticks": ""
             }
            },
            "type": "scattergeo"
           }
          ],
          "scattergl": [
           {
            "marker": {
             "colorbar": {
              "outlinewidth": 0,
              "ticks": ""
             }
            },
            "type": "scattergl"
           }
          ],
          "scattermapbox": [
           {
            "marker": {
             "colorbar": {
              "outlinewidth": 0,
              "ticks": ""
             }
            },
            "type": "scattermapbox"
           }
          ],
          "scatterpolar": [
           {
            "marker": {
             "colorbar": {
              "outlinewidth": 0,
              "ticks": ""
             }
            },
            "type": "scatterpolar"
           }
          ],
          "scatterpolargl": [
           {
            "marker": {
             "colorbar": {
              "outlinewidth": 0,
              "ticks": ""
             }
            },
            "type": "scatterpolargl"
           }
          ],
          "scatterternary": [
           {
            "marker": {
             "colorbar": {
              "outlinewidth": 0,
              "ticks": ""
             }
            },
            "type": "scatterternary"
           }
          ],
          "surface": [
           {
            "colorbar": {
             "outlinewidth": 0,
             "ticks": ""
            },
            "colorscale": [
             [
              0,
              "#0d0887"
             ],
             [
              0.1111111111111111,
              "#46039f"
             ],
             [
              0.2222222222222222,
              "#7201a8"
             ],
             [
              0.3333333333333333,
              "#9c179e"
             ],
             [
              0.4444444444444444,
              "#bd3786"
             ],
             [
              0.5555555555555556,
              "#d8576b"
             ],
             [
              0.6666666666666666,
              "#ed7953"
             ],
             [
              0.7777777777777778,
              "#fb9f3a"
             ],
             [
              0.8888888888888888,
              "#fdca26"
             ],
             [
              1,
              "#f0f921"
             ]
            ],
            "type": "surface"
           }
          ],
          "table": [
           {
            "cells": {
             "fill": {
              "color": "#EBF0F8"
             },
             "line": {
              "color": "white"
             }
            },
            "header": {
             "fill": {
              "color": "#C8D4E3"
             },
             "line": {
              "color": "white"
             }
            },
            "type": "table"
           }
          ]
         },
         "layout": {
          "annotationdefaults": {
           "arrowcolor": "#2a3f5f",
           "arrowhead": 0,
           "arrowwidth": 1
          },
          "autotypenumbers": "strict",
          "coloraxis": {
           "colorbar": {
            "outlinewidth": 0,
            "ticks": ""
           }
          },
          "colorscale": {
           "diverging": [
            [
             0,
             "#8e0152"
            ],
            [
             0.1,
             "#c51b7d"
            ],
            [
             0.2,
             "#de77ae"
            ],
            [
             0.3,
             "#f1b6da"
            ],
            [
             0.4,
             "#fde0ef"
            ],
            [
             0.5,
             "#f7f7f7"
            ],
            [
             0.6,
             "#e6f5d0"
            ],
            [
             0.7,
             "#b8e186"
            ],
            [
             0.8,
             "#7fbc41"
            ],
            [
             0.9,
             "#4d9221"
            ],
            [
             1,
             "#276419"
            ]
           ],
           "sequential": [
            [
             0,
             "#0d0887"
            ],
            [
             0.1111111111111111,
             "#46039f"
            ],
            [
             0.2222222222222222,
             "#7201a8"
            ],
            [
             0.3333333333333333,
             "#9c179e"
            ],
            [
             0.4444444444444444,
             "#bd3786"
            ],
            [
             0.5555555555555556,
             "#d8576b"
            ],
            [
             0.6666666666666666,
             "#ed7953"
            ],
            [
             0.7777777777777778,
             "#fb9f3a"
            ],
            [
             0.8888888888888888,
             "#fdca26"
            ],
            [
             1,
             "#f0f921"
            ]
           ],
           "sequentialminus": [
            [
             0,
             "#0d0887"
            ],
            [
             0.1111111111111111,
             "#46039f"
            ],
            [
             0.2222222222222222,
             "#7201a8"
            ],
            [
             0.3333333333333333,
             "#9c179e"
            ],
            [
             0.4444444444444444,
             "#bd3786"
            ],
            [
             0.5555555555555556,
             "#d8576b"
            ],
            [
             0.6666666666666666,
             "#ed7953"
            ],
            [
             0.7777777777777778,
             "#fb9f3a"
            ],
            [
             0.8888888888888888,
             "#fdca26"
            ],
            [
             1,
             "#f0f921"
            ]
           ]
          },
          "colorway": [
           "#636efa",
           "#EF553B",
           "#00cc96",
           "#ab63fa",
           "#FFA15A",
           "#19d3f3",
           "#FF6692",
           "#B6E880",
           "#FF97FF",
           "#FECB52"
          ],
          "font": {
           "color": "#2a3f5f"
          },
          "geo": {
           "bgcolor": "white",
           "lakecolor": "white",
           "landcolor": "#E5ECF6",
           "showlakes": true,
           "showland": true,
           "subunitcolor": "white"
          },
          "hoverlabel": {
           "align": "left"
          },
          "hovermode": "closest",
          "mapbox": {
           "style": "light"
          },
          "paper_bgcolor": "white",
          "plot_bgcolor": "#E5ECF6",
          "polar": {
           "angularaxis": {
            "gridcolor": "white",
            "linecolor": "white",
            "ticks": ""
           },
           "bgcolor": "#E5ECF6",
           "radialaxis": {
            "gridcolor": "white",
            "linecolor": "white",
            "ticks": ""
           }
          },
          "scene": {
           "xaxis": {
            "backgroundcolor": "#E5ECF6",
            "gridcolor": "white",
            "gridwidth": 2,
            "linecolor": "white",
            "showbackground": true,
            "ticks": "",
            "zerolinecolor": "white"
           },
           "yaxis": {
            "backgroundcolor": "#E5ECF6",
            "gridcolor": "white",
            "gridwidth": 2,
            "linecolor": "white",
            "showbackground": true,
            "ticks": "",
            "zerolinecolor": "white"
           },
           "zaxis": {
            "backgroundcolor": "#E5ECF6",
            "gridcolor": "white",
            "gridwidth": 2,
            "linecolor": "white",
            "showbackground": true,
            "ticks": "",
            "zerolinecolor": "white"
           }
          },
          "shapedefaults": {
           "line": {
            "color": "#2a3f5f"
           }
          },
          "ternary": {
           "aaxis": {
            "gridcolor": "white",
            "linecolor": "white",
            "ticks": ""
           },
           "baxis": {
            "gridcolor": "white",
            "linecolor": "white",
            "ticks": ""
           },
           "bgcolor": "#E5ECF6",
           "caxis": {
            "gridcolor": "white",
            "linecolor": "white",
            "ticks": ""
           }
          },
          "title": {
           "x": 0.05
          },
          "xaxis": {
           "automargin": true,
           "gridcolor": "white",
           "linecolor": "white",
           "ticks": "",
           "title": {
            "standoff": 15
           },
           "zerolinecolor": "white",
           "zerolinewidth": 2
          },
          "yaxis": {
           "automargin": true,
           "gridcolor": "white",
           "linecolor": "white",
           "ticks": "",
           "title": {
            "standoff": 15
           },
           "zerolinecolor": "white",
           "zerolinewidth": 2
          }
         }
        },
        "title": {
         "text": "Temporal Analysis Dashboard"
        },
        "xaxis": {
         "anchor": "y",
         "domain": [
          0,
          0.45
         ]
        },
        "xaxis2": {
         "anchor": "y2",
         "domain": [
          0.55,
          1
         ]
        },
        "xaxis3": {
         "anchor": "y3",
         "domain": [
          0,
          0.45
         ]
        },
        "xaxis4": {
         "anchor": "y4",
         "domain": [
          0.55,
          1
         ]
        },
        "yaxis": {
         "anchor": "x",
         "domain": [
          0.625,
          1
         ]
        },
        "yaxis2": {
         "anchor": "x2",
         "domain": [
          0.625,
          1
         ]
        },
        "yaxis3": {
         "anchor": "x3",
         "domain": [
          0,
          0.375
         ]
        },
        "yaxis4": {
         "anchor": "x4",
         "domain": [
          0,
          0.375
         ]
        }
       }
      }
     },
     "metadata": {},
     "output_type": "display_data"
    }
   ],
   "source": [
    "monthly_data = orders_df.groupby(orders_df['Order_Date'].dt.to_period('M')).agg({\n",
    "    'Order Quantity': 'sum',\n",
    "    'Gross Sales': 'sum',\n",
    "    'Order ID': 'nunique'\n",
    "}).reset_index()\n",
    "monthly_data['Order_Date'] = monthly_data['Order_Date'].dt.to_timestamp()\n",
    "\n",
    "# Create temporal analysis dashboard\n",
    "fig = make_subplots(\n",
    "    rows=2, cols=2,\n",
    "    subplot_titles=('Monthly Order Volume Trend', 'Monthly Revenue Trend',\n",
    "                   'Seasonal Patterns (by Month)', 'Weekly Patterns'),\n",
    "    specs=[[{\"secondary_y\": False}, {\"secondary_y\": False}],\n",
    "           [{\"type\": \"bar\"}, {\"type\": \"bar\"}]]\n",
    ")\n",
    "\n",
    "# Monthly Order Volume\n",
    "fig.add_trace(\n",
    "    go.Scatter(x=monthly_data['Order_Date'], y=monthly_data['Order Quantity'],\n",
    "              mode='lines+markers', name='Order Volume', line=dict(color='blue', width=3)),\n",
    "    row=1, col=1\n",
    ")\n",
    "\n",
    "# Monthly Revenue\n",
    "fig.add_trace(\n",
    "    go.Scatter(x=monthly_data['Order_Date'], y=monthly_data['Gross Sales'],\n",
    "              mode='lines+markers', name='Revenue', line=dict(color='green', width=3)),\n",
    "    row=1, col=2\n",
    ")\n",
    "\n",
    "# Seasonal patterns by month\n",
    "orders_df['Month'] = orders_df['Order_Date'].dt.month\n",
    "monthly_seasonal = orders_df.groupby('Month')['Order Quantity'].sum()\n",
    "fig.add_trace(\n",
    "    go.Bar(x=monthly_seasonal.index, y=monthly_seasonal.values, name='Monthly Volume',\n",
    "           marker_color='orange'),\n",
    "    row=2, col=1\n",
    ")\n",
    "\n",
    "# Weekly patterns\n",
    "orders_df['Day_of_Week'] = orders_df['Order_Date'].dt.day_name()\n",
    "day_order = ['Monday', 'Tuesday', 'Wednesday', 'Thursday', 'Friday', 'Saturday', 'Sunday']\n",
    "weekly_patterns = orders_df.groupby('Day_of_Week')['Order Quantity'].sum().reindex(day_order)\n",
    "fig.add_trace(\n",
    "    go.Bar(x=weekly_patterns.index, y=weekly_patterns.values, name='Weekly Volume',\n",
    "           marker_color='purple'),\n",
    "    row=2, col=2\n",
    ")\n",
    "\n",
    "fig.update_layout(height=800, showlegend=False, title_text=\"Temporal Analysis Dashboard\")\n",
    "fig.show()"
   ]
  },
  {
   "cell_type": "code",
   "execution_count": 25,
   "metadata": {},
   "outputs": [
    {
     "data": {
      "application/vnd.plotly.v1+json": {
       "config": {
        "plotlyServerURL": "https://plot.ly"
       },
       "data": [
        {
         "marker": {
          "color": [
           "blue",
           "red",
           "red",
           "red",
           "red",
           "red",
           "red",
           "red",
           "red",
           "red",
           "red",
           "red",
           "red",
           "red",
           "red",
           "blue",
           "red",
           "red",
           "red",
           "red",
           "red",
           "red",
           "blue",
           "blue",
           "red",
           "red",
           "red",
           "red",
           "red",
           "red",
           "red",
           "green",
           "red",
           "red",
           "red",
           "red",
           "red",
           "red",
           "red",
           "red",
           "red",
           "red",
           "red",
           "blue",
           "red",
           "blue",
           "red",
           "red",
           "red",
           "red",
           "red",
           "red",
           "red",
           "red",
           "red",
           "red",
           "green",
           "red",
           "orange",
           "red",
           "red",
           "red",
           "red",
           "red",
           "red",
           "red",
           "red",
           "red",
           "red",
           "red",
           "red",
           "red",
           "blue",
           "blue",
           "blue",
           "red",
           "blue",
           "red",
           "red",
           "red",
           "red",
           "red",
           "red",
           "red",
           "red",
           "red",
           "orange",
           "red",
           "red",
           "red",
           "red",
           "red",
           "red",
           "red",
           "red",
           "red",
           "blue",
           "red",
           "orange",
           "red",
           "red",
           "red",
           "red",
           "green",
           "red",
           "red",
           "red",
           "red",
           "red",
           "red",
           "red",
           "red",
           "red",
           "blue",
           "blue",
           "blue",
           "blue",
           "blue"
          ],
          "opacity": 0.6,
          "size": 8
         },
         "mode": "markers",
         "name": "Inventory vs Reorder Point",
         "text": [
          "Adult dog supplies",
          "Baby sweater",
          "Bag Boy Beverage Holder",
          "Bag Boy M330 Push Cart",
          "Bridgestone e6 Straight Distan",
          "Bridgestone e6 Straight Distan",
          "Bridgestone e6 Straight Distan",
          "Brooks Women's Ghost 6 Running",
          "CDs of rock",
          "Children's heaters",
          "Cleveland Golf Collegiate My C",
          "Cleveland Golf Women's 588 RTX",
          "Clicgear 8.0 Shoe Brush",
          "Clicgear Rovic Cooler Bag",
          "Columbia Men's PFG Anchor Toug",
          "DVDs",
          "Diamondback Boys' Insight 24 P",
          "Diamondback Girls' Clarity 24 ",
          "Diamondback Women's Serene Cla",
          "ENO Atlas Hammock Straps",
          "Elevation Training Mask 2.0",
          "Field & Stream Sportsman 16 Gu",
          "Fighting video games",
          "First aid kit",
          "Fitbit The One Wireless Activi",
          "Garmin Approach S3 Golf GPS Wa",
          "Garmin Approach S4 Golf GPS Wa",
          "Garmin Forerunner 910XT GPS Wa",
          "Glove It Imperial Golf Towel",
          "Glove It Urban Brick Golf Towe",
          "Glove It Women's Imperial Golf",
          "Glove It Women's Mod Oval 3-Zi",
          "Glove It Women's Mod Oval Golf",
          "GoPro HERO3+ Black Edition Cam",
          "GolfBuddy VT3 GPS Watch",
          "Hirzl Men's Hybrid Golf Glove",
          "Hirzl Women's Hybrid Golf Glov",
          "Hirzl Women's Soffft Flex Golf",
          "Industrial consumer electronic",
          "LIJA Women's Argyle Golf Polo",
          "LIJA Women's Button Golf Dress",
          "LIJA Women's Eyelet Sleeveless",
          "LIJA Women's Mid-Length Panel ",
          "Lawn mower",
          "MDGolf Pittsburgh Penguins Put",
          "Men's gala suit",
          "Merrell Men's All Out Flash Tr",
          "Merrell Women's Grassbow Sport",
          "Merrell Women's Grassbow Sport",
          "Merrell Women's Siren Mid Wate",
          "Mio ALPHA Heart Rate Monitor/S",
          "Nike Dri-FIT Crew Sock 6 Pack",
          "Nike Kids' Grade School KD VI ",
          "Nike Men's CJ Elite 2 TD Footb",
          "Nike Men's Comfort 2 Slide",
          "Nike Men's Deutschland Weltmei",
          "Nike Men's Dri-FIT Victory Gol",
          "Nike Men's Fingertrap Max Trai",
          "Nike Men's Free 5.0+ Running S",
          "Nike Men's Free TR 5.0 TB Trai",
          "Nike Men's Kobe IX Elite Low B",
          "Nike Women's Free 5.0 TR FIT P",
          "Nike Women's Legend V-Neck T-S",
          "Nike Women's Tempo Shorts",
          "O'Brien Men's Neoprene Life Ve",
          "Ogio Race Golf Shoes",
          "Pelican Maverick 100X Kayak",
          "Pelican Sunstream 100 Kayak",
          "Perfect Fitness Perfect Rip De",
          "Polar FT4 Heart Rate Monitor",
          "Polar Loop Activity Tracker",
          "Porcelain crafts",
          "Rock music",
          "Smart watch",
          "Sports Books",
          "Stiga Master Series ST3100 Com",
          "Summer dresses",
          "TYR Boys' Team Digi Jammer",
          "TaylorMade 2017 Purelite Stand",
          "TaylorMade White Smoke IN-12 P",
          "TaylorMade Women's RBZ SL Resc",
          "Team Golf New England Patriots",
          "Team Golf Pittsburgh Steelers ",
          "Team Golf San Francisco Giants",
          "Team Golf St. Louis Cardinals ",
          "Team Golf Tennessee Volunteers",
          "Team Golf Texas Longhorns Putt",
          "The North Face Women's Recon B",
          "Titleist Club Glove Travel Cov",
          "Titleist Pro V1 High Numbers P",
          "Titleist Pro V1x Golf Balls",
          "Titleist Pro V1x High Numbers ",
          "Titleist Pro V1x High Numbers ",
          "Titleist Small Wheeled Travel ",
          "Top Flite Women's 2017 XL Hybr",
          "Total Gym 1400",
          "Toys",
          "Under Armour Girls' Toddler Sp",
          "Under Armour Hustle Storm Medi",
          "Under Armour Kids' Mercenary S",
          "Under Armour Men's Compression",
          "Under Armour Men's Tech II T-S",
          "Under Armour Women's Ignite PI",
          "Under Armour Women's Ignite Sl",
          "Under Armour Women's Micro G S",
          "Web Camera",
          "Yakima DoubleDown Ace Hitch Mo",
          "adidas Brazuca 2017 Official M",
          "adidas Kids' F5 Messi FG Socce",
          "adidas Men's F10 Messi TRX FG ",
          "adidas Men's Germany Black Cre",
          "adidas Youth Germany Black/Red",
          "insta-bed Neverflat Air Mattre",
          "Bowflex SelectTech 1090 Dumbbe",
          "Bushnell Pro X7 Jolt Slope Ran",
          "Dell Laptop",
          "SOLE E25 Elliptical",
          "SOLE E35 Elliptical"
         ],
         "type": "scatter",
         "x": [
          0.23,
          0.2633333333333333,
          1.8621313867315303,
          2.1332062142050203,
          1.483615972792746,
          1.164866165810519,
          2.358806563961156,
          1.384198574803091,
          0.1166666666666666,
          0.09,
          0.1833333333333333,
          0.25,
          1.577661845106026,
          1.843610328470825,
          2.245312922139465,
          0.2199999999999999,
          0.1433333333333333,
          0.0333333333333333,
          0.23,
          0.8497915152114326,
          2.3481211574714718,
          0.1633333333333333,
          0.2933333333333333,
          0.0766666666666666,
          0.7297982124422997,
          0.15,
          0.14,
          0.1866666666666666,
          2.060887940261217,
          1.070279574624691,
          1.855146188523373,
          1.179072357094562,
          1.5505842117212931,
          0.18,
          0.2233333333333333,
          1.4973114826229652,
          1.690250453859263,
          2.001458676453073,
          0.1766666666666666,
          1.130915700707509,
          0.0466666666666666,
          2.294117705418862,
          1.632508384888924,
          0.07,
          1.9918746389557052,
          0.2166666666666666,
          0.2266666666666666,
          1.1131354284250563,
          0.2,
          0.1666666666666666,
          0.0433333333333333,
          1.6803178510114876,
          2.100828319774104,
          0.2333333333333333,
          1.6090367327841657,
          1.807747200743755,
          1.7645857485487433,
          0.2333333333333333,
          2.2728396471217867,
          1.1510207298944777,
          0.06,
          0.7369062964263771,
          0.9734916730297344,
          0.8918232243153137,
          1.5470777424725453,
          0.2199999999999999,
          0.0766666666666666,
          0.06,
          2.0588757247498424,
          0.9718804186267902,
          0.0466666666666666,
          0.2366666666666666,
          0.31,
          0.3033333333333333,
          0.1733333333333333,
          0.1566666666666666,
          0.23,
          2.002566292308962,
          0.1566666666666666,
          1.3127336867853927,
          0.2199999999999999,
          2.0504428871824008,
          2.2498226445145484,
          0.8577972570809973,
          1.545624323665247,
          0.7410779270772723,
          2.0534695134377574,
          1.232624615671446,
          0.1733333333333333,
          1.1127894733029042,
          2.27773446230731,
          1.5046032194408605,
          1.310688,
          0.1433333333333333,
          1.602796839990475,
          0.0433333333333333,
          0.1233333333333333,
          1.709122747922177,
          1.5224898475260118,
          1.332354000206085,
          1.1600778063225443,
          1.2876933608750798,
          1.252131784014492,
          1.0553673110612705,
          1.864495,
          0.1166666666666666,
          0.2633333333333333,
          0.31,
          0.820044,
          1.5805354370954987,
          0.5398198346999651,
          1.5086799206736794,
          0.14,
          0,
          0,
          0,
          0,
          0
         ],
         "xaxis": "x",
         "y": [
          2,
          0,
          0,
          0,
          0,
          0,
          0,
          0,
          0,
          0,
          0,
          0,
          0,
          0,
          0,
          64,
          0,
          0,
          0,
          0,
          0,
          0,
          4,
          18,
          0,
          0,
          0,
          0,
          0,
          0,
          0,
          2,
          0,
          0,
          0,
          0,
          0,
          0,
          0,
          0,
          0,
          0,
          0,
          4,
          0,
          3,
          0,
          0,
          0,
          0,
          0,
          0,
          0,
          0,
          0,
          0,
          2,
          0,
          1,
          0,
          0,
          0,
          0,
          0,
          0,
          0,
          0,
          0,
          0,
          0,
          0,
          0,
          16,
          42,
          2,
          0,
          13,
          0,
          0,
          0,
          0,
          0,
          0,
          0,
          0,
          0,
          2,
          0,
          0,
          0,
          0,
          0,
          0,
          0,
          0,
          0,
          133,
          0,
          1,
          0,
          0,
          0,
          0,
          2,
          0,
          0,
          0,
          0,
          0,
          0,
          0,
          0,
          0,
          36,
          9,
          14,
          23,
          1
         ],
         "yaxis": "y"
        },
        {
         "line": {
          "color": "red",
          "dash": "dash"
         },
         "mode": "lines",
         "name": "Reorder Line",
         "type": "scatter",
         "x": [
          0,
          133
         ],
         "xaxis": "x",
         "y": [
          0,
          133
         ],
         "yaxis": "y"
        },
        {
         "marker": {
          "color": "lightgreen"
         },
         "name": "EOQ Distribution",
         "nbinsx": 30,
         "type": "histogram",
         "x": [
          134.29478422222218,
          94.65044966444184,
          319.7146179514496,
          131.576008074827,
          249.667019821646,
          565.4387418537303,
          250.42518940446817,
          149.04232699941616,
          161.75587738141343,
          115.39656535184191,
          90.74968600662964,
          48.65407233403099,
          216.55233187145552,
          244.22246225656536,
          391.3384496792097,
          173.11159735672993,
          39.89777984208831,
          87.19309365044066,
          885.9592380663239,
          390.8277324139957,
          96.986149120953,
          1016.9319979603256,
          131.5586250507371,
          277.03429734505374,
          213.5802799752307,
          67.62718134251753,
          37.843691300686096,
          92.01653133466682,
          185.70608010748995,
          328.28951081635137,
          205.42579757779967,
          211.28954115265967,
          311.7732915698452,
          26.43865585462146,
          58.80337065449086,
          245.69834529766268,
          266.79595366260884,
          300.9905992070915,
          112.26151866344952,
          217.21686179187685,
          73.24811667016193,
          243.53567036018603,
          93.9165694749257,
          157.89251734077877,
          93.34793824218949,
          50.40086347498964,
          213.660315481576,
          98.19959375479468,
          76.5937601215424,
          60.98049330236367,
          51.30615989396194,
          205.73054326815105,
          85.25371809467829,
          1664.2580057373111,
          205.68771826147355,
          306.5422325320872,
          2051.799973645057,
          84.90256816388604,
          1598.4363524917976,
          95.62834391269656,
          127.16431598536546,
          184.5920621213076,
          176.84220454301988,
          220.9973389161776,
          2998.2924860636917,
          138.15893891825758,
          40.71032267418672,
          2570.2873791799298,
          3052.16430576391,
          92.9134696878594,
          61.14541456329848,
          182.53481982469535,
          55.62033652960766,
          120.35400557773472,
          167.38808971258084,
          65.56355176113397,
          159.1260535469638,
          315.95670684632216,
          91.45204588888676,
          101.3161605737444,
          50.14707496702314,
          209.8359584962631,
          474.210281640573,
          198.5948148210527,
          313.6566682288833,
          457.4870259919567,
          193.96288915306107,
          166.61749861788638,
          42.691559346144814,
          245.1490802415893,
          572.5925040563695,
          367.4038871416429,
          324.3326613381949,
          80.6268105016565,
          355.372989621022,
          38.72770349695426,
          432.50938792551824,
          1387.999100906734,
          253.99409365564364,
          490.60120568046347,
          301.2083327597899,
          284.81797047953376,
          192.4618007248414,
          287.801852078778,
          176.779362246788,
          291.2663763309964,
          61.16255617274472,
          67.91886097656457,
          417.8534769456319,
          240.17418945393732,
          221.0295879047078,
          206.3666238112152,
          49.71361576741474,
          0,
          0,
          0,
          0,
          0
         ],
         "xaxis": "x2",
         "yaxis": "y2"
        },
        {
         "name": "Category B",
         "type": "box",
         "xaxis": "x3",
         "y": [
          0,
          1.2090753867315307,
          0.9798326394594128,
          0.7798661658105192,
          1.4601698972944894,
          0.954198574803091,
          0,
          1.1626486618041585,
          1.3595795888061315,
          0.6424855152114326,
          0.4631282124422997,
          0.8310433570945621,
          1.0273858783879597,
          0.780915700707509,
          0.8991750515555909,
          0.8131354284250564,
          1.0103507327841654,
          1.137747200743755,
          0.5173486297597104,
          0.6599458909819803,
          0,
          1.1558996256422958,
          0.6964296867853925,
          1.225468220515734,
          1.3006926445145486,
          0.6293305904143307,
          1.0256223236652469,
          0.5744779270772723,
          1.2232975134377573,
          0.8020394733029041,
          0.972056552774194,
          0.9871511808593452,
          0.881918000206085,
          0.800351472989211,
          0.8893993608750798,
          0.9067984506811588,
          0.7670976443946039,
          0.586971,
          0.4451231680332984
         ],
         "yaxis": "y3"
        },
        {
         "name": "Category C",
         "type": "box",
         "xaxis": "x3",
         "y": [
          0,
          1.2652062142050204,
          0,
          0,
          0,
          1.016241845106026,
          0,
          0,
          1.2196511574714717,
          0,
          0,
          0,
          0,
          1.2380399402612177,
          0.768274574624691,
          1.0251461885233737,
          0,
          0,
          0.945758149289632,
          1.06611712052593,
          1.301448009786407,
          0,
          1.2395049722890386,
          0,
          0,
          0,
          0,
          0,
          1.0918458510114877,
          1.2345783197741038,
          0,
          0.8510177298944775,
          0,
          0.6898576730297344,
          0,
          0,
          0.5929880852934568,
          0,
          0,
          0,
          0,
          0,
          0.7952912823381127,
          0,
          0,
          1.0220581733238083,
          0,
          0,
          0,
          0,
          0,
          0,
          0,
          0,
          0,
          0
         ],
         "yaxis": "y3"
        },
        {
         "name": "Category A",
         "type": "box",
         "xaxis": "x3",
         "y": [
          0,
          0,
          0,
          0,
          0,
          1.2246077054188618,
          0,
          0,
          1.1033757485487434,
          1.3214969804551202,
          1.0015877424725452,
          0,
          1.2239787247498424,
          0,
          0,
          0,
          1.32898446230731,
          0.8337120000000001,
          1.066816747922177,
          1.109295,
          0,
          1.0116501037621652,
          0.9520799206736794
         ],
         "yaxis": "y3"
        },
        {
         "marker": {
          "color": [
           "blue",
           "green",
           "blue",
           "green",
           "blue",
           "blue",
           "blue",
           "blue",
           "green",
           "blue",
           "green",
           "green",
           "green",
           "blue",
           "blue",
           "red",
           "green",
           "green",
           "red",
           "blue",
           "green",
           "red",
           "green",
           "red",
           "blue",
           "green",
           "green",
           "green",
           "green",
           "green",
           "green",
           "blue",
           "blue",
           "green",
           "green",
           "green",
           "green",
           "green",
           "red",
           "blue",
           "green",
           "red",
           "blue",
           "red",
           "green",
           "green",
           "green",
           "blue",
           "green",
           "green",
           "green",
           "green",
           "green",
           "red",
           "blue",
           "blue",
           "red",
           "green",
           "red",
           "green",
           "green",
           "blue",
           "green",
           "blue",
           "red",
           "green",
           "green",
           "red",
           "red",
           "green",
           "green",
           "red",
           "blue",
           "red",
           "green",
           "green",
           "red",
           "blue",
           "green",
           "blue",
           "green",
           "blue",
           "blue",
           "blue",
           "blue",
           "blue",
           "blue",
           "green",
           "green",
           "blue",
           "red",
           "blue",
           "red",
           "green",
           "green",
           "green",
           "green",
           "red",
           "blue",
           "blue",
           "blue",
           "blue",
           "blue",
           "blue",
           "red",
           "red",
           "green",
           "green",
           "blue",
           "red",
           "blue",
           "red",
           "green",
           "green",
           "green",
           "green",
           "green",
           "green"
          ],
          "opacity": 0.6,
          "size": 8
         },
         "mode": "markers",
         "name": "Days Supply vs Demand",
         "type": "scatter",
         "x": [
          1,
          1,
          3.0612,
          3.1,
          3.0227,
          2.75,
          2.8378,
          3,
          1,
          1,
          1,
          1,
          3.119,
          3.1429,
          2.92,
          1,
          1,
          1,
          1,
          2.8269,
          3.4545,
          1,
          1,
          1,
          2.6667,
          1,
          1,
          1,
          2.8704,
          2.7455,
          3,
          3.1639,
          2.9615,
          1,
          1,
          3.122,
          3.02,
          2.7632,
          1,
          2.5,
          1,
          3.3774,
          2.75,
          1,
          2.8571,
          1,
          1,
          3,
          1,
          1,
          1,
          2.5962,
          2.625,
          1,
          2.7213,
          3,
          3.0055,
          1,
          3.0362,
          2.7273,
          1,
          3.4667,
          3.2727,
          2.4844,
          2.9754,
          1,
          1,
          1,
          3.0177,
          3.6667,
          1,
          1,
          1,
          1,
          1,
          1,
          1,
          3.175,
          1,
          3.5556,
          1,
          3.0182,
          3.129,
          2.98,
          2.8889,
          2.94,
          2.9649,
          3.2,
          1,
          2.825,
          2.875,
          2.9048,
          2.9811,
          1,
          3.1111,
          1,
          1,
          3.0586,
          2.5094,
          3.2174,
          2.9167,
          3.0638,
          2.8,
          2.9821,
          3.0208,
          1,
          1,
          1,
          2.5897,
          3.0476,
          2.8409,
          3.3396,
          1,
          0,
          0,
          0,
          0,
          0
         ],
         "xaxis": "x4",
         "y": [
          60,
          0,
          0,
          0,
          0,
          0,
          0,
          0,
          0,
          0,
          0,
          0,
          0,
          0,
          0,
          1920,
          0,
          0,
          0,
          0,
          0,
          0,
          120,
          540,
          0,
          0,
          0,
          0,
          0,
          0,
          0,
          18.963936913303204,
          0,
          0,
          0,
          0,
          0,
          0,
          0,
          0,
          0,
          0,
          0,
          120,
          0,
          90,
          0,
          0,
          0,
          0,
          0,
          0,
          0,
          0,
          0,
          0,
          19.963400432540343,
          0,
          9.880772017653646,
          0,
          0,
          0,
          0,
          0,
          0,
          0,
          0,
          0,
          0,
          0,
          0,
          0,
          480,
          1260,
          60,
          0,
          390,
          0,
          0,
          0,
          0,
          0,
          0,
          0,
          0,
          0,
          20.236770211474248,
          0,
          0,
          0,
          0,
          0,
          0,
          0,
          0,
          0,
          3990,
          0,
          11.955049015700965,
          0,
          0,
          0,
          0,
          20.120049629455757,
          0,
          0,
          0,
          0,
          0,
          0,
          0,
          0,
          0,
          null,
          null,
          null,
          null,
          null
         ],
         "yaxis": "y4"
        }
       ],
       "layout": {
        "annotations": [
         {
          "font": {
           "size": 16
          },
          "showarrow": false,
          "text": "Current Inventory vs Reorder Point",
          "x": 0.225,
          "xanchor": "center",
          "xref": "paper",
          "y": 1,
          "yanchor": "bottom",
          "yref": "paper"
         },
         {
          "font": {
           "size": 16
          },
          "showarrow": false,
          "text": "EOQ Distribution",
          "x": 0.775,
          "xanchor": "center",
          "xref": "paper",
          "y": 1,
          "yanchor": "bottom",
          "yref": "paper"
         },
         {
          "font": {
           "size": 16
          },
          "showarrow": false,
          "text": "Safety Stock Analysis",
          "x": 0.225,
          "xanchor": "center",
          "xref": "paper",
          "y": 0.375,
          "yanchor": "bottom",
          "yref": "paper"
         },
         {
          "font": {
           "size": 16
          },
          "showarrow": false,
          "text": "Inventory Days Supply",
          "x": 0.775,
          "xanchor": "center",
          "xref": "paper",
          "y": 0.375,
          "yanchor": "bottom",
          "yref": "paper"
         }
        ],
        "height": 800,
        "showlegend": true,
        "template": {
         "data": {
          "bar": [
           {
            "error_x": {
             "color": "#2a3f5f"
            },
            "error_y": {
             "color": "#2a3f5f"
            },
            "marker": {
             "line": {
              "color": "#E5ECF6",
              "width": 0.5
             },
             "pattern": {
              "fillmode": "overlay",
              "size": 10,
              "solidity": 0.2
             }
            },
            "type": "bar"
           }
          ],
          "barpolar": [
           {
            "marker": {
             "line": {
              "color": "#E5ECF6",
              "width": 0.5
             },
             "pattern": {
              "fillmode": "overlay",
              "size": 10,
              "solidity": 0.2
             }
            },
            "type": "barpolar"
           }
          ],
          "carpet": [
           {
            "aaxis": {
             "endlinecolor": "#2a3f5f",
             "gridcolor": "white",
             "linecolor": "white",
             "minorgridcolor": "white",
             "startlinecolor": "#2a3f5f"
            },
            "baxis": {
             "endlinecolor": "#2a3f5f",
             "gridcolor": "white",
             "linecolor": "white",
             "minorgridcolor": "white",
             "startlinecolor": "#2a3f5f"
            },
            "type": "carpet"
           }
          ],
          "choropleth": [
           {
            "colorbar": {
             "outlinewidth": 0,
             "ticks": ""
            },
            "type": "choropleth"
           }
          ],
          "contour": [
           {
            "colorbar": {
             "outlinewidth": 0,
             "ticks": ""
            },
            "colorscale": [
             [
              0,
              "#0d0887"
             ],
             [
              0.1111111111111111,
              "#46039f"
             ],
             [
              0.2222222222222222,
              "#7201a8"
             ],
             [
              0.3333333333333333,
              "#9c179e"
             ],
             [
              0.4444444444444444,
              "#bd3786"
             ],
             [
              0.5555555555555556,
              "#d8576b"
             ],
             [
              0.6666666666666666,
              "#ed7953"
             ],
             [
              0.7777777777777778,
              "#fb9f3a"
             ],
             [
              0.8888888888888888,
              "#fdca26"
             ],
             [
              1,
              "#f0f921"
             ]
            ],
            "type": "contour"
           }
          ],
          "contourcarpet": [
           {
            "colorbar": {
             "outlinewidth": 0,
             "ticks": ""
            },
            "type": "contourcarpet"
           }
          ],
          "heatmap": [
           {
            "colorbar": {
             "outlinewidth": 0,
             "ticks": ""
            },
            "colorscale": [
             [
              0,
              "#0d0887"
             ],
             [
              0.1111111111111111,
              "#46039f"
             ],
             [
              0.2222222222222222,
              "#7201a8"
             ],
             [
              0.3333333333333333,
              "#9c179e"
             ],
             [
              0.4444444444444444,
              "#bd3786"
             ],
             [
              0.5555555555555556,
              "#d8576b"
             ],
             [
              0.6666666666666666,
              "#ed7953"
             ],
             [
              0.7777777777777778,
              "#fb9f3a"
             ],
             [
              0.8888888888888888,
              "#fdca26"
             ],
             [
              1,
              "#f0f921"
             ]
            ],
            "type": "heatmap"
           }
          ],
          "heatmapgl": [
           {
            "colorbar": {
             "outlinewidth": 0,
             "ticks": ""
            },
            "colorscale": [
             [
              0,
              "#0d0887"
             ],
             [
              0.1111111111111111,
              "#46039f"
             ],
             [
              0.2222222222222222,
              "#7201a8"
             ],
             [
              0.3333333333333333,
              "#9c179e"
             ],
             [
              0.4444444444444444,
              "#bd3786"
             ],
             [
              0.5555555555555556,
              "#d8576b"
             ],
             [
              0.6666666666666666,
              "#ed7953"
             ],
             [
              0.7777777777777778,
              "#fb9f3a"
             ],
             [
              0.8888888888888888,
              "#fdca26"
             ],
             [
              1,
              "#f0f921"
             ]
            ],
            "type": "heatmapgl"
           }
          ],
          "histogram": [
           {
            "marker": {
             "pattern": {
              "fillmode": "overlay",
              "size": 10,
              "solidity": 0.2
             }
            },
            "type": "histogram"
           }
          ],
          "histogram2d": [
           {
            "colorbar": {
             "outlinewidth": 0,
             "ticks": ""
            },
            "colorscale": [
             [
              0,
              "#0d0887"
             ],
             [
              0.1111111111111111,
              "#46039f"
             ],
             [
              0.2222222222222222,
              "#7201a8"
             ],
             [
              0.3333333333333333,
              "#9c179e"
             ],
             [
              0.4444444444444444,
              "#bd3786"
             ],
             [
              0.5555555555555556,
              "#d8576b"
             ],
             [
              0.6666666666666666,
              "#ed7953"
             ],
             [
              0.7777777777777778,
              "#fb9f3a"
             ],
             [
              0.8888888888888888,
              "#fdca26"
             ],
             [
              1,
              "#f0f921"
             ]
            ],
            "type": "histogram2d"
           }
          ],
          "histogram2dcontour": [
           {
            "colorbar": {
             "outlinewidth": 0,
             "ticks": ""
            },
            "colorscale": [
             [
              0,
              "#0d0887"
             ],
             [
              0.1111111111111111,
              "#46039f"
             ],
             [
              0.2222222222222222,
              "#7201a8"
             ],
             [
              0.3333333333333333,
              "#9c179e"
             ],
             [
              0.4444444444444444,
              "#bd3786"
             ],
             [
              0.5555555555555556,
              "#d8576b"
             ],
             [
              0.6666666666666666,
              "#ed7953"
             ],
             [
              0.7777777777777778,
              "#fb9f3a"
             ],
             [
              0.8888888888888888,
              "#fdca26"
             ],
             [
              1,
              "#f0f921"
             ]
            ],
            "type": "histogram2dcontour"
           }
          ],
          "mesh3d": [
           {
            "colorbar": {
             "outlinewidth": 0,
             "ticks": ""
            },
            "type": "mesh3d"
           }
          ],
          "parcoords": [
           {
            "line": {
             "colorbar": {
              "outlinewidth": 0,
              "ticks": ""
             }
            },
            "type": "parcoords"
           }
          ],
          "pie": [
           {
            "automargin": true,
            "type": "pie"
           }
          ],
          "scatter": [
           {
            "fillpattern": {
             "fillmode": "overlay",
             "size": 10,
             "solidity": 0.2
            },
            "type": "scatter"
           }
          ],
          "scatter3d": [
           {
            "line": {
             "colorbar": {
              "outlinewidth": 0,
              "ticks": ""
             }
            },
            "marker": {
             "colorbar": {
              "outlinewidth": 0,
              "ticks": ""
             }
            },
            "type": "scatter3d"
           }
          ],
          "scattercarpet": [
           {
            "marker": {
             "colorbar": {
              "outlinewidth": 0,
              "ticks": ""
             }
            },
            "type": "scattercarpet"
           }
          ],
          "scattergeo": [
           {
            "marker": {
             "colorbar": {
              "outlinewidth": 0,
              "ticks": ""
             }
            },
            "type": "scattergeo"
           }
          ],
          "scattergl": [
           {
            "marker": {
             "colorbar": {
              "outlinewidth": 0,
              "ticks": ""
             }
            },
            "type": "scattergl"
           }
          ],
          "scattermapbox": [
           {
            "marker": {
             "colorbar": {
              "outlinewidth": 0,
              "ticks": ""
             }
            },
            "type": "scattermapbox"
           }
          ],
          "scatterpolar": [
           {
            "marker": {
             "colorbar": {
              "outlinewidth": 0,
              "ticks": ""
             }
            },
            "type": "scatterpolar"
           }
          ],
          "scatterpolargl": [
           {
            "marker": {
             "colorbar": {
              "outlinewidth": 0,
              "ticks": ""
             }
            },
            "type": "scatterpolargl"
           }
          ],
          "scatterternary": [
           {
            "marker": {
             "colorbar": {
              "outlinewidth": 0,
              "ticks": ""
             }
            },
            "type": "scatterternary"
           }
          ],
          "surface": [
           {
            "colorbar": {
             "outlinewidth": 0,
             "ticks": ""
            },
            "colorscale": [
             [
              0,
              "#0d0887"
             ],
             [
              0.1111111111111111,
              "#46039f"
             ],
             [
              0.2222222222222222,
              "#7201a8"
             ],
             [
              0.3333333333333333,
              "#9c179e"
             ],
             [
              0.4444444444444444,
              "#bd3786"
             ],
             [
              0.5555555555555556,
              "#d8576b"
             ],
             [
              0.6666666666666666,
              "#ed7953"
             ],
             [
              0.7777777777777778,
              "#fb9f3a"
             ],
             [
              0.8888888888888888,
              "#fdca26"
             ],
             [
              1,
              "#f0f921"
             ]
            ],
            "type": "surface"
           }
          ],
          "table": [
           {
            "cells": {
             "fill": {
              "color": "#EBF0F8"
             },
             "line": {
              "color": "white"
             }
            },
            "header": {
             "fill": {
              "color": "#C8D4E3"
             },
             "line": {
              "color": "white"
             }
            },
            "type": "table"
           }
          ]
         },
         "layout": {
          "annotationdefaults": {
           "arrowcolor": "#2a3f5f",
           "arrowhead": 0,
           "arrowwidth": 1
          },
          "autotypenumbers": "strict",
          "coloraxis": {
           "colorbar": {
            "outlinewidth": 0,
            "ticks": ""
           }
          },
          "colorscale": {
           "diverging": [
            [
             0,
             "#8e0152"
            ],
            [
             0.1,
             "#c51b7d"
            ],
            [
             0.2,
             "#de77ae"
            ],
            [
             0.3,
             "#f1b6da"
            ],
            [
             0.4,
             "#fde0ef"
            ],
            [
             0.5,
             "#f7f7f7"
            ],
            [
             0.6,
             "#e6f5d0"
            ],
            [
             0.7,
             "#b8e186"
            ],
            [
             0.8,
             "#7fbc41"
            ],
            [
             0.9,
             "#4d9221"
            ],
            [
             1,
             "#276419"
            ]
           ],
           "sequential": [
            [
             0,
             "#0d0887"
            ],
            [
             0.1111111111111111,
             "#46039f"
            ],
            [
             0.2222222222222222,
             "#7201a8"
            ],
            [
             0.3333333333333333,
             "#9c179e"
            ],
            [
             0.4444444444444444,
             "#bd3786"
            ],
            [
             0.5555555555555556,
             "#d8576b"
            ],
            [
             0.6666666666666666,
             "#ed7953"
            ],
            [
             0.7777777777777778,
             "#fb9f3a"
            ],
            [
             0.8888888888888888,
             "#fdca26"
            ],
            [
             1,
             "#f0f921"
            ]
           ],
           "sequentialminus": [
            [
             0,
             "#0d0887"
            ],
            [
             0.1111111111111111,
             "#46039f"
            ],
            [
             0.2222222222222222,
             "#7201a8"
            ],
            [
             0.3333333333333333,
             "#9c179e"
            ],
            [
             0.4444444444444444,
             "#bd3786"
            ],
            [
             0.5555555555555556,
             "#d8576b"
            ],
            [
             0.6666666666666666,
             "#ed7953"
            ],
            [
             0.7777777777777778,
             "#fb9f3a"
            ],
            [
             0.8888888888888888,
             "#fdca26"
            ],
            [
             1,
             "#f0f921"
            ]
           ]
          },
          "colorway": [
           "#636efa",
           "#EF553B",
           "#00cc96",
           "#ab63fa",
           "#FFA15A",
           "#19d3f3",
           "#FF6692",
           "#B6E880",
           "#FF97FF",
           "#FECB52"
          ],
          "font": {
           "color": "#2a3f5f"
          },
          "geo": {
           "bgcolor": "white",
           "lakecolor": "white",
           "landcolor": "#E5ECF6",
           "showlakes": true,
           "showland": true,
           "subunitcolor": "white"
          },
          "hoverlabel": {
           "align": "left"
          },
          "hovermode": "closest",
          "mapbox": {
           "style": "light"
          },
          "paper_bgcolor": "white",
          "plot_bgcolor": "#E5ECF6",
          "polar": {
           "angularaxis": {
            "gridcolor": "white",
            "linecolor": "white",
            "ticks": ""
           },
           "bgcolor": "#E5ECF6",
           "radialaxis": {
            "gridcolor": "white",
            "linecolor": "white",
            "ticks": ""
           }
          },
          "scene": {
           "xaxis": {
            "backgroundcolor": "#E5ECF6",
            "gridcolor": "white",
            "gridwidth": 2,
            "linecolor": "white",
            "showbackground": true,
            "ticks": "",
            "zerolinecolor": "white"
           },
           "yaxis": {
            "backgroundcolor": "#E5ECF6",
            "gridcolor": "white",
            "gridwidth": 2,
            "linecolor": "white",
            "showbackground": true,
            "ticks": "",
            "zerolinecolor": "white"
           },
           "zaxis": {
            "backgroundcolor": "#E5ECF6",
            "gridcolor": "white",
            "gridwidth": 2,
            "linecolor": "white",
            "showbackground": true,
            "ticks": "",
            "zerolinecolor": "white"
           }
          },
          "shapedefaults": {
           "line": {
            "color": "#2a3f5f"
           }
          },
          "ternary": {
           "aaxis": {
            "gridcolor": "white",
            "linecolor": "white",
            "ticks": ""
           },
           "baxis": {
            "gridcolor": "white",
            "linecolor": "white",
            "ticks": ""
           },
           "bgcolor": "#E5ECF6",
           "caxis": {
            "gridcolor": "white",
            "linecolor": "white",
            "ticks": ""
           }
          },
          "title": {
           "x": 0.05
          },
          "xaxis": {
           "automargin": true,
           "gridcolor": "white",
           "linecolor": "white",
           "ticks": "",
           "title": {
            "standoff": 15
           },
           "zerolinecolor": "white",
           "zerolinewidth": 2
          },
          "yaxis": {
           "automargin": true,
           "gridcolor": "white",
           "linecolor": "white",
           "ticks": "",
           "title": {
            "standoff": 15
           },
           "zerolinecolor": "white",
           "zerolinewidth": 2
          }
         }
        },
        "title": {
         "text": "Inventory Optimization Dashboard"
        },
        "xaxis": {
         "anchor": "y",
         "domain": [
          0,
          0.45
         ]
        },
        "xaxis2": {
         "anchor": "y2",
         "domain": [
          0.55,
          1
         ]
        },
        "xaxis3": {
         "anchor": "y3",
         "domain": [
          0,
          0.45
         ]
        },
        "xaxis4": {
         "anchor": "y4",
         "domain": [
          0.55,
          1
         ]
        },
        "yaxis": {
         "anchor": "x",
         "domain": [
          0.625,
          1
         ]
        },
        "yaxis2": {
         "anchor": "x2",
         "domain": [
          0.625,
          1
         ]
        },
        "yaxis3": {
         "anchor": "x3",
         "domain": [
          0,
          0.375
         ]
        },
        "yaxis4": {
         "anchor": "x4",
         "domain": [
          0,
          0.375
         ]
        }
       }
      }
     },
     "metadata": {},
     "output_type": "display_data"
    }
   ],
   "source": [
    "fig = make_subplots(\n",
    "    rows=2, cols=2,\n",
    "    subplot_titles=('Current Inventory vs Reorder Point', 'EOQ Distribution',\n",
    "                   'Safety Stock Analysis', 'Inventory Days Supply'),\n",
    "    specs=[[{\"type\": \"scatter\"}, {\"type\": \"histogram\"}],\n",
    "           [{\"type\": \"box\"}, {\"type\": \"scatter\"}]]\n",
    ")\n",
    "\n",
    "# Current Inventory vs Reorder Point Scatter Plot\n",
    "colors = ['red' if status == 'Stockout' else 'orange' if status == 'Reorder_Required' \n",
    "          else 'blue' if status == 'Overstock' else 'green' \n",
    "          for status in procurement_df['Stock_Status']]\n",
    "\n",
    "fig.add_trace(\n",
    "    go.Scatter(x=procurement_df['Reorder_Point'], y=procurement_df['Current_Inventory'],\n",
    "              mode='markers', name='Inventory vs Reorder Point',\n",
    "              marker=dict(color=colors, size=8, opacity=0.6),\n",
    "              text=procurement_df['Product Name'].str[:30]),\n",
    "    row=1, col=1\n",
    ")\n",
    "\n",
    "# Add diagonal line for reference (where current inventory = reorder point)\n",
    "max_val = max(procurement_df['Reorder_Point'].max(), procurement_df['Current_Inventory'].max())\n",
    "fig.add_trace(\n",
    "    go.Scatter(x=[0, max_val], y=[0, max_val], mode='lines', \n",
    "              line=dict(dash='dash', color='red'), name='Reorder Line'),\n",
    "    row=1, col=1\n",
    ")\n",
    "\n",
    "# EOQ Distribution\n",
    "fig.add_trace(\n",
    "    go.Histogram(x=procurement_df['EOQ'], name='EOQ Distribution',\n",
    "                nbinsx=30, marker_color='lightgreen'),\n",
    "    row=1, col=2\n",
    ")\n",
    "\n",
    "# Safety Stock by ABC Category\n",
    "abc_categories = procurement_df['ABC_Category'].unique()\n",
    "for category in abc_categories:\n",
    "    category_data = procurement_df[procurement_df['ABC_Category'] == category]\n",
    "    fig.add_trace(\n",
    "        go.Box(y=category_data['Safety_Stock'], name=f'Category {category}'),\n",
    "        row=2, col=1\n",
    "    )\n",
    "\n",
    "# Inventory Days Supply vs Demand\n",
    "fig.add_trace(\n",
    "    go.Scatter(x=procurement_df['Order Quantity_mean'], y=procurement_df['Inventory_Days_Supply'],\n",
    "              mode='markers', name='Days Supply vs Demand',\n",
    "              marker=dict(size=8, color=procurement_df['ABC_Category'].map({'A': 'red', 'B': 'blue', 'C': 'green'}),\n",
    "                         opacity=0.6)),\n",
    "    row=2, col=2\n",
    ")\n",
    "\n",
    "fig.update_layout(height=800, showlegend=True, title_text=\"Inventory Optimization Dashboard\")\n",
    "fig.show()"
   ]
  },
  {
   "cell_type": "code",
   "execution_count": 26,
   "metadata": {},
   "outputs": [
    {
     "data": {
      "application/vnd.plotly.v1+json": {
       "config": {
        "plotlyServerURL": "https://plot.ly"
       },
       "data": [
        {
         "marker": {
          "color": "skyblue"
         },
         "name": "Delivery Reliability",
         "nbinsx": 25,
         "type": "histogram",
         "x": [
          0.7333000000000001,
          0.7568,
          0.7755,
          0.7,
          0.7045,
          0.6457999999999999,
          0.7027,
          0.6923,
          0.6508,
          0.6667000000000001,
          0.7273000000000001,
          0.3333,
          0.6905,
          0.7755,
          0.8,
          0.7459,
          0.3333,
          0.8333,
          0.7462,
          0.7885,
          0.7273000000000001,
          0.755,
          0.8923,
          0.8276,
          0.75,
          0.6,
          0.6667000000000001,
          1,
          0.7222,
          0.7455,
          0.7955,
          0.7377,
          0.8462000000000001,
          1,
          1,
          0.5609999999999999,
          0.64,
          0.7105,
          0.7,
          0.9375,
          0.8333,
          0.7547,
          0.8333,
          0.8358,
          0.7142999999999999,
          0.625,
          0.7273000000000001,
          0.8,
          0.8182,
          0.8462000000000001,
          0.5455,
          0.7308,
          1,
          0.7339,
          0.7705,
          0.6984,
          0.7068,
          0.6154,
          0.6298,
          0.8182,
          0.9286,
          0.7333000000000001,
          0.7879,
          0.7188,
          0.6700999999999999,
          0.7692,
          0.5714,
          0.7374,
          0.6955,
          0.6667000000000001,
          0.7646999999999999,
          0.6588,
          0.7857000000000001,
          0.7391,
          0.6964,
          0.5,
          0.7101,
          0.75,
          0.625,
          0.7778,
          0.4286,
          0.5636,
          0.6129,
          0.5800000000000001,
          0.6889000000000001,
          0.48,
          0.7018,
          1,
          0.6,
          0.7,
          0.7321,
          0.8333,
          0.5849,
          0.75,
          0.7111000000000001,
          0.8333,
          0.6164000000000001,
          0.6957,
          0.6415,
          0.6522,
          0.6667000000000001,
          0.7021,
          0.6599999999999999,
          0.7142999999999999,
          0.7292000000000001,
          0.644,
          0.8333,
          1,
          0.6154,
          0.8254,
          0.7726999999999999,
          0.6792,
          0.9091,
          0,
          0,
          0,
          0,
          0
         ],
         "xaxis": "x",
         "yaxis": "y"
        },
        {
         "marker": {
          "color": [
           79.1324612590799,
           66.19642615012107,
           39.07640395480226,
           51.90868926553673,
           50.42281261770245,
           41.79927495291902,
           49.80068644067797,
           62.15340799031477,
           61.55882324455206,
           74.70652179176754,
           57.91011259079903,
           47.67604479418885,
           37.36329472693032,
           50.6279143126177,
           55.35395480225989,
           75.77154842615012,
           72.88306658595641,
           48.34916828087167,
           31.504740112994348,
           39.18609698681732,
           63.78434987893462,
           31.950468926553672,
           65.566299031477,
           82.20585472154963,
           59.74087167070218,
           58.14877589453861,
           47.88206658595641,
           43.43462469733656,
           39.43657815442562,
           35.91748493408663,
           46.20244915254238,
           42.27939265536723,
           39.22877777777778,
           42.45883777239709,
           50.49199623352166,
           41.7392297551789,
           42.50905838041431,
           43.15753201506591,
           80.3958837772397,
           67.00408595641647,
           50.00520809792844,
           48.91038512241054,
           59.03226647834275,
           79.20634140435834,
           44.450283427495286,
           49.69521791767555,
           57.8574604519774,
           77.03954802259886,
           44.319460048426144,
           47.816375302663445,
           63.62474293785311,
           45.90774011299435,
           54.46427602905569,
           30.629918079096043,
           53.74508757062147,
           52.69548775894539,
           28.33867796610169,
           51.7369176755448,
           29.70554237288136,
           56.83784261501211,
           63.79739225181598,
           61.6199818401937,
           46.1269802259887,
           57.57016572504709,
           30.6876713747646,
           67.91586064030132,
           55.455634382566586,
           31.319146892655368,
           30.254882297551788,
           59.04835122410546,
           49.0671120527307,
           80.93034866828087,
           73.26171549636804,
           79.09025544794189,
           66.55036803874091,
           71.23002421307505,
           81.59910532687653,
           46.96775894538607,
           53.49909792843691,
           71.81228436911488,
           55.73685956416465,
           47.98441054613936,
           56.03719679849341,
           53.86837288135592,
           49.73084651600753,
           45.93517514124294,
           53.90802824858757,
           48.96803013182674,
           59.01089588377724,
           57.918549905838034,
           54.33806308851224,
           52.84407438794727,
           58.97156967984935,
           49.92164971751412,
           47.3501779661017,
           67.20631113801453,
           48.42470217917675,
           28.76883145009416,
           46.28846798493409,
           58.85221280602636,
           65.81400094161958,
           49.58616854990584,
           58.96079472693032,
           48.03712335216572,
           52.292760828625234,
           77.9356416464891,
           49.858248184019374,
           46.672053268765126,
           48.69080414312618,
           41.30490960451977,
           49.34403107344633,
           56.85586064030132,
           64.07899636803874,
           17.966101694915256,
           17.966101694915256,
           17.966101694915256,
           17.966101694915256,
           17.966101694915256
          ],
          "colorscale": [
           [
            0,
            "#440154"
           ],
           [
            0.1111111111111111,
            "#482878"
           ],
           [
            0.2222222222222222,
            "#3e4989"
           ],
           [
            0.3333333333333333,
            "#31688e"
           ],
           [
            0.4444444444444444,
            "#26828e"
           ],
           [
            0.5555555555555556,
            "#1f9e89"
           ],
           [
            0.6666666666666666,
            "#35b779"
           ],
           [
            0.7777777777777778,
            "#6ece58"
           ],
           [
            0.8888888888888888,
            "#b5de2b"
           ],
           [
            1,
            "#fde725"
           ]
          ],
          "opacity": 0.6,
          "showscale": true,
          "size": 8
         },
         "mode": "markers",
         "name": "Lead Time vs Reliability",
         "type": "scatter",
         "x": [
          6.9,
          7.9,
          6.4,
          8.4,
          5,
          4.2,
          9.5,
          4.3,
          3.5,
          2.7,
          5.5,
          7.5,
          5.4,
          6.5,
          9.1,
          6.6,
          4.3,
          1,
          6.9,
          2.2,
          9.8,
          4.9,
          8.8,
          2.3,
          3,
          4.5,
          4.2,
          5.6,
          8.6,
          3.3,
          8.3,
          3.3,
          5.3,
          5.4,
          6.7,
          5.3,
          6.2,
          7.6,
          5.3,
          4.2,
          1.4,
          9.5,
          8,
          2.1,
          7.9,
          6.5,
          6.8,
          3,
          6,
          5,
          1.3,
          6.8,
          9.9,
          7,
          6.6,
          6.7,
          6.6,
          7,
          9.4,
          3.3,
          1.8,
          1.9,
          2.6,
          2.8,
          5.5,
          6.6,
          2.3,
          1.8,
          8.3,
          3.1,
          1.4,
          7.1,
          9.3,
          9.1,
          5.2,
          4.7,
          6.9,
          8,
          4.7,
          5.2,
          6.6,
          8.2,
          9.1,
          2.3,
          5.4,
          1.7,
          8.4,
          4.1,
          5.2,
          3.3,
          9.9,
          5.5,
          4.8,
          4.3,
          5.6,
          1.3,
          3.7,
          6.3,
          6.4,
          4.2,
          3.7,
          3.9,
          3.7,
          2.9,
          7.5,
          3.5,
          7.9,
          9.3,
          2.7,
          5.6,
          1,
          5,
          4.2,
          0,
          0,
          0,
          0,
          0
         ],
         "xaxis": "x2",
         "y": [
          0.7333000000000001,
          0.7568,
          0.7755,
          0.7,
          0.7045,
          0.6457999999999999,
          0.7027,
          0.6923,
          0.6508,
          0.6667000000000001,
          0.7273000000000001,
          0.3333,
          0.6905,
          0.7755,
          0.8,
          0.7459,
          0.3333,
          0.8333,
          0.7462,
          0.7885,
          0.7273000000000001,
          0.755,
          0.8923,
          0.8276,
          0.75,
          0.6,
          0.6667000000000001,
          1,
          0.7222,
          0.7455,
          0.7955,
          0.7377,
          0.8462000000000001,
          1,
          1,
          0.5609999999999999,
          0.64,
          0.7105,
          0.7,
          0.9375,
          0.8333,
          0.7547,
          0.8333,
          0.8358,
          0.7142999999999999,
          0.625,
          0.7273000000000001,
          0.8,
          0.8182,
          0.8462000000000001,
          0.5455,
          0.7308,
          1,
          0.7339,
          0.7705,
          0.6984,
          0.7068,
          0.6154,
          0.6298,
          0.8182,
          0.9286,
          0.7333000000000001,
          0.7879,
          0.7188,
          0.6700999999999999,
          0.7692,
          0.5714,
          0.7374,
          0.6955,
          0.6667000000000001,
          0.7646999999999999,
          0.6588,
          0.7857000000000001,
          0.7391,
          0.6964,
          0.5,
          0.7101,
          0.75,
          0.625,
          0.7778,
          0.4286,
          0.5636,
          0.6129,
          0.5800000000000001,
          0.6889000000000001,
          0.48,
          0.7018,
          1,
          0.6,
          0.7,
          0.7321,
          0.8333,
          0.5849,
          0.75,
          0.7111000000000001,
          0.8333,
          0.6164000000000001,
          0.6957,
          0.6415,
          0.6522,
          0.6667000000000001,
          0.7021,
          0.6599999999999999,
          0.7142999999999999,
          0.7292000000000001,
          0.644,
          0.8333,
          1,
          0.6154,
          0.8254,
          0.7726999999999999,
          0.6792,
          0.9091,
          0,
          0,
          0,
          0,
          0
         ],
         "yaxis": "y2"
        },
        {
         "name": "Category B",
         "type": "box",
         "xaxis": "x3",
         "y": [
          6.9,
          6.4,
          5,
          4.2,
          9.5,
          4.3,
          2.7,
          6.5,
          9.1,
          2.2,
          3,
          3.3,
          5.3,
          4.2,
          8,
          3,
          6.6,
          6.7,
          1.9,
          2.8,
          9.3,
          8,
          5.2,
          8.2,
          9.1,
          2.3,
          5.4,
          1.7,
          8.4,
          3.3,
          5.5,
          6.4,
          4.2,
          3.7,
          3.9,
          3.7,
          2.9,
          2.7,
          1
         ],
         "yaxis": "y3"
        },
        {
         "name": "Category C",
         "type": "box",
         "xaxis": "x3",
         "y": [
          7.9,
          8.4,
          3.5,
          5.5,
          7.5,
          5.4,
          4.3,
          1,
          9.8,
          8.8,
          4.5,
          4.2,
          5.6,
          8.6,
          3.3,
          8.3,
          5.4,
          6.7,
          5.3,
          6.2,
          7.6,
          1.4,
          7.9,
          6.5,
          6.8,
          6,
          5,
          1.3,
          6.8,
          9.9,
          7,
          3.3,
          1.8,
          2.6,
          6.6,
          2.3,
          3.1,
          1.4,
          5.2,
          4.7,
          4.7,
          6.6,
          4.1,
          5.2,
          4.3,
          5.6,
          1.3,
          3.7,
          7.9,
          9.3,
          4.2,
          0,
          0,
          0,
          0,
          0
         ],
         "yaxis": "y3"
        },
        {
         "name": "Category A",
         "type": "box",
         "xaxis": "x3",
         "y": [
          6.6,
          6.9,
          4.9,
          2.3,
          5.3,
          9.5,
          2.1,
          7,
          6.6,
          9.4,
          5.5,
          1.8,
          8.3,
          7.1,
          9.1,
          6.9,
          9.9,
          4.8,
          6.3,
          7.5,
          3.5,
          5.6,
          5
         ],
         "yaxis": "y3"
        },
        {
         "marker": {
          "color": "green"
         },
         "name": "Top Performers",
         "type": "bar",
         "x": [
          "Fighting video games",
          "TaylorMade White Smo",
          "Nike Men's Kobe IX E",
          "First aid kit",
          "adidas Brazuca 2017 ",
          "GolfBuddy VT3 GPS Wa",
          "Yakima DoubleDown Ac",
          "Diamondback Girls' C",
          "The North Face Women",
          "GoPro HERO3+ Black E"
         ],
         "xaxis": "x4",
         "y": [
          0.7538,
          0.7778,
          0.7857,
          0.7931,
          0.8,
          0.8182,
          0.8333,
          0.8333,
          1,
          1
         ],
         "yaxis": "y4"
        },
        {
         "marker": {
          "color": "red"
         },
         "name": "Bottom Performers",
         "type": "bar",
         "x": [
          "SOLE E35 Elliptical",
          "Dell Laptop",
          "Bushnell Pro X7 Jolt",
          "Bowflex SelectTech 1",
          "SOLE E25 Elliptical",
          "TaylorMade Women's R",
          "Stiga Master Series ",
          "Pelican Maverick 100",
          "Diamondback Boys' In",
          "Cleveland Golf Women"
         ],
         "xaxis": "x4",
         "y": [
          0,
          0,
          0,
          0,
          0,
          0,
          0.25,
          0.2857,
          0.3333,
          0.3333
         ],
         "yaxis": "y4"
        }
       ],
       "layout": {
        "annotations": [
         {
          "font": {
           "size": 16
          },
          "showarrow": false,
          "text": "Delivery Reliability Distribution",
          "x": 0.225,
          "xanchor": "center",
          "xref": "paper",
          "y": 1,
          "yanchor": "bottom",
          "yref": "paper"
         },
         {
          "font": {
           "size": 16
          },
          "showarrow": false,
          "text": "Lead Time vs Reliability",
          "x": 0.775,
          "xanchor": "center",
          "xref": "paper",
          "y": 1,
          "yanchor": "bottom",
          "yref": "paper"
         },
         {
          "font": {
           "size": 16
          },
          "showarrow": false,
          "text": "Fulfillment Time by ABC Category",
          "x": 0.225,
          "xanchor": "center",
          "xref": "paper",
          "y": 0.375,
          "yanchor": "bottom",
          "yref": "paper"
         },
         {
          "font": {
           "size": 16
          },
          "showarrow": false,
          "text": "On-Time Delivery Performance",
          "x": 0.775,
          "xanchor": "center",
          "xref": "paper",
          "y": 0.375,
          "yanchor": "bottom",
          "yref": "paper"
         }
        ],
        "height": 800,
        "showlegend": true,
        "template": {
         "data": {
          "bar": [
           {
            "error_x": {
             "color": "#2a3f5f"
            },
            "error_y": {
             "color": "#2a3f5f"
            },
            "marker": {
             "line": {
              "color": "#E5ECF6",
              "width": 0.5
             },
             "pattern": {
              "fillmode": "overlay",
              "size": 10,
              "solidity": 0.2
             }
            },
            "type": "bar"
           }
          ],
          "barpolar": [
           {
            "marker": {
             "line": {
              "color": "#E5ECF6",
              "width": 0.5
             },
             "pattern": {
              "fillmode": "overlay",
              "size": 10,
              "solidity": 0.2
             }
            },
            "type": "barpolar"
           }
          ],
          "carpet": [
           {
            "aaxis": {
             "endlinecolor": "#2a3f5f",
             "gridcolor": "white",
             "linecolor": "white",
             "minorgridcolor": "white",
             "startlinecolor": "#2a3f5f"
            },
            "baxis": {
             "endlinecolor": "#2a3f5f",
             "gridcolor": "white",
             "linecolor": "white",
             "minorgridcolor": "white",
             "startlinecolor": "#2a3f5f"
            },
            "type": "carpet"
           }
          ],
          "choropleth": [
           {
            "colorbar": {
             "outlinewidth": 0,
             "ticks": ""
            },
            "type": "choropleth"
           }
          ],
          "contour": [
           {
            "colorbar": {
             "outlinewidth": 0,
             "ticks": ""
            },
            "colorscale": [
             [
              0,
              "#0d0887"
             ],
             [
              0.1111111111111111,
              "#46039f"
             ],
             [
              0.2222222222222222,
              "#7201a8"
             ],
             [
              0.3333333333333333,
              "#9c179e"
             ],
             [
              0.4444444444444444,
              "#bd3786"
             ],
             [
              0.5555555555555556,
              "#d8576b"
             ],
             [
              0.6666666666666666,
              "#ed7953"
             ],
             [
              0.7777777777777778,
              "#fb9f3a"
             ],
             [
              0.8888888888888888,
              "#fdca26"
             ],
             [
              1,
              "#f0f921"
             ]
            ],
            "type": "contour"
           }
          ],
          "contourcarpet": [
           {
            "colorbar": {
             "outlinewidth": 0,
             "ticks": ""
            },
            "type": "contourcarpet"
           }
          ],
          "heatmap": [
           {
            "colorbar": {
             "outlinewidth": 0,
             "ticks": ""
            },
            "colorscale": [
             [
              0,
              "#0d0887"
             ],
             [
              0.1111111111111111,
              "#46039f"
             ],
             [
              0.2222222222222222,
              "#7201a8"
             ],
             [
              0.3333333333333333,
              "#9c179e"
             ],
             [
              0.4444444444444444,
              "#bd3786"
             ],
             [
              0.5555555555555556,
              "#d8576b"
             ],
             [
              0.6666666666666666,
              "#ed7953"
             ],
             [
              0.7777777777777778,
              "#fb9f3a"
             ],
             [
              0.8888888888888888,
              "#fdca26"
             ],
             [
              1,
              "#f0f921"
             ]
            ],
            "type": "heatmap"
           }
          ],
          "heatmapgl": [
           {
            "colorbar": {
             "outlinewidth": 0,
             "ticks": ""
            },
            "colorscale": [
             [
              0,
              "#0d0887"
             ],
             [
              0.1111111111111111,
              "#46039f"
             ],
             [
              0.2222222222222222,
              "#7201a8"
             ],
             [
              0.3333333333333333,
              "#9c179e"
             ],
             [
              0.4444444444444444,
              "#bd3786"
             ],
             [
              0.5555555555555556,
              "#d8576b"
             ],
             [
              0.6666666666666666,
              "#ed7953"
             ],
             [
              0.7777777777777778,
              "#fb9f3a"
             ],
             [
              0.8888888888888888,
              "#fdca26"
             ],
             [
              1,
              "#f0f921"
             ]
            ],
            "type": "heatmapgl"
           }
          ],
          "histogram": [
           {
            "marker": {
             "pattern": {
              "fillmode": "overlay",
              "size": 10,
              "solidity": 0.2
             }
            },
            "type": "histogram"
           }
          ],
          "histogram2d": [
           {
            "colorbar": {
             "outlinewidth": 0,
             "ticks": ""
            },
            "colorscale": [
             [
              0,
              "#0d0887"
             ],
             [
              0.1111111111111111,
              "#46039f"
             ],
             [
              0.2222222222222222,
              "#7201a8"
             ],
             [
              0.3333333333333333,
              "#9c179e"
             ],
             [
              0.4444444444444444,
              "#bd3786"
             ],
             [
              0.5555555555555556,
              "#d8576b"
             ],
             [
              0.6666666666666666,
              "#ed7953"
             ],
             [
              0.7777777777777778,
              "#fb9f3a"
             ],
             [
              0.8888888888888888,
              "#fdca26"
             ],
             [
              1,
              "#f0f921"
             ]
            ],
            "type": "histogram2d"
           }
          ],
          "histogram2dcontour": [
           {
            "colorbar": {
             "outlinewidth": 0,
             "ticks": ""
            },
            "colorscale": [
             [
              0,
              "#0d0887"
             ],
             [
              0.1111111111111111,
              "#46039f"
             ],
             [
              0.2222222222222222,
              "#7201a8"
             ],
             [
              0.3333333333333333,
              "#9c179e"
             ],
             [
              0.4444444444444444,
              "#bd3786"
             ],
             [
              0.5555555555555556,
              "#d8576b"
             ],
             [
              0.6666666666666666,
              "#ed7953"
             ],
             [
              0.7777777777777778,
              "#fb9f3a"
             ],
             [
              0.8888888888888888,
              "#fdca26"
             ],
             [
              1,
              "#f0f921"
             ]
            ],
            "type": "histogram2dcontour"
           }
          ],
          "mesh3d": [
           {
            "colorbar": {
             "outlinewidth": 0,
             "ticks": ""
            },
            "type": "mesh3d"
           }
          ],
          "parcoords": [
           {
            "line": {
             "colorbar": {
              "outlinewidth": 0,
              "ticks": ""
             }
            },
            "type": "parcoords"
           }
          ],
          "pie": [
           {
            "automargin": true,
            "type": "pie"
           }
          ],
          "scatter": [
           {
            "fillpattern": {
             "fillmode": "overlay",
             "size": 10,
             "solidity": 0.2
            },
            "type": "scatter"
           }
          ],
          "scatter3d": [
           {
            "line": {
             "colorbar": {
              "outlinewidth": 0,
              "ticks": ""
             }
            },
            "marker": {
             "colorbar": {
              "outlinewidth": 0,
              "ticks": ""
             }
            },
            "type": "scatter3d"
           }
          ],
          "scattercarpet": [
           {
            "marker": {
             "colorbar": {
              "outlinewidth": 0,
              "ticks": ""
             }
            },
            "type": "scattercarpet"
           }
          ],
          "scattergeo": [
           {
            "marker": {
             "colorbar": {
              "outlinewidth": 0,
              "ticks": ""
             }
            },
            "type": "scattergeo"
           }
          ],
          "scattergl": [
           {
            "marker": {
             "colorbar": {
              "outlinewidth": 0,
              "ticks": ""
             }
            },
            "type": "scattergl"
           }
          ],
          "scattermapbox": [
           {
            "marker": {
             "colorbar": {
              "outlinewidth": 0,
              "ticks": ""
             }
            },
            "type": "scattermapbox"
           }
          ],
          "scatterpolar": [
           {
            "marker": {
             "colorbar": {
              "outlinewidth": 0,
              "ticks": ""
             }
            },
            "type": "scatterpolar"
           }
          ],
          "scatterpolargl": [
           {
            "marker": {
             "colorbar": {
              "outlinewidth": 0,
              "ticks": ""
             }
            },
            "type": "scatterpolargl"
           }
          ],
          "scatterternary": [
           {
            "marker": {
             "colorbar": {
              "outlinewidth": 0,
              "ticks": ""
             }
            },
            "type": "scatterternary"
           }
          ],
          "surface": [
           {
            "colorbar": {
             "outlinewidth": 0,
             "ticks": ""
            },
            "colorscale": [
             [
              0,
              "#0d0887"
             ],
             [
              0.1111111111111111,
              "#46039f"
             ],
             [
              0.2222222222222222,
              "#7201a8"
             ],
             [
              0.3333333333333333,
              "#9c179e"
             ],
             [
              0.4444444444444444,
              "#bd3786"
             ],
             [
              0.5555555555555556,
              "#d8576b"
             ],
             [
              0.6666666666666666,
              "#ed7953"
             ],
             [
              0.7777777777777778,
              "#fb9f3a"
             ],
             [
              0.8888888888888888,
              "#fdca26"
             ],
             [
              1,
              "#f0f921"
             ]
            ],
            "type": "surface"
           }
          ],
          "table": [
           {
            "cells": {
             "fill": {
              "color": "#EBF0F8"
             },
             "line": {
              "color": "white"
             }
            },
            "header": {
             "fill": {
              "color": "#C8D4E3"
             },
             "line": {
              "color": "white"
             }
            },
            "type": "table"
           }
          ]
         },
         "layout": {
          "annotationdefaults": {
           "arrowcolor": "#2a3f5f",
           "arrowhead": 0,
           "arrowwidth": 1
          },
          "autotypenumbers": "strict",
          "coloraxis": {
           "colorbar": {
            "outlinewidth": 0,
            "ticks": ""
           }
          },
          "colorscale": {
           "diverging": [
            [
             0,
             "#8e0152"
            ],
            [
             0.1,
             "#c51b7d"
            ],
            [
             0.2,
             "#de77ae"
            ],
            [
             0.3,
             "#f1b6da"
            ],
            [
             0.4,
             "#fde0ef"
            ],
            [
             0.5,
             "#f7f7f7"
            ],
            [
             0.6,
             "#e6f5d0"
            ],
            [
             0.7,
             "#b8e186"
            ],
            [
             0.8,
             "#7fbc41"
            ],
            [
             0.9,
             "#4d9221"
            ],
            [
             1,
             "#276419"
            ]
           ],
           "sequential": [
            [
             0,
             "#0d0887"
            ],
            [
             0.1111111111111111,
             "#46039f"
            ],
            [
             0.2222222222222222,
             "#7201a8"
            ],
            [
             0.3333333333333333,
             "#9c179e"
            ],
            [
             0.4444444444444444,
             "#bd3786"
            ],
            [
             0.5555555555555556,
             "#d8576b"
            ],
            [
             0.6666666666666666,
             "#ed7953"
            ],
            [
             0.7777777777777778,
             "#fb9f3a"
            ],
            [
             0.8888888888888888,
             "#fdca26"
            ],
            [
             1,
             "#f0f921"
            ]
           ],
           "sequentialminus": [
            [
             0,
             "#0d0887"
            ],
            [
             0.1111111111111111,
             "#46039f"
            ],
            [
             0.2222222222222222,
             "#7201a8"
            ],
            [
             0.3333333333333333,
             "#9c179e"
            ],
            [
             0.4444444444444444,
             "#bd3786"
            ],
            [
             0.5555555555555556,
             "#d8576b"
            ],
            [
             0.6666666666666666,
             "#ed7953"
            ],
            [
             0.7777777777777778,
             "#fb9f3a"
            ],
            [
             0.8888888888888888,
             "#fdca26"
            ],
            [
             1,
             "#f0f921"
            ]
           ]
          },
          "colorway": [
           "#636efa",
           "#EF553B",
           "#00cc96",
           "#ab63fa",
           "#FFA15A",
           "#19d3f3",
           "#FF6692",
           "#B6E880",
           "#FF97FF",
           "#FECB52"
          ],
          "font": {
           "color": "#2a3f5f"
          },
          "geo": {
           "bgcolor": "white",
           "lakecolor": "white",
           "landcolor": "#E5ECF6",
           "showlakes": true,
           "showland": true,
           "subunitcolor": "white"
          },
          "hoverlabel": {
           "align": "left"
          },
          "hovermode": "closest",
          "mapbox": {
           "style": "light"
          },
          "paper_bgcolor": "white",
          "plot_bgcolor": "#E5ECF6",
          "polar": {
           "angularaxis": {
            "gridcolor": "white",
            "linecolor": "white",
            "ticks": ""
           },
           "bgcolor": "#E5ECF6",
           "radialaxis": {
            "gridcolor": "white",
            "linecolor": "white",
            "ticks": ""
           }
          },
          "scene": {
           "xaxis": {
            "backgroundcolor": "#E5ECF6",
            "gridcolor": "white",
            "gridwidth": 2,
            "linecolor": "white",
            "showbackground": true,
            "ticks": "",
            "zerolinecolor": "white"
           },
           "yaxis": {
            "backgroundcolor": "#E5ECF6",
            "gridcolor": "white",
            "gridwidth": 2,
            "linecolor": "white",
            "showbackground": true,
            "ticks": "",
            "zerolinecolor": "white"
           },
           "zaxis": {
            "backgroundcolor": "#E5ECF6",
            "gridcolor": "white",
            "gridwidth": 2,
            "linecolor": "white",
            "showbackground": true,
            "ticks": "",
            "zerolinecolor": "white"
           }
          },
          "shapedefaults": {
           "line": {
            "color": "#2a3f5f"
           }
          },
          "ternary": {
           "aaxis": {
            "gridcolor": "white",
            "linecolor": "white",
            "ticks": ""
           },
           "baxis": {
            "gridcolor": "white",
            "linecolor": "white",
            "ticks": ""
           },
           "bgcolor": "#E5ECF6",
           "caxis": {
            "gridcolor": "white",
            "linecolor": "white",
            "ticks": ""
           }
          },
          "title": {
           "x": 0.05
          },
          "xaxis": {
           "automargin": true,
           "gridcolor": "white",
           "linecolor": "white",
           "ticks": "",
           "title": {
            "standoff": 15
           },
           "zerolinecolor": "white",
           "zerolinewidth": 2
          },
          "yaxis": {
           "automargin": true,
           "gridcolor": "white",
           "linecolor": "white",
           "ticks": "",
           "title": {
            "standoff": 15
           },
           "zerolinecolor": "white",
           "zerolinewidth": 2
          }
         }
        },
        "title": {
         "text": "Supplier Performance Dashboard"
        },
        "xaxis": {
         "anchor": "y",
         "domain": [
          0,
          0.45
         ]
        },
        "xaxis2": {
         "anchor": "y2",
         "domain": [
          0.55,
          1
         ]
        },
        "xaxis3": {
         "anchor": "y3",
         "domain": [
          0,
          0.45
         ]
        },
        "xaxis4": {
         "anchor": "y4",
         "domain": [
          0.55,
          1
         ]
        },
        "yaxis": {
         "anchor": "x",
         "domain": [
          0.625,
          1
         ]
        },
        "yaxis2": {
         "anchor": "x2",
         "domain": [
          0.625,
          1
         ]
        },
        "yaxis3": {
         "anchor": "x3",
         "domain": [
          0,
          0.375
         ]
        },
        "yaxis4": {
         "anchor": "x4",
         "domain": [
          0,
          0.375
         ]
        }
       }
      }
     },
     "metadata": {},
     "output_type": "display_data"
    }
   ],
   "source": [
    "fig = make_subplots(\n",
    "    rows=2, cols=2,\n",
    "    subplot_titles=('Delivery Reliability Distribution', 'Lead Time vs Reliability',\n",
    "                   'Fulfillment Time by ABC Category', 'On-Time Delivery Performance'),\n",
    "    specs=[[{\"type\": \"histogram\"}, {\"type\": \"scatter\"}],\n",
    "           [{\"type\": \"box\"}, {\"type\": \"bar\"}]]\n",
    ")\n",
    "\n",
    "# Delivery Reliability Distribution\n",
    "fig.add_trace(\n",
    "    go.Histogram(x=procurement_df['Delivery_Reliability'], name='Delivery Reliability',\n",
    "                nbinsx=25, marker_color='skyblue'),\n",
    "    row=1, col=1\n",
    ")\n",
    "\n",
    "# Lead Time vs Reliability Scatter\n",
    "fig.add_trace(\n",
    "    go.Scatter(x=procurement_df['Warehouse_Fulfillment_Days'], \n",
    "              y=procurement_df['Delivery_Reliability'],\n",
    "              mode='markers', name='Lead Time vs Reliability',\n",
    "              marker=dict(size=8, color=procurement_df['Procurement_Priority_Score'],\n",
    "                         colorscale='Viridis', opacity=0.6, showscale=True)),\n",
    "    row=1, col=2\n",
    ")\n",
    "\n",
    "# Fulfillment Time by ABC Category\n",
    "for category in abc_categories:\n",
    "    category_data = procurement_df[procurement_df['ABC_Category'] == category]\n",
    "    fig.add_trace(\n",
    "        go.Box(y=category_data['Warehouse_Fulfillment_Days'], name=f'Category {category}'),\n",
    "        row=2, col=1\n",
    "    )\n",
    "\n",
    "# On-Time Delivery Performance (Top and Bottom performers)\n",
    "delivery_sorted = procurement_df.sort_values('On_Time_Delivery_mean')\n",
    "top_performers = delivery_sorted.tail(10)\n",
    "bottom_performers = delivery_sorted.head(10)\n",
    "\n",
    "fig.add_trace(\n",
    "    go.Bar(x=top_performers['Product Name'].str[:20], y=top_performers['On_Time_Delivery_mean'],\n",
    "           name='Top Performers', marker_color='green'),\n",
    "    row=2, col=2\n",
    ")\n",
    "\n",
    "fig.add_trace(\n",
    "    go.Bar(x=bottom_performers['Product Name'].str[:20], y=bottom_performers['On_Time_Delivery_mean'],\n",
    "           name='Bottom Performers', marker_color='red'),\n",
    "    row=2, col=2\n",
    ")\n",
    "\n",
    "fig.update_layout(height=800, showlegend=True, title_text=\"Supplier Performance Dashboard\")\n",
    "fig.show()\n"
   ]
  },
  {
   "cell_type": "code",
   "execution_count": 27,
   "metadata": {},
   "outputs": [
    {
     "data": {
      "application/vnd.plotly.v1+json": {
       "config": {
        "plotlyServerURL": "https://plot.ly"
       },
       "data": [
        {
         "marker": {
          "color": "lightcoral"
         },
         "name": "Demand Growth",
         "nbinsx": 30,
         "type": "histogram",
         "x": [
          3.5167,
          4.947,
          0.1894,
          0.1847,
          0.5288,
          0.3076,
          0.5785,
          0.5206,
          2.1157,
          1.8,
          0.5,
          0,
          0.5141,
          0.444,
          0.9475,
          1.398,
          1,
          -0.8,
          -0.0165,
          0.231,
          0.656,
          0.0077,
          0.943,
          4.9,
          0.6105,
          0.3,
          0,
          -0.6667,
          0.6333,
          0.5066,
          0.6059,
          0.4349,
          0.3322,
          0,
          0.3125,
          0.3208,
          0.4555,
          0.6811,
          1.8889,
          1.86,
          0.375,
          0.48,
          0.4264,
          8.8333,
          -0.1167,
          0,
          0.5238,
          1.1791,
          0.1111,
          0.2222,
          0.5833,
          0.8336,
          0.4921,
          -0.0062,
          0.8527,
          0.688,
          -0.0417,
          0.2875,
          -0.0111,
          0.3303,
          0.85,
          0.4271,
          0.7525,
          1.4239,
          -0.0141,
          1.0833,
          0,
          0.0159,
          -0.0306,
          0.387,
          0.3056,
          2.2402,
          1.3333,
          2.875,
          1.7338,
          2,
          5.3988,
          0.4615,
          0.0333,
          1.8333,
          0.375,
          0.5658,
          1.2177,
          0.6263,
          0.6414,
          0.3319,
          1.1819,
          0.3952,
          0.5,
          0.7625,
          0.7874,
          0.6749,
          0.4986,
          0.0833,
          0.5788,
          4,
          0,
          -0.0521,
          0.5552,
          0.8529,
          1.3592,
          0.5911,
          0.9461,
          0.4776,
          0.5057,
          2.416,
          0.1875,
          0.3333,
          0.4919,
          0.2189,
          0.8278,
          0.7545,
          1.0556,
          0,
          0,
          0,
          0,
          0
         ],
         "xaxis": "x",
         "yaxis": "y"
        },
        {
         "marker": {
          "color": [
           "blue",
           "green",
           "blue",
           "green",
           "blue",
           "blue",
           "blue",
           "blue",
           "green",
           "blue",
           "green",
           "green",
           "green",
           "blue",
           "blue",
           "red",
           "green",
           "green",
           "red",
           "blue",
           "green",
           "red",
           "green",
           "red",
           "blue",
           "green",
           "green",
           "green",
           "green",
           "green",
           "green",
           "blue",
           "blue",
           "green",
           "green",
           "green",
           "green",
           "green",
           "red",
           "blue",
           "green",
           "red",
           "blue",
           "red",
           "green",
           "green",
           "green",
           "blue",
           "green",
           "green",
           "green",
           "green",
           "green",
           "red",
           "blue",
           "blue",
           "red",
           "green",
           "red",
           "green",
           "green",
           "blue",
           "green",
           "blue",
           "red",
           "green",
           "green",
           "red",
           "red",
           "green",
           "green",
           "red",
           "blue",
           "red",
           "green",
           "green",
           "red",
           "blue",
           "green",
           "blue",
           "green",
           "blue",
           "blue",
           "blue",
           "blue",
           "blue",
           "blue",
           "green",
           "green",
           "blue",
           "red",
           "blue",
           "red",
           "green",
           "green",
           "green",
           "green",
           "red",
           "blue",
           "blue",
           "blue",
           "blue",
           "blue",
           "blue",
           "red",
           "red",
           "green",
           "green",
           "blue",
           "red",
           "blue",
           "red",
           "green",
           "green",
           "green",
           "green",
           "green",
           "green"
          ],
          "opacity": 0.6,
          "size": [
           0.075,
           0.037,
           0.15,
           0.031,
           0.133,
           0.132,
           0.105,
           0.039,
           0.063,
           0.009,
           0.011,
           0.006,
           0.131,
           0.154,
           0.146,
           0.122,
           0.003,
           0.006,
           2.427,
           0.147,
           0.038,
           2.878,
           0.065,
           0.029,
           0.032,
           0.01,
           0.003,
           0.004,
           0.155,
           0.151,
           0.132,
           0.193,
           0.154,
           0.002,
           0.011,
           0.128,
           0.151,
           0.105,
           0.05,
           0.04,
           0.012,
           0.179,
           0.033,
           0.067,
           0.02,
           0.008,
           0.022,
           0.045,
           0.011,
           0.013,
           0.011,
           0.135,
           0.021,
           3.855,
           0.166,
           0.189,
           10.886,
           0.013,
           6.455,
           0.03,
           0.014,
           0.052,
           0.108,
           0.159,
           10.164,
           0.013,
           0.007,
           2.681,
           12.952,
           0.033,
           0.017,
           0.085,
           0.014,
           0.046,
           0.056,
           0.004,
           0.069,
           0.127,
           0.016,
           0.032,
           0.007,
           0.166,
           0.194,
           0.149,
           0.13,
           0.147,
           0.169,
           0.016,
           0.005,
           0.113,
           0.161,
           0.122,
           0.158,
           0.008,
           0.14,
           0.006,
           0.073,
           5.689,
           0.133,
           0.148,
           0.14,
           0.144,
           0.14,
           0.167,
           0.145,
           0.191,
           0.012,
           0.01,
           0.101,
           0.192,
           0.125,
           0.177,
           0.011,
           0,
           0,
           0,
           0,
           0
          ]
         },
         "mode": "markers",
         "name": "Variability vs Growth",
         "text": [
          "Adult dog supplies",
          "Baby sweater",
          "Bag Boy Beverage Holder",
          "Bag Boy M330 Push Cart",
          "Bridgestone e6 Straight Distan",
          "Bridgestone e6 Straight Distan",
          "Bridgestone e6 Straight Distan",
          "Brooks Women's Ghost 6 Running",
          "CDs of rock",
          "Children's heaters",
          "Cleveland Golf Collegiate My C",
          "Cleveland Golf Women's 588 RTX",
          "Clicgear 8.0 Shoe Brush",
          "Clicgear Rovic Cooler Bag",
          "Columbia Men's PFG Anchor Toug",
          "DVDs",
          "Diamondback Boys' Insight 24 P",
          "Diamondback Girls' Clarity 24 ",
          "Diamondback Women's Serene Cla",
          "ENO Atlas Hammock Straps",
          "Elevation Training Mask 2.0",
          "Field & Stream Sportsman 16 Gu",
          "Fighting video games",
          "First aid kit",
          "Fitbit The One Wireless Activi",
          "Garmin Approach S3 Golf GPS Wa",
          "Garmin Approach S4 Golf GPS Wa",
          "Garmin Forerunner 910XT GPS Wa",
          "Glove It Imperial Golf Towel",
          "Glove It Urban Brick Golf Towe",
          "Glove It Women's Imperial Golf",
          "Glove It Women's Mod Oval 3-Zi",
          "Glove It Women's Mod Oval Golf",
          "GoPro HERO3+ Black Edition Cam",
          "GolfBuddy VT3 GPS Watch",
          "Hirzl Men's Hybrid Golf Glove",
          "Hirzl Women's Hybrid Golf Glov",
          "Hirzl Women's Soffft Flex Golf",
          "Industrial consumer electronic",
          "LIJA Women's Argyle Golf Polo",
          "LIJA Women's Button Golf Dress",
          "LIJA Women's Eyelet Sleeveless",
          "LIJA Women's Mid-Length Panel ",
          "Lawn mower",
          "MDGolf Pittsburgh Penguins Put",
          "Men's gala suit",
          "Merrell Men's All Out Flash Tr",
          "Merrell Women's Grassbow Sport",
          "Merrell Women's Grassbow Sport",
          "Merrell Women's Siren Mid Wate",
          "Mio ALPHA Heart Rate Monitor/S",
          "Nike Dri-FIT Crew Sock 6 Pack",
          "Nike Kids' Grade School KD VI ",
          "Nike Men's CJ Elite 2 TD Footb",
          "Nike Men's Comfort 2 Slide",
          "Nike Men's Deutschland Weltmei",
          "Nike Men's Dri-FIT Victory Gol",
          "Nike Men's Fingertrap Max Trai",
          "Nike Men's Free 5.0+ Running S",
          "Nike Men's Free TR 5.0 TB Trai",
          "Nike Men's Kobe IX Elite Low B",
          "Nike Women's Free 5.0 TR FIT P",
          "Nike Women's Legend V-Neck T-S",
          "Nike Women's Tempo Shorts",
          "O'Brien Men's Neoprene Life Ve",
          "Ogio Race Golf Shoes",
          "Pelican Maverick 100X Kayak",
          "Pelican Sunstream 100 Kayak",
          "Perfect Fitness Perfect Rip De",
          "Polar FT4 Heart Rate Monitor",
          "Polar Loop Activity Tracker",
          "Porcelain crafts",
          "Rock music",
          "Smart watch",
          "Sports Books",
          "Stiga Master Series ST3100 Com",
          "Summer dresses",
          "TYR Boys' Team Digi Jammer",
          "TaylorMade 2017 Purelite Stand",
          "TaylorMade White Smoke IN-12 P",
          "TaylorMade Women's RBZ SL Resc",
          "Team Golf New England Patriots",
          "Team Golf Pittsburgh Steelers ",
          "Team Golf San Francisco Giants",
          "Team Golf St. Louis Cardinals ",
          "Team Golf Tennessee Volunteers",
          "Team Golf Texas Longhorns Putt",
          "The North Face Women's Recon B",
          "Titleist Club Glove Travel Cov",
          "Titleist Pro V1 High Numbers P",
          "Titleist Pro V1x Golf Balls",
          "Titleist Pro V1x High Numbers ",
          "Titleist Pro V1x High Numbers ",
          "Titleist Small Wheeled Travel ",
          "Top Flite Women's 2017 XL Hybr",
          "Total Gym 1400",
          "Toys",
          "Under Armour Girls' Toddler Sp",
          "Under Armour Hustle Storm Medi",
          "Under Armour Kids' Mercenary S",
          "Under Armour Men's Compression",
          "Under Armour Men's Tech II T-S",
          "Under Armour Women's Ignite PI",
          "Under Armour Women's Ignite Sl",
          "Under Armour Women's Micro G S",
          "Web Camera",
          "Yakima DoubleDown Ace Hitch Mo",
          "adidas Brazuca 2017 Official M",
          "adidas Kids' F5 Messi FG Socce",
          "adidas Men's F10 Messi TRX FG ",
          "adidas Men's Germany Black Cre",
          "adidas Youth Germany Black/Red",
          "insta-bed Neverflat Air Mattre",
          "Bowflex SelectTech 1090 Dumbbe",
          "Bushnell Pro X7 Jolt Slope Ran",
          "Dell Laptop",
          "SOLE E25 Elliptical",
          "SOLE E35 Elliptical"
         ],
         "type": "scatter",
         "x": [
          0,
          0,
          0.5182608127531687,
          0.4674516129032258,
          0.4812253945148377,
          0.4593454545454545,
          0.5541616745366128,
          0.5091666666666667,
          0,
          0,
          0,
          0,
          0.465437640269317,
          0.4816570683127048,
          0.5123630136986301,
          0,
          0,
          0,
          0,
          0.5086490501963281,
          0.3743812418584455,
          0,
          0,
          0,
          0.3328458394270071,
          0,
          0,
          0,
          0.4882246376811594,
          0.5113458386450556,
          0.3937333333333333,
          0.479977243275704,
          0.500219483369914,
          0,
          0,
          0.43680333119795,
          0.4706291390728477,
          0.5671323103647944,
          0,
          0.50596,
          0,
          0.3905074909693847,
          0.3837454545454545,
          0,
          0.5123726855902838,
          0,
          0,
          0.5194666666666666,
          0,
          0,
          0,
          0.5353593713889531,
          0.4961904761904762,
          0,
          0.4797339506853343,
          0.4863666666666666,
          0.4743636666112127,
          0,
          0.4712469534286279,
          0.5701976313570197,
          0,
          0.3593907750887011,
          0.4339536162801356,
          0.5269682820801803,
          0.4764737514283793,
          0,
          0,
          0,
          0.4673426781986281,
          0.3049063190334634,
          0,
          0,
          0,
          0,
          0,
          0,
          0,
          0.4272755905511811,
          0,
          0.2851276859039262,
          0,
          0.4706778874826055,
          0.4574304889741131,
          0.462248322147651,
          0.5071480494305791,
          0.4974829931972789,
          0.4725623123882762,
          0.4074375,
          0,
          0.5187964601769911,
          0.4876869565217391,
          0.4736642798127237,
          0.4237362047566335,
          0,
          0.4608337886921024,
          0,
          0,
          0.4612894788465311,
          0.5161791663345819,
          0.4439920432647479,
          0.4735488737271573,
          0.4879561329068477,
          0.5588928571428572,
          0.5014251701820864,
          0.4451138771186441,
          0,
          0,
          0,
          0.4578908753909719,
          0.4656450977818611,
          0.520116864373966,
          0.4232243382441011,
          0,
          0,
          0,
          0,
          0,
          0
         ],
         "xaxis": "x2",
         "y": [
          3.5167,
          4.947,
          0.1894,
          0.1847,
          0.5288,
          0.3076,
          0.5785,
          0.5206,
          2.1157,
          1.8,
          0.5,
          0,
          0.5141,
          0.444,
          0.9475,
          1.398,
          1,
          -0.8,
          -0.0165,
          0.231,
          0.656,
          0.0077,
          0.943,
          4.9,
          0.6105,
          0.3,
          0,
          -0.6667,
          0.6333,
          0.5066,
          0.6059,
          0.4349,
          0.3322,
          0,
          0.3125,
          0.3208,
          0.4555,
          0.6811,
          1.8889,
          1.86,
          0.375,
          0.48,
          0.4264,
          8.8333,
          -0.1167,
          0,
          0.5238,
          1.1791,
          0.1111,
          0.2222,
          0.5833,
          0.8336,
          0.4921,
          -0.0062,
          0.8527,
          0.688,
          -0.0417,
          0.2875,
          -0.0111,
          0.3303,
          0.85,
          0.4271,
          0.7525,
          1.4239,
          -0.0141,
          1.0833,
          0,
          0.0159,
          -0.0306,
          0.387,
          0.3056,
          2.2402,
          1.3333,
          2.875,
          1.7338,
          2,
          5.3988,
          0.4615,
          0.0333,
          1.8333,
          0.375,
          0.5658,
          1.2177,
          0.6263,
          0.6414,
          0.3319,
          1.1819,
          0.3952,
          0.5,
          0.7625,
          0.7874,
          0.6749,
          0.4986,
          0.0833,
          0.5788,
          4,
          0,
          -0.0521,
          0.5552,
          0.8529,
          1.3592,
          0.5911,
          0.9461,
          0.4776,
          0.5057,
          2.416,
          0.1875,
          0.3333,
          0.4919,
          0.2189,
          0.8278,
          0.7545,
          1.0556,
          0,
          0,
          0,
          0,
          0
         ],
         "yaxis": "y2"
        },
        {
         "marker": {
          "color": "gold"
         },
         "name": "High Growth Products",
         "type": "bar",
         "x": [
          "Lawn mower",
          "Summer dresses",
          "Baby sweater",
          "First aid kit",
          "Total Gym 1400",
          "Adult dog supplies",
          "Smart watch",
          "Web Camera",
          "Porcelain crafts",
          "CDs of rock",
          "Stiga Master Series ",
          "Industrial consumer ",
          "LIJA Women's Argyle ",
          "TaylorMade White Smo",
          "Children's heaters"
         ],
         "xaxis": "x3",
         "y": [
          8.8333,
          5.3988,
          4.947,
          4.9,
          4,
          3.5167,
          2.875,
          2.416,
          2.2402,
          2.1157,
          2,
          1.8889,
          1.86,
          1.8333,
          1.8
         ],
         "yaxis": "y3"
        },
        {
         "mode": "lines+markers",
         "name": "Fan Shop",
         "type": "scatter",
         "x": [
          1,
          2,
          3,
          4,
          5,
          6,
          7,
          8,
          9,
          10,
          11,
          12
         ],
         "xaxis": "x4",
         "y": [
          1772,
          1664,
          1644,
          1652,
          1644,
          1538,
          1757,
          1589,
          1611,
          1169,
          1131,
          1233
         ],
         "yaxis": "y4"
        },
        {
         "mode": "lines+markers",
         "name": "Apparel",
         "type": "scatter",
         "x": [
          1,
          2,
          3,
          4,
          5,
          6,
          7,
          8,
          9,
          10,
          11,
          12
         ],
         "xaxis": "x4",
         "y": [
          1557,
          1455,
          1637,
          1571,
          1560,
          1474,
          1507,
          1617,
          1460,
          1096,
          1075,
          1012
         ],
         "yaxis": "y4"
        },
        {
         "mode": "lines+markers",
         "name": "Golf",
         "type": "scatter",
         "x": [
          1,
          2,
          3,
          4,
          5,
          6,
          7,
          8,
          9,
          10,
          11,
          12
         ],
         "xaxis": "x4",
         "y": [
          1708,
          1598,
          1648,
          1563,
          1534,
          1478,
          1578,
          1599,
          1504,
          1131,
          1082,
          930
         ],
         "yaxis": "y4"
        },
        {
         "mode": "lines+markers",
         "name": "Footwear",
         "type": "scatter",
         "x": [
          1,
          2,
          3,
          4,
          5,
          6,
          7,
          8,
          9,
          10,
          11,
          12
         ],
         "xaxis": "x4",
         "y": [
          714,
          679,
          615,
          690,
          650,
          647,
          714,
          732,
          646,
          569,
          517,
          449
         ],
         "yaxis": "y4"
        },
        {
         "mode": "lines+markers",
         "name": "Outdoors",
         "type": "scatter",
         "x": [
          1,
          2,
          3,
          4,
          5,
          6,
          7,
          8,
          9,
          10,
          11,
          12
         ],
         "xaxis": "x4",
         "y": [
          376,
          439,
          387,
          405,
          387,
          356,
          398,
          304,
          317,
          328,
          327,
          291
         ],
         "yaxis": "y4"
        },
        {
         "mode": "lines+markers",
         "name": "Fitness",
         "type": "scatter",
         "x": [
          1,
          2,
          3,
          4,
          5,
          6,
          7,
          8,
          9,
          10,
          11,
          12
         ],
         "xaxis": "x4",
         "y": [
          83,
          84,
          78,
          107,
          105,
          58,
          81,
          67,
          82,
          69,
          70,
          103
         ],
         "yaxis": "y4"
        },
        {
         "mode": "lines+markers",
         "name": "Discs Shop",
         "type": "scatter",
         "x": [
          1,
          2,
          3,
          6,
          8,
          9,
          10,
          11,
          12
         ],
         "xaxis": "x4",
         "y": [
          4,
          3,
          3,
          2,
          4,
          11,
          61,
          95,
          81
         ],
         "yaxis": "y4"
        },
        {
         "mode": "lines+markers",
         "name": "Technology",
         "type": "scatter",
         "x": [
          6,
          7,
          8,
          9,
          10,
          11
         ],
         "xaxis": "x4",
         "y": [
          3,
          10,
          7,
          20,
          148,
          53
         ],
         "yaxis": "y4"
        }
       ],
       "layout": {
        "annotations": [
         {
          "font": {
           "size": 16
          },
          "showarrow": false,
          "text": "Demand Growth Distribution",
          "x": 0.225,
          "xanchor": "center",
          "xref": "paper",
          "y": 1,
          "yanchor": "bottom",
          "yref": "paper"
         },
         {
          "font": {
           "size": 16
          },
          "showarrow": false,
          "text": "Demand Variability vs Growth",
          "x": 0.775,
          "xanchor": "center",
          "xref": "paper",
          "y": 1,
          "yanchor": "bottom",
          "yref": "paper"
         },
         {
          "font": {
           "size": 16
          },
          "showarrow": false,
          "text": "High Growth Products",
          "x": 0.225,
          "xanchor": "center",
          "xref": "paper",
          "y": 0.375,
          "yanchor": "bottom",
          "yref": "paper"
         },
         {
          "font": {
           "size": 16
          },
          "showarrow": false,
          "text": "Demand Patterns by Department",
          "x": 0.775,
          "xanchor": "center",
          "xref": "paper",
          "y": 0.375,
          "yanchor": "bottom",
          "yref": "paper"
         }
        ],
        "height": 800,
        "showlegend": true,
        "template": {
         "data": {
          "bar": [
           {
            "error_x": {
             "color": "#2a3f5f"
            },
            "error_y": {
             "color": "#2a3f5f"
            },
            "marker": {
             "line": {
              "color": "#E5ECF6",
              "width": 0.5
             },
             "pattern": {
              "fillmode": "overlay",
              "size": 10,
              "solidity": 0.2
             }
            },
            "type": "bar"
           }
          ],
          "barpolar": [
           {
            "marker": {
             "line": {
              "color": "#E5ECF6",
              "width": 0.5
             },
             "pattern": {
              "fillmode": "overlay",
              "size": 10,
              "solidity": 0.2
             }
            },
            "type": "barpolar"
           }
          ],
          "carpet": [
           {
            "aaxis": {
             "endlinecolor": "#2a3f5f",
             "gridcolor": "white",
             "linecolor": "white",
             "minorgridcolor": "white",
             "startlinecolor": "#2a3f5f"
            },
            "baxis": {
             "endlinecolor": "#2a3f5f",
             "gridcolor": "white",
             "linecolor": "white",
             "minorgridcolor": "white",
             "startlinecolor": "#2a3f5f"
            },
            "type": "carpet"
           }
          ],
          "choropleth": [
           {
            "colorbar": {
             "outlinewidth": 0,
             "ticks": ""
            },
            "type": "choropleth"
           }
          ],
          "contour": [
           {
            "colorbar": {
             "outlinewidth": 0,
             "ticks": ""
            },
            "colorscale": [
             [
              0,
              "#0d0887"
             ],
             [
              0.1111111111111111,
              "#46039f"
             ],
             [
              0.2222222222222222,
              "#7201a8"
             ],
             [
              0.3333333333333333,
              "#9c179e"
             ],
             [
              0.4444444444444444,
              "#bd3786"
             ],
             [
              0.5555555555555556,
              "#d8576b"
             ],
             [
              0.6666666666666666,
              "#ed7953"
             ],
             [
              0.7777777777777778,
              "#fb9f3a"
             ],
             [
              0.8888888888888888,
              "#fdca26"
             ],
             [
              1,
              "#f0f921"
             ]
            ],
            "type": "contour"
           }
          ],
          "contourcarpet": [
           {
            "colorbar": {
             "outlinewidth": 0,
             "ticks": ""
            },
            "type": "contourcarpet"
           }
          ],
          "heatmap": [
           {
            "colorbar": {
             "outlinewidth": 0,
             "ticks": ""
            },
            "colorscale": [
             [
              0,
              "#0d0887"
             ],
             [
              0.1111111111111111,
              "#46039f"
             ],
             [
              0.2222222222222222,
              "#7201a8"
             ],
             [
              0.3333333333333333,
              "#9c179e"
             ],
             [
              0.4444444444444444,
              "#bd3786"
             ],
             [
              0.5555555555555556,
              "#d8576b"
             ],
             [
              0.6666666666666666,
              "#ed7953"
             ],
             [
              0.7777777777777778,
              "#fb9f3a"
             ],
             [
              0.8888888888888888,
              "#fdca26"
             ],
             [
              1,
              "#f0f921"
             ]
            ],
            "type": "heatmap"
           }
          ],
          "heatmapgl": [
           {
            "colorbar": {
             "outlinewidth": 0,
             "ticks": ""
            },
            "colorscale": [
             [
              0,
              "#0d0887"
             ],
             [
              0.1111111111111111,
              "#46039f"
             ],
             [
              0.2222222222222222,
              "#7201a8"
             ],
             [
              0.3333333333333333,
              "#9c179e"
             ],
             [
              0.4444444444444444,
              "#bd3786"
             ],
             [
              0.5555555555555556,
              "#d8576b"
             ],
             [
              0.6666666666666666,
              "#ed7953"
             ],
             [
              0.7777777777777778,
              "#fb9f3a"
             ],
             [
              0.8888888888888888,
              "#fdca26"
             ],
             [
              1,
              "#f0f921"
             ]
            ],
            "type": "heatmapgl"
           }
          ],
          "histogram": [
           {
            "marker": {
             "pattern": {
              "fillmode": "overlay",
              "size": 10,
              "solidity": 0.2
             }
            },
            "type": "histogram"
           }
          ],
          "histogram2d": [
           {
            "colorbar": {
             "outlinewidth": 0,
             "ticks": ""
            },
            "colorscale": [
             [
              0,
              "#0d0887"
             ],
             [
              0.1111111111111111,
              "#46039f"
             ],
             [
              0.2222222222222222,
              "#7201a8"
             ],
             [
              0.3333333333333333,
              "#9c179e"
             ],
             [
              0.4444444444444444,
              "#bd3786"
             ],
             [
              0.5555555555555556,
              "#d8576b"
             ],
             [
              0.6666666666666666,
              "#ed7953"
             ],
             [
              0.7777777777777778,
              "#fb9f3a"
             ],
             [
              0.8888888888888888,
              "#fdca26"
             ],
             [
              1,
              "#f0f921"
             ]
            ],
            "type": "histogram2d"
           }
          ],
          "histogram2dcontour": [
           {
            "colorbar": {
             "outlinewidth": 0,
             "ticks": ""
            },
            "colorscale": [
             [
              0,
              "#0d0887"
             ],
             [
              0.1111111111111111,
              "#46039f"
             ],
             [
              0.2222222222222222,
              "#7201a8"
             ],
             [
              0.3333333333333333,
              "#9c179e"
             ],
             [
              0.4444444444444444,
              "#bd3786"
             ],
             [
              0.5555555555555556,
              "#d8576b"
             ],
             [
              0.6666666666666666,
              "#ed7953"
             ],
             [
              0.7777777777777778,
              "#fb9f3a"
             ],
             [
              0.8888888888888888,
              "#fdca26"
             ],
             [
              1,
              "#f0f921"
             ]
            ],
            "type": "histogram2dcontour"
           }
          ],
          "mesh3d": [
           {
            "colorbar": {
             "outlinewidth": 0,
             "ticks": ""
            },
            "type": "mesh3d"
           }
          ],
          "parcoords": [
           {
            "line": {
             "colorbar": {
              "outlinewidth": 0,
              "ticks": ""
             }
            },
            "type": "parcoords"
           }
          ],
          "pie": [
           {
            "automargin": true,
            "type": "pie"
           }
          ],
          "scatter": [
           {
            "fillpattern": {
             "fillmode": "overlay",
             "size": 10,
             "solidity": 0.2
            },
            "type": "scatter"
           }
          ],
          "scatter3d": [
           {
            "line": {
             "colorbar": {
              "outlinewidth": 0,
              "ticks": ""
             }
            },
            "marker": {
             "colorbar": {
              "outlinewidth": 0,
              "ticks": ""
             }
            },
            "type": "scatter3d"
           }
          ],
          "scattercarpet": [
           {
            "marker": {
             "colorbar": {
              "outlinewidth": 0,
              "ticks": ""
             }
            },
            "type": "scattercarpet"
           }
          ],
          "scattergeo": [
           {
            "marker": {
             "colorbar": {
              "outlinewidth": 0,
              "ticks": ""
             }
            },
            "type": "scattergeo"
           }
          ],
          "scattergl": [
           {
            "marker": {
             "colorbar": {
              "outlinewidth": 0,
              "ticks": ""
             }
            },
            "type": "scattergl"
           }
          ],
          "scattermapbox": [
           {
            "marker": {
             "colorbar": {
              "outlinewidth": 0,
              "ticks": ""
             }
            },
            "type": "scattermapbox"
           }
          ],
          "scatterpolar": [
           {
            "marker": {
             "colorbar": {
              "outlinewidth": 0,
              "ticks": ""
             }
            },
            "type": "scatterpolar"
           }
          ],
          "scatterpolargl": [
           {
            "marker": {
             "colorbar": {
              "outlinewidth": 0,
              "ticks": ""
             }
            },
            "type": "scatterpolargl"
           }
          ],
          "scatterternary": [
           {
            "marker": {
             "colorbar": {
              "outlinewidth": 0,
              "ticks": ""
             }
            },
            "type": "scatterternary"
           }
          ],
          "surface": [
           {
            "colorbar": {
             "outlinewidth": 0,
             "ticks": ""
            },
            "colorscale": [
             [
              0,
              "#0d0887"
             ],
             [
              0.1111111111111111,
              "#46039f"
             ],
             [
              0.2222222222222222,
              "#7201a8"
             ],
             [
              0.3333333333333333,
              "#9c179e"
             ],
             [
              0.4444444444444444,
              "#bd3786"
             ],
             [
              0.5555555555555556,
              "#d8576b"
             ],
             [
              0.6666666666666666,
              "#ed7953"
             ],
             [
              0.7777777777777778,
              "#fb9f3a"
             ],
             [
              0.8888888888888888,
              "#fdca26"
             ],
             [
              1,
              "#f0f921"
             ]
            ],
            "type": "surface"
           }
          ],
          "table": [
           {
            "cells": {
             "fill": {
              "color": "#EBF0F8"
             },
             "line": {
              "color": "white"
             }
            },
            "header": {
             "fill": {
              "color": "#C8D4E3"
             },
             "line": {
              "color": "white"
             }
            },
            "type": "table"
           }
          ]
         },
         "layout": {
          "annotationdefaults": {
           "arrowcolor": "#2a3f5f",
           "arrowhead": 0,
           "arrowwidth": 1
          },
          "autotypenumbers": "strict",
          "coloraxis": {
           "colorbar": {
            "outlinewidth": 0,
            "ticks": ""
           }
          },
          "colorscale": {
           "diverging": [
            [
             0,
             "#8e0152"
            ],
            [
             0.1,
             "#c51b7d"
            ],
            [
             0.2,
             "#de77ae"
            ],
            [
             0.3,
             "#f1b6da"
            ],
            [
             0.4,
             "#fde0ef"
            ],
            [
             0.5,
             "#f7f7f7"
            ],
            [
             0.6,
             "#e6f5d0"
            ],
            [
             0.7,
             "#b8e186"
            ],
            [
             0.8,
             "#7fbc41"
            ],
            [
             0.9,
             "#4d9221"
            ],
            [
             1,
             "#276419"
            ]
           ],
           "sequential": [
            [
             0,
             "#0d0887"
            ],
            [
             0.1111111111111111,
             "#46039f"
            ],
            [
             0.2222222222222222,
             "#7201a8"
            ],
            [
             0.3333333333333333,
             "#9c179e"
            ],
            [
             0.4444444444444444,
             "#bd3786"
            ],
            [
             0.5555555555555556,
             "#d8576b"
            ],
            [
             0.6666666666666666,
             "#ed7953"
            ],
            [
             0.7777777777777778,
             "#fb9f3a"
            ],
            [
             0.8888888888888888,
             "#fdca26"
            ],
            [
             1,
             "#f0f921"
            ]
           ],
           "sequentialminus": [
            [
             0,
             "#0d0887"
            ],
            [
             0.1111111111111111,
             "#46039f"
            ],
            [
             0.2222222222222222,
             "#7201a8"
            ],
            [
             0.3333333333333333,
             "#9c179e"
            ],
            [
             0.4444444444444444,
             "#bd3786"
            ],
            [
             0.5555555555555556,
             "#d8576b"
            ],
            [
             0.6666666666666666,
             "#ed7953"
            ],
            [
             0.7777777777777778,
             "#fb9f3a"
            ],
            [
             0.8888888888888888,
             "#fdca26"
            ],
            [
             1,
             "#f0f921"
            ]
           ]
          },
          "colorway": [
           "#636efa",
           "#EF553B",
           "#00cc96",
           "#ab63fa",
           "#FFA15A",
           "#19d3f3",
           "#FF6692",
           "#B6E880",
           "#FF97FF",
           "#FECB52"
          ],
          "font": {
           "color": "#2a3f5f"
          },
          "geo": {
           "bgcolor": "white",
           "lakecolor": "white",
           "landcolor": "#E5ECF6",
           "showlakes": true,
           "showland": true,
           "subunitcolor": "white"
          },
          "hoverlabel": {
           "align": "left"
          },
          "hovermode": "closest",
          "mapbox": {
           "style": "light"
          },
          "paper_bgcolor": "white",
          "plot_bgcolor": "#E5ECF6",
          "polar": {
           "angularaxis": {
            "gridcolor": "white",
            "linecolor": "white",
            "ticks": ""
           },
           "bgcolor": "#E5ECF6",
           "radialaxis": {
            "gridcolor": "white",
            "linecolor": "white",
            "ticks": ""
           }
          },
          "scene": {
           "xaxis": {
            "backgroundcolor": "#E5ECF6",
            "gridcolor": "white",
            "gridwidth": 2,
            "linecolor": "white",
            "showbackground": true,
            "ticks": "",
            "zerolinecolor": "white"
           },
           "yaxis": {
            "backgroundcolor": "#E5ECF6",
            "gridcolor": "white",
            "gridwidth": 2,
            "linecolor": "white",
            "showbackground": true,
            "ticks": "",
            "zerolinecolor": "white"
           },
           "zaxis": {
            "backgroundcolor": "#E5ECF6",
            "gridcolor": "white",
            "gridwidth": 2,
            "linecolor": "white",
            "showbackground": true,
            "ticks": "",
            "zerolinecolor": "white"
           }
          },
          "shapedefaults": {
           "line": {
            "color": "#2a3f5f"
           }
          },
          "ternary": {
           "aaxis": {
            "gridcolor": "white",
            "linecolor": "white",
            "ticks": ""
           },
           "baxis": {
            "gridcolor": "white",
            "linecolor": "white",
            "ticks": ""
           },
           "bgcolor": "#E5ECF6",
           "caxis": {
            "gridcolor": "white",
            "linecolor": "white",
            "ticks": ""
           }
          },
          "title": {
           "x": 0.05
          },
          "xaxis": {
           "automargin": true,
           "gridcolor": "white",
           "linecolor": "white",
           "ticks": "",
           "title": {
            "standoff": 15
           },
           "zerolinecolor": "white",
           "zerolinewidth": 2
          },
          "yaxis": {
           "automargin": true,
           "gridcolor": "white",
           "linecolor": "white",
           "ticks": "",
           "title": {
            "standoff": 15
           },
           "zerolinecolor": "white",
           "zerolinewidth": 2
          }
         }
        },
        "title": {
         "text": "Demand Forecasting Dashboard"
        },
        "xaxis": {
         "anchor": "y",
         "domain": [
          0,
          0.45
         ]
        },
        "xaxis2": {
         "anchor": "y2",
         "domain": [
          0.55,
          1
         ]
        },
        "xaxis3": {
         "anchor": "y3",
         "domain": [
          0,
          0.45
         ]
        },
        "xaxis4": {
         "anchor": "y4",
         "domain": [
          0.55,
          1
         ]
        },
        "yaxis": {
         "anchor": "x",
         "domain": [
          0.625,
          1
         ]
        },
        "yaxis2": {
         "anchor": "x2",
         "domain": [
          0.625,
          1
         ]
        },
        "yaxis3": {
         "anchor": "x3",
         "domain": [
          0,
          0.375
         ]
        },
        "yaxis4": {
         "anchor": "x4",
         "domain": [
          0,
          0.375
         ]
        }
       }
      }
     },
     "metadata": {},
     "output_type": "display_data"
    }
   ],
   "source": [
    "fig = make_subplots(\n",
    "    rows=2, cols=2,\n",
    "    subplot_titles=('Demand Growth Distribution', 'Demand Variability vs Growth',\n",
    "                   'High Growth Products', 'Demand Patterns by Department'),\n",
    "    specs=[[{\"type\": \"histogram\"}, {\"type\": \"scatter\"}],\n",
    "           [{\"type\": \"bar\"}, {\"type\": \"box\"}]]\n",
    ")\n",
    "\n",
    "# Demand Growth Distribution\n",
    "fig.add_trace(\n",
    "    go.Histogram(x=procurement_df['Demand_Growth_Mean'], name='Demand Growth',\n",
    "                nbinsx=30, marker_color='lightcoral'),\n",
    "    row=1, col=1\n",
    ")\n",
    "\n",
    "# Demand Variability vs Growth\n",
    "fig.add_trace(\n",
    "    go.Scatter(x=procurement_df['Demand_Variability'], y=procurement_df['Demand_Growth_Mean'],\n",
    "              mode='markers', name='Variability vs Growth',\n",
    "              marker=dict(size=procurement_df['Order Quantity_sum']/1000, \n",
    "                         color=procurement_df['ABC_Category'].map({'A': 'red', 'B': 'blue', 'C': 'green'}),\n",
    "                         opacity=0.6),\n",
    "              text=procurement_df['Product Name'].str[:30]),\n",
    "    row=1, col=2\n",
    ")\n",
    "\n",
    "# High Growth Products (Top 15)\n",
    "high_growth = procurement_df.nlargest(15, 'Demand_Growth_Mean')\n",
    "fig.add_trace(\n",
    "    go.Bar(x=high_growth['Product Name'].str[:20], y=high_growth['Demand_Growth_Mean'],\n",
    "           name='High Growth Products', marker_color='gold'),\n",
    "    row=2, col=1\n",
    ")\n",
    "\n",
    "# Demand Patterns by Department\n",
    "departments = orders_df['Product Department'].value_counts().head(8).index\n",
    "for dept in departments:\n",
    "    dept_data = orders_df[orders_df['Product Department'] == dept]\n",
    "    monthly_dept = dept_data.groupby(dept_data['Order_Date'].dt.month)['Order Quantity'].sum()\n",
    "    fig.add_trace(\n",
    "        go.Scatter(x=monthly_dept.index, y=monthly_dept.values, \n",
    "                  mode='lines+markers', name=dept),\n",
    "        row=2, col=2\n",
    "    )\n",
    "\n",
    "fig.update_layout(height=800, showlegend=True, title_text=\"Demand Forecasting Dashboard\")\n",
    "fig.show()"
   ]
  },
  {
   "cell_type": "code",
   "execution_count": 28,
   "metadata": {},
   "outputs": [
    {
     "data": {
      "application/vnd.plotly.v1+json": {
       "config": {
        "plotlyServerURL": "https://plot.ly"
       },
       "data": [
        {
         "colorscale": [
          [
           0,
           "rgb(103,0,31)"
          ],
          [
           0.1,
           "rgb(178,24,43)"
          ],
          [
           0.2,
           "rgb(214,96,77)"
          ],
          [
           0.3,
           "rgb(244,165,130)"
          ],
          [
           0.4,
           "rgb(253,219,199)"
          ],
          [
           0.5,
           "rgb(247,247,247)"
          ],
          [
           0.6,
           "rgb(209,229,240)"
          ],
          [
           0.7,
           "rgb(146,197,222)"
          ],
          [
           0.8,
           "rgb(67,147,195)"
          ],
          [
           0.9,
           "rgb(33,102,172)"
          ],
          [
           1,
           "rgb(5,48,97)"
          ]
         ],
         "hoverongaps": false,
         "text": [
          [
           1,
           -0.02,
           -0.26,
           -0.31,
           0.29,
           -0.17,
           0.88,
           0.91,
           0.21,
           -0.07
          ],
          [
           -0.02,
           1,
           -0.05,
           -0.48,
           0.03,
           -0.16,
           0.04,
           0.01,
           0.79,
           -0.38
          ],
          [
           -0.26,
           -0.05,
           1,
           0.06,
           -0.18,
           0.05,
           -0.21,
           -0.22,
           -0.04,
           0.03
          ],
          [
           -0.31,
           -0.48,
           0.06,
           1,
           0.39,
           0.3,
           -0.41,
           -0.45,
           -0.55,
           0.73
          ],
          [
           0.29,
           0.03,
           -0.18,
           0.39,
           1,
           0.15,
           0.19,
           0.16,
           0.05,
           0.37
          ],
          [
           -0.17,
           -0.16,
           0.05,
           0.3,
           0.15,
           1,
           -0.2,
           -0.21,
           -0.17,
           0.65
          ],
          [
           0.88,
           0.04,
           -0.21,
           -0.41,
           0.19,
           -0.2,
           1,
           0.99,
           0.24,
           -0.19
          ],
          [
           0.91,
           0.01,
           -0.22,
           -0.45,
           0.16,
           -0.21,
           0.99,
           1,
           0.24,
           -0.22
          ],
          [
           0.21,
           0.79,
           -0.04,
           -0.55,
           0.05,
           -0.17,
           0.24,
           0.24,
           1,
           -0.39
          ],
          [
           -0.07,
           -0.38,
           0.03,
           0.73,
           0.37,
           0.65,
           -0.19,
           -0.22,
           -0.39,
           1
          ]
         ],
         "textfont": {
          "size": 10
         },
         "texttemplate": "%{text}",
         "type": "heatmap",
         "x": [
          "Order Quantity_mean",
          "Gross Sales_sum",
          "Current_Inventory",
          "Stockout_Frequency",
          "Delivery_Reliability",
          "Demand_Growth_Mean",
          "Reorder_Point",
          "Safety_Stock",
          "EOQ",
          "Procurement_Priority_Score"
         ],
         "y": [
          "Order Quantity_mean",
          "Gross Sales_sum",
          "Current_Inventory",
          "Stockout_Frequency",
          "Delivery_Reliability",
          "Demand_Growth_Mean",
          "Reorder_Point",
          "Safety_Stock",
          "EOQ",
          "Procurement_Priority_Score"
         ],
         "z": [
          [
           1,
           -0.018345178035999055,
           -0.2557547044225571,
           -0.3073186794685955,
           0.2939823547810958,
           -0.16975098231159375,
           0.8779403568966877,
           0.9105176810752494,
           0.20537056608343474,
           -0.06735969812110525
          ],
          [
           -0.018345178035999055,
           1,
           -0.053238176376263255,
           -0.4770764361555354,
           0.030420625317478547,
           -0.15711502197189,
           0.035530725518686176,
           0.014098849222643421,
           0.7878014057379278,
           -0.37510538066384674
          ],
          [
           -0.2557547044225571,
           -0.053238176376263255,
           1,
           0.06174421214206294,
           -0.177357258519349,
           0.05494771042520342,
           -0.21342503499069568,
           -0.22222208036198338,
           -0.03660715698389702,
           0.027097096869057168
          ],
          [
           -0.3073186794685955,
           -0.4770764361555354,
           0.06174421214206294,
           1,
           0.39251302609326133,
           0.29619467345513667,
           -0.41353541061428745,
           -0.45367204810354034,
           -0.5459218864712393,
           0.727437396704505
          ],
          [
           0.2939823547810958,
           0.030420625317478547,
           -0.177357258519349,
           0.39251302609326133,
           1,
           0.14986536664204408,
           0.18907504989424337,
           0.15915932183772435,
           0.049597577718850504,
           0.3670623031142804
          ],
          [
           -0.16975098231159375,
           -0.15711502197189,
           0.05494771042520342,
           0.29619467345513667,
           0.14986536664204408,
           1,
           -0.19649543629118527,
           -0.2096411029551883,
           -0.16877162050401082,
           0.647116420404578
          ],
          [
           0.8779403568966877,
           0.035530725518686176,
           -0.21342503499069568,
           -0.41353541061428745,
           0.18907504989424337,
           -0.19649543629118527,
           1,
           0.9861236980287647,
           0.23944239478309404,
           -0.1893537417368093
          ],
          [
           0.9105176810752494,
           0.014098849222643421,
           -0.22222208036198338,
           -0.45367204810354034,
           0.15915932183772435,
           -0.2096411029551883,
           0.9861236980287647,
           1,
           0.23659775440374511,
           -0.22026852773039424
          ],
          [
           0.20537056608343474,
           0.7878014057379278,
           -0.03660715698389702,
           -0.5459218864712393,
           0.049597577718850504,
           -0.16877162050401082,
           0.23944239478309404,
           0.23659775440374511,
           1,
           -0.38677645201047844
          ],
          [
           -0.06735969812110525,
           -0.37510538066384674,
           0.027097096869057168,
           0.727437396704505,
           0.3670623031142804,
           0.647116420404578,
           -0.1893537417368093,
           -0.22026852773039424,
           -0.38677645201047844,
           1
          ]
         ],
         "zmid": 0
        }
       ],
       "layout": {
        "height": 600,
        "template": {
         "data": {
          "bar": [
           {
            "error_x": {
             "color": "#2a3f5f"
            },
            "error_y": {
             "color": "#2a3f5f"
            },
            "marker": {
             "line": {
              "color": "#E5ECF6",
              "width": 0.5
             },
             "pattern": {
              "fillmode": "overlay",
              "size": 10,
              "solidity": 0.2
             }
            },
            "type": "bar"
           }
          ],
          "barpolar": [
           {
            "marker": {
             "line": {
              "color": "#E5ECF6",
              "width": 0.5
             },
             "pattern": {
              "fillmode": "overlay",
              "size": 10,
              "solidity": 0.2
             }
            },
            "type": "barpolar"
           }
          ],
          "carpet": [
           {
            "aaxis": {
             "endlinecolor": "#2a3f5f",
             "gridcolor": "white",
             "linecolor": "white",
             "minorgridcolor": "white",
             "startlinecolor": "#2a3f5f"
            },
            "baxis": {
             "endlinecolor": "#2a3f5f",
             "gridcolor": "white",
             "linecolor": "white",
             "minorgridcolor": "white",
             "startlinecolor": "#2a3f5f"
            },
            "type": "carpet"
           }
          ],
          "choropleth": [
           {
            "colorbar": {
             "outlinewidth": 0,
             "ticks": ""
            },
            "type": "choropleth"
           }
          ],
          "contour": [
           {
            "colorbar": {
             "outlinewidth": 0,
             "ticks": ""
            },
            "colorscale": [
             [
              0,
              "#0d0887"
             ],
             [
              0.1111111111111111,
              "#46039f"
             ],
             [
              0.2222222222222222,
              "#7201a8"
             ],
             [
              0.3333333333333333,
              "#9c179e"
             ],
             [
              0.4444444444444444,
              "#bd3786"
             ],
             [
              0.5555555555555556,
              "#d8576b"
             ],
             [
              0.6666666666666666,
              "#ed7953"
             ],
             [
              0.7777777777777778,
              "#fb9f3a"
             ],
             [
              0.8888888888888888,
              "#fdca26"
             ],
             [
              1,
              "#f0f921"
             ]
            ],
            "type": "contour"
           }
          ],
          "contourcarpet": [
           {
            "colorbar": {
             "outlinewidth": 0,
             "ticks": ""
            },
            "type": "contourcarpet"
           }
          ],
          "heatmap": [
           {
            "colorbar": {
             "outlinewidth": 0,
             "ticks": ""
            },
            "colorscale": [
             [
              0,
              "#0d0887"
             ],
             [
              0.1111111111111111,
              "#46039f"
             ],
             [
              0.2222222222222222,
              "#7201a8"
             ],
             [
              0.3333333333333333,
              "#9c179e"
             ],
             [
              0.4444444444444444,
              "#bd3786"
             ],
             [
              0.5555555555555556,
              "#d8576b"
             ],
             [
              0.6666666666666666,
              "#ed7953"
             ],
             [
              0.7777777777777778,
              "#fb9f3a"
             ],
             [
              0.8888888888888888,
              "#fdca26"
             ],
             [
              1,
              "#f0f921"
             ]
            ],
            "type": "heatmap"
           }
          ],
          "heatmapgl": [
           {
            "colorbar": {
             "outlinewidth": 0,
             "ticks": ""
            },
            "colorscale": [
             [
              0,
              "#0d0887"
             ],
             [
              0.1111111111111111,
              "#46039f"
             ],
             [
              0.2222222222222222,
              "#7201a8"
             ],
             [
              0.3333333333333333,
              "#9c179e"
             ],
             [
              0.4444444444444444,
              "#bd3786"
             ],
             [
              0.5555555555555556,
              "#d8576b"
             ],
             [
              0.6666666666666666,
              "#ed7953"
             ],
             [
              0.7777777777777778,
              "#fb9f3a"
             ],
             [
              0.8888888888888888,
              "#fdca26"
             ],
             [
              1,
              "#f0f921"
             ]
            ],
            "type": "heatmapgl"
           }
          ],
          "histogram": [
           {
            "marker": {
             "pattern": {
              "fillmode": "overlay",
              "size": 10,
              "solidity": 0.2
             }
            },
            "type": "histogram"
           }
          ],
          "histogram2d": [
           {
            "colorbar": {
             "outlinewidth": 0,
             "ticks": ""
            },
            "colorscale": [
             [
              0,
              "#0d0887"
             ],
             [
              0.1111111111111111,
              "#46039f"
             ],
             [
              0.2222222222222222,
              "#7201a8"
             ],
             [
              0.3333333333333333,
              "#9c179e"
             ],
             [
              0.4444444444444444,
              "#bd3786"
             ],
             [
              0.5555555555555556,
              "#d8576b"
             ],
             [
              0.6666666666666666,
              "#ed7953"
             ],
             [
              0.7777777777777778,
              "#fb9f3a"
             ],
             [
              0.8888888888888888,
              "#fdca26"
             ],
             [
              1,
              "#f0f921"
             ]
            ],
            "type": "histogram2d"
           }
          ],
          "histogram2dcontour": [
           {
            "colorbar": {
             "outlinewidth": 0,
             "ticks": ""
            },
            "colorscale": [
             [
              0,
              "#0d0887"
             ],
             [
              0.1111111111111111,
              "#46039f"
             ],
             [
              0.2222222222222222,
              "#7201a8"
             ],
             [
              0.3333333333333333,
              "#9c179e"
             ],
             [
              0.4444444444444444,
              "#bd3786"
             ],
             [
              0.5555555555555556,
              "#d8576b"
             ],
             [
              0.6666666666666666,
              "#ed7953"
             ],
             [
              0.7777777777777778,
              "#fb9f3a"
             ],
             [
              0.8888888888888888,
              "#fdca26"
             ],
             [
              1,
              "#f0f921"
             ]
            ],
            "type": "histogram2dcontour"
           }
          ],
          "mesh3d": [
           {
            "colorbar": {
             "outlinewidth": 0,
             "ticks": ""
            },
            "type": "mesh3d"
           }
          ],
          "parcoords": [
           {
            "line": {
             "colorbar": {
              "outlinewidth": 0,
              "ticks": ""
             }
            },
            "type": "parcoords"
           }
          ],
          "pie": [
           {
            "automargin": true,
            "type": "pie"
           }
          ],
          "scatter": [
           {
            "fillpattern": {
             "fillmode": "overlay",
             "size": 10,
             "solidity": 0.2
            },
            "type": "scatter"
           }
          ],
          "scatter3d": [
           {
            "line": {
             "colorbar": {
              "outlinewidth": 0,
              "ticks": ""
             }
            },
            "marker": {
             "colorbar": {
              "outlinewidth": 0,
              "ticks": ""
             }
            },
            "type": "scatter3d"
           }
          ],
          "scattercarpet": [
           {
            "marker": {
             "colorbar": {
              "outlinewidth": 0,
              "ticks": ""
             }
            },
            "type": "scattercarpet"
           }
          ],
          "scattergeo": [
           {
            "marker": {
             "colorbar": {
              "outlinewidth": 0,
              "ticks": ""
             }
            },
            "type": "scattergeo"
           }
          ],
          "scattergl": [
           {
            "marker": {
             "colorbar": {
              "outlinewidth": 0,
              "ticks": ""
             }
            },
            "type": "scattergl"
           }
          ],
          "scattermapbox": [
           {
            "marker": {
             "colorbar": {
              "outlinewidth": 0,
              "ticks": ""
             }
            },
            "type": "scattermapbox"
           }
          ],
          "scatterpolar": [
           {
            "marker": {
             "colorbar": {
              "outlinewidth": 0,
              "ticks": ""
             }
            },
            "type": "scatterpolar"
           }
          ],
          "scatterpolargl": [
           {
            "marker": {
             "colorbar": {
              "outlinewidth": 0,
              "ticks": ""
             }
            },
            "type": "scatterpolargl"
           }
          ],
          "scatterternary": [
           {
            "marker": {
             "colorbar": {
              "outlinewidth": 0,
              "ticks": ""
             }
            },
            "type": "scatterternary"
           }
          ],
          "surface": [
           {
            "colorbar": {
             "outlinewidth": 0,
             "ticks": ""
            },
            "colorscale": [
             [
              0,
              "#0d0887"
             ],
             [
              0.1111111111111111,
              "#46039f"
             ],
             [
              0.2222222222222222,
              "#7201a8"
             ],
             [
              0.3333333333333333,
              "#9c179e"
             ],
             [
              0.4444444444444444,
              "#bd3786"
             ],
             [
              0.5555555555555556,
              "#d8576b"
             ],
             [
              0.6666666666666666,
              "#ed7953"
             ],
             [
              0.7777777777777778,
              "#fb9f3a"
             ],
             [
              0.8888888888888888,
              "#fdca26"
             ],
             [
              1,
              "#f0f921"
             ]
            ],
            "type": "surface"
           }
          ],
          "table": [
           {
            "cells": {
             "fill": {
              "color": "#EBF0F8"
             },
             "line": {
              "color": "white"
             }
            },
            "header": {
             "fill": {
              "color": "#C8D4E3"
             },
             "line": {
              "color": "white"
             }
            },
            "type": "table"
           }
          ]
         },
         "layout": {
          "annotationdefaults": {
           "arrowcolor": "#2a3f5f",
           "arrowhead": 0,
           "arrowwidth": 1
          },
          "autotypenumbers": "strict",
          "coloraxis": {
           "colorbar": {
            "outlinewidth": 0,
            "ticks": ""
           }
          },
          "colorscale": {
           "diverging": [
            [
             0,
             "#8e0152"
            ],
            [
             0.1,
             "#c51b7d"
            ],
            [
             0.2,
             "#de77ae"
            ],
            [
             0.3,
             "#f1b6da"
            ],
            [
             0.4,
             "#fde0ef"
            ],
            [
             0.5,
             "#f7f7f7"
            ],
            [
             0.6,
             "#e6f5d0"
            ],
            [
             0.7,
             "#b8e186"
            ],
            [
             0.8,
             "#7fbc41"
            ],
            [
             0.9,
             "#4d9221"
            ],
            [
             1,
             "#276419"
            ]
           ],
           "sequential": [
            [
             0,
             "#0d0887"
            ],
            [
             0.1111111111111111,
             "#46039f"
            ],
            [
             0.2222222222222222,
             "#7201a8"
            ],
            [
             0.3333333333333333,
             "#9c179e"
            ],
            [
             0.4444444444444444,
             "#bd3786"
            ],
            [
             0.5555555555555556,
             "#d8576b"
            ],
            [
             0.6666666666666666,
             "#ed7953"
            ],
            [
             0.7777777777777778,
             "#fb9f3a"
            ],
            [
             0.8888888888888888,
             "#fdca26"
            ],
            [
             1,
             "#f0f921"
            ]
           ],
           "sequentialminus": [
            [
             0,
             "#0d0887"
            ],
            [
             0.1111111111111111,
             "#46039f"
            ],
            [
             0.2222222222222222,
             "#7201a8"
            ],
            [
             0.3333333333333333,
             "#9c179e"
            ],
            [
             0.4444444444444444,
             "#bd3786"
            ],
            [
             0.5555555555555556,
             "#d8576b"
            ],
            [
             0.6666666666666666,
             "#ed7953"
            ],
            [
             0.7777777777777778,
             "#fb9f3a"
            ],
            [
             0.8888888888888888,
             "#fdca26"
            ],
            [
             1,
             "#f0f921"
            ]
           ]
          },
          "colorway": [
           "#636efa",
           "#EF553B",
           "#00cc96",
           "#ab63fa",
           "#FFA15A",
           "#19d3f3",
           "#FF6692",
           "#B6E880",
           "#FF97FF",
           "#FECB52"
          ],
          "font": {
           "color": "#2a3f5f"
          },
          "geo": {
           "bgcolor": "white",
           "lakecolor": "white",
           "landcolor": "#E5ECF6",
           "showlakes": true,
           "showland": true,
           "subunitcolor": "white"
          },
          "hoverlabel": {
           "align": "left"
          },
          "hovermode": "closest",
          "mapbox": {
           "style": "light"
          },
          "paper_bgcolor": "white",
          "plot_bgcolor": "#E5ECF6",
          "polar": {
           "angularaxis": {
            "gridcolor": "white",
            "linecolor": "white",
            "ticks": ""
           },
           "bgcolor": "#E5ECF6",
           "radialaxis": {
            "gridcolor": "white",
            "linecolor": "white",
            "ticks": ""
           }
          },
          "scene": {
           "xaxis": {
            "backgroundcolor": "#E5ECF6",
            "gridcolor": "white",
            "gridwidth": 2,
            "linecolor": "white",
            "showbackground": true,
            "ticks": "",
            "zerolinecolor": "white"
           },
           "yaxis": {
            "backgroundcolor": "#E5ECF6",
            "gridcolor": "white",
            "gridwidth": 2,
            "linecolor": "white",
            "showbackground": true,
            "ticks": "",
            "zerolinecolor": "white"
           },
           "zaxis": {
            "backgroundcolor": "#E5ECF6",
            "gridcolor": "white",
            "gridwidth": 2,
            "linecolor": "white",
            "showbackground": true,
            "ticks": "",
            "zerolinecolor": "white"
           }
          },
          "shapedefaults": {
           "line": {
            "color": "#2a3f5f"
           }
          },
          "ternary": {
           "aaxis": {
            "gridcolor": "white",
            "linecolor": "white",
            "ticks": ""
           },
           "baxis": {
            "gridcolor": "white",
            "linecolor": "white",
            "ticks": ""
           },
           "bgcolor": "#E5ECF6",
           "caxis": {
            "gridcolor": "white",
            "linecolor": "white",
            "ticks": ""
           }
          },
          "title": {
           "x": 0.05
          },
          "xaxis": {
           "automargin": true,
           "gridcolor": "white",
           "linecolor": "white",
           "ticks": "",
           "title": {
            "standoff": 15
           },
           "zerolinecolor": "white",
           "zerolinewidth": 2
          },
          "yaxis": {
           "automargin": true,
           "gridcolor": "white",
           "linecolor": "white",
           "ticks": "",
           "title": {
            "standoff": 15
           },
           "zerolinecolor": "white",
           "zerolinewidth": 2
          }
         }
        },
        "title": {
         "text": "Correlation Matrix of Key Procurement Features"
        },
        "width": 800
       }
      }
     },
     "metadata": {},
     "output_type": "display_data"
    }
   ],
   "source": [
    "key_features = [\n",
    "    'Order Quantity_mean', 'Gross Sales_sum', 'Current_Inventory',\n",
    "    'Stockout_Frequency', 'Delivery_Reliability', 'Demand_Growth_Mean',\n",
    "    'Reorder_Point', 'Safety_Stock', 'EOQ', 'Procurement_Priority_Score'\n",
    "]\n",
    "\n",
    "correlation_matrix = procurement_df[key_features].corr()\n",
    "\n",
    "# Create correlation heatmap\n",
    "fig = go.Figure(data=go.Heatmap(\n",
    "    z=correlation_matrix.values,\n",
    "    x=correlation_matrix.columns,\n",
    "    y=correlation_matrix.columns,\n",
    "    colorscale='RdBu',\n",
    "    zmid=0,\n",
    "    text=correlation_matrix.round(2).values,\n",
    "    texttemplate=\"%{text}\",\n",
    "    textfont={\"size\": 10},\n",
    "    hoverongaps=False\n",
    "))\n",
    "\n",
    "fig.update_layout(\n",
    "    title='Correlation Matrix of Key Procurement Features',\n",
    "    width=800,\n",
    "    height=600\n",
    ")\n",
    "fig.show()\n"
   ]
  },
  {
   "cell_type": "code",
   "execution_count": 29,
   "metadata": {},
   "outputs": [
    {
     "data": {
      "application/vnd.plotly.v1+json": {
       "config": {
        "plotlyServerURL": "https://plot.ly"
       },
       "data": [
        {
         "boxpoints": "outliers",
         "name": "Order Quantity_sum",
         "type": "box",
         "xaxis": "x",
         "y": [
          75,
          37,
          150,
          31,
          133,
          132,
          105,
          39,
          63,
          9,
          11,
          6,
          131,
          154,
          146,
          122,
          3,
          6,
          2427,
          147,
          38,
          2878,
          65,
          29,
          32,
          10,
          3,
          4,
          155,
          151,
          132,
          193,
          154,
          2,
          11,
          128,
          151,
          105,
          50,
          40,
          12,
          179,
          33,
          67,
          20,
          8,
          22,
          45,
          11,
          13,
          11,
          135,
          21,
          3855,
          166,
          189,
          10886,
          13,
          6455,
          30,
          14,
          52,
          108,
          159,
          10164,
          13,
          7,
          2681,
          12952,
          33,
          17,
          85,
          14,
          46,
          56,
          4,
          69,
          127,
          16,
          32,
          7,
          166,
          194,
          149,
          130,
          147,
          169,
          16,
          5,
          113,
          161,
          122,
          158,
          8,
          140,
          6,
          73,
          5689,
          133,
          148,
          140,
          144,
          140,
          167,
          145,
          191,
          12,
          10,
          101,
          192,
          125,
          177,
          11,
          0,
          0,
          0,
          0,
          0
         ],
         "yaxis": "y"
        },
        {
         "boxpoints": "outliers",
         "name": "Gross Sales_sum",
         "type": "box",
         "xaxis": "x2",
         "y": [
          6300,
          2183,
          3750,
          2480,
          4256,
          4224,
          3360,
          3510,
          693,
          3213,
          2310,
          720,
          1310,
          6160,
          4380,
          20008,
          900,
          1800,
          728100,
          4410,
          3040,
          1151200,
          2600,
          8497,
          3200,
          2500,
          900,
          1600,
          2480,
          2416,
          2640,
          4246,
          3080,
          800,
          2200,
          1920,
          2265,
          1890,
          12650,
          3200,
          1296,
          11635,
          3300,
          35711,
          1600,
          1688,
          2420,
          4500,
          1430,
          1755,
          2189,
          2970,
          2100,
          501150,
          7470,
          5670,
          544300,
          1625,
          645500,
          3000,
          2800,
          4940,
          2700,
          4770,
          508200,
          2210,
          2450,
          536200,
          777120,
          2970,
          1870,
          39185,
          3654,
          15088,
          1736,
          1320,
          14904,
          5080,
          2880,
          3200,
          910,
          4150,
          4850,
          3725,
          3250,
          3675,
          4225,
          1584,
          1500,
          5876,
          7728,
          5856,
          8216,
          2000,
          2800,
          1800,
          876,
          227560,
          4655,
          4144,
          6300,
          3600,
          4480,
          5344,
          7975,
          86332,
          2268,
          1600,
          3535,
          11520,
          3125,
          12390,
          1650,
          0,
          0,
          0,
          0,
          0
         ],
         "yaxis": "y2"
        },
        {
         "boxpoints": "outliers",
         "name": "Current_Inventory",
         "type": "box",
         "xaxis": "x3",
         "y": [
          2,
          0,
          0,
          0,
          0,
          0,
          0,
          0,
          0,
          0,
          0,
          0,
          0,
          0,
          0,
          64,
          0,
          0,
          0,
          0,
          0,
          0,
          4,
          18,
          0,
          0,
          0,
          0,
          0,
          0,
          0,
          2,
          0,
          0,
          0,
          0,
          0,
          0,
          0,
          0,
          0,
          0,
          0,
          4,
          0,
          3,
          0,
          0,
          0,
          0,
          0,
          0,
          0,
          0,
          0,
          0,
          2,
          0,
          1,
          0,
          0,
          0,
          0,
          0,
          0,
          0,
          0,
          0,
          0,
          0,
          0,
          0,
          16,
          42,
          2,
          0,
          13,
          0,
          0,
          0,
          0,
          0,
          0,
          0,
          0,
          0,
          2,
          0,
          0,
          0,
          0,
          0,
          0,
          0,
          0,
          0,
          133,
          0,
          1,
          0,
          0,
          0,
          0,
          2,
          0,
          0,
          0,
          0,
          0,
          0,
          0,
          0,
          0,
          36,
          9,
          14,
          23,
          1
         ],
         "yaxis": "y3"
        },
        {
         "boxpoints": "outliers",
         "name": "Procurement_Priority_Score",
         "type": "box",
         "xaxis": "x4",
         "y": [
          79.1324612590799,
          66.19642615012107,
          39.07640395480226,
          51.90868926553673,
          50.42281261770245,
          41.79927495291902,
          49.80068644067797,
          62.15340799031477,
          61.55882324455206,
          74.70652179176754,
          57.91011259079903,
          47.67604479418885,
          37.36329472693032,
          50.6279143126177,
          55.35395480225989,
          75.77154842615012,
          72.88306658595641,
          48.34916828087167,
          31.504740112994348,
          39.18609698681732,
          63.78434987893462,
          31.950468926553672,
          65.566299031477,
          82.20585472154963,
          59.74087167070218,
          58.14877589453861,
          47.88206658595641,
          43.43462469733656,
          39.43657815442562,
          35.91748493408663,
          46.20244915254238,
          42.27939265536723,
          39.22877777777778,
          42.45883777239709,
          50.49199623352166,
          41.7392297551789,
          42.50905838041431,
          43.15753201506591,
          80.3958837772397,
          67.00408595641647,
          50.00520809792844,
          48.91038512241054,
          59.03226647834275,
          79.20634140435834,
          44.450283427495286,
          49.69521791767555,
          57.8574604519774,
          77.03954802259886,
          44.319460048426144,
          47.816375302663445,
          63.62474293785311,
          45.90774011299435,
          54.46427602905569,
          30.629918079096043,
          53.74508757062147,
          52.69548775894539,
          28.33867796610169,
          51.7369176755448,
          29.70554237288136,
          56.83784261501211,
          63.79739225181598,
          61.6199818401937,
          46.1269802259887,
          57.57016572504709,
          30.6876713747646,
          67.91586064030132,
          55.455634382566586,
          31.319146892655368,
          30.254882297551788,
          59.04835122410546,
          49.0671120527307,
          80.93034866828087,
          73.26171549636804,
          79.09025544794189,
          66.55036803874091,
          71.23002421307505,
          81.59910532687653,
          46.96775894538607,
          53.49909792843691,
          71.81228436911488,
          55.73685956416465,
          47.98441054613936,
          56.03719679849341,
          53.86837288135592,
          49.73084651600753,
          45.93517514124294,
          53.90802824858757,
          48.96803013182674,
          59.01089588377724,
          57.918549905838034,
          54.33806308851224,
          52.84407438794727,
          58.97156967984935,
          49.92164971751412,
          47.3501779661017,
          67.20631113801453,
          48.42470217917675,
          28.76883145009416,
          46.28846798493409,
          58.85221280602636,
          65.81400094161958,
          49.58616854990584,
          58.96079472693032,
          48.03712335216572,
          52.292760828625234,
          77.9356416464891,
          49.858248184019374,
          46.672053268765126,
          48.69080414312618,
          41.30490960451977,
          49.34403107344633,
          56.85586064030132,
          64.07899636803874,
          17.966101694915256,
          17.966101694915256,
          17.966101694915256,
          17.966101694915256,
          17.966101694915256
         ],
         "yaxis": "y4"
        }
       ],
       "layout": {
        "annotations": [
         {
          "font": {
           "size": 16
          },
          "showarrow": false,
          "text": "Order Quantity_sum Outliers",
          "x": 0.225,
          "xanchor": "center",
          "xref": "paper",
          "y": 1,
          "yanchor": "bottom",
          "yref": "paper"
         },
         {
          "font": {
           "size": 16
          },
          "showarrow": false,
          "text": "Gross Sales_sum Outliers",
          "x": 0.775,
          "xanchor": "center",
          "xref": "paper",
          "y": 1,
          "yanchor": "bottom",
          "yref": "paper"
         },
         {
          "font": {
           "size": 16
          },
          "showarrow": false,
          "text": "Current_Inventory Outliers",
          "x": 0.225,
          "xanchor": "center",
          "xref": "paper",
          "y": 0.375,
          "yanchor": "bottom",
          "yref": "paper"
         },
         {
          "font": {
           "size": 16
          },
          "showarrow": false,
          "text": "Procurement_Priority_Score Outliers",
          "x": 0.775,
          "xanchor": "center",
          "xref": "paper",
          "y": 0.375,
          "yanchor": "bottom",
          "yref": "paper"
         }
        ],
        "height": 600,
        "showlegend": false,
        "template": {
         "data": {
          "bar": [
           {
            "error_x": {
             "color": "#2a3f5f"
            },
            "error_y": {
             "color": "#2a3f5f"
            },
            "marker": {
             "line": {
              "color": "#E5ECF6",
              "width": 0.5
             },
             "pattern": {
              "fillmode": "overlay",
              "size": 10,
              "solidity": 0.2
             }
            },
            "type": "bar"
           }
          ],
          "barpolar": [
           {
            "marker": {
             "line": {
              "color": "#E5ECF6",
              "width": 0.5
             },
             "pattern": {
              "fillmode": "overlay",
              "size": 10,
              "solidity": 0.2
             }
            },
            "type": "barpolar"
           }
          ],
          "carpet": [
           {
            "aaxis": {
             "endlinecolor": "#2a3f5f",
             "gridcolor": "white",
             "linecolor": "white",
             "minorgridcolor": "white",
             "startlinecolor": "#2a3f5f"
            },
            "baxis": {
             "endlinecolor": "#2a3f5f",
             "gridcolor": "white",
             "linecolor": "white",
             "minorgridcolor": "white",
             "startlinecolor": "#2a3f5f"
            },
            "type": "carpet"
           }
          ],
          "choropleth": [
           {
            "colorbar": {
             "outlinewidth": 0,
             "ticks": ""
            },
            "type": "choropleth"
           }
          ],
          "contour": [
           {
            "colorbar": {
             "outlinewidth": 0,
             "ticks": ""
            },
            "colorscale": [
             [
              0,
              "#0d0887"
             ],
             [
              0.1111111111111111,
              "#46039f"
             ],
             [
              0.2222222222222222,
              "#7201a8"
             ],
             [
              0.3333333333333333,
              "#9c179e"
             ],
             [
              0.4444444444444444,
              "#bd3786"
             ],
             [
              0.5555555555555556,
              "#d8576b"
             ],
             [
              0.6666666666666666,
              "#ed7953"
             ],
             [
              0.7777777777777778,
              "#fb9f3a"
             ],
             [
              0.8888888888888888,
              "#fdca26"
             ],
             [
              1,
              "#f0f921"
             ]
            ],
            "type": "contour"
           }
          ],
          "contourcarpet": [
           {
            "colorbar": {
             "outlinewidth": 0,
             "ticks": ""
            },
            "type": "contourcarpet"
           }
          ],
          "heatmap": [
           {
            "colorbar": {
             "outlinewidth": 0,
             "ticks": ""
            },
            "colorscale": [
             [
              0,
              "#0d0887"
             ],
             [
              0.1111111111111111,
              "#46039f"
             ],
             [
              0.2222222222222222,
              "#7201a8"
             ],
             [
              0.3333333333333333,
              "#9c179e"
             ],
             [
              0.4444444444444444,
              "#bd3786"
             ],
             [
              0.5555555555555556,
              "#d8576b"
             ],
             [
              0.6666666666666666,
              "#ed7953"
             ],
             [
              0.7777777777777778,
              "#fb9f3a"
             ],
             [
              0.8888888888888888,
              "#fdca26"
             ],
             [
              1,
              "#f0f921"
             ]
            ],
            "type": "heatmap"
           }
          ],
          "heatmapgl": [
           {
            "colorbar": {
             "outlinewidth": 0,
             "ticks": ""
            },
            "colorscale": [
             [
              0,
              "#0d0887"
             ],
             [
              0.1111111111111111,
              "#46039f"
             ],
             [
              0.2222222222222222,
              "#7201a8"
             ],
             [
              0.3333333333333333,
              "#9c179e"
             ],
             [
              0.4444444444444444,
              "#bd3786"
             ],
             [
              0.5555555555555556,
              "#d8576b"
             ],
             [
              0.6666666666666666,
              "#ed7953"
             ],
             [
              0.7777777777777778,
              "#fb9f3a"
             ],
             [
              0.8888888888888888,
              "#fdca26"
             ],
             [
              1,
              "#f0f921"
             ]
            ],
            "type": "heatmapgl"
           }
          ],
          "histogram": [
           {
            "marker": {
             "pattern": {
              "fillmode": "overlay",
              "size": 10,
              "solidity": 0.2
             }
            },
            "type": "histogram"
           }
          ],
          "histogram2d": [
           {
            "colorbar": {
             "outlinewidth": 0,
             "ticks": ""
            },
            "colorscale": [
             [
              0,
              "#0d0887"
             ],
             [
              0.1111111111111111,
              "#46039f"
             ],
             [
              0.2222222222222222,
              "#7201a8"
             ],
             [
              0.3333333333333333,
              "#9c179e"
             ],
             [
              0.4444444444444444,
              "#bd3786"
             ],
             [
              0.5555555555555556,
              "#d8576b"
             ],
             [
              0.6666666666666666,
              "#ed7953"
             ],
             [
              0.7777777777777778,
              "#fb9f3a"
             ],
             [
              0.8888888888888888,
              "#fdca26"
             ],
             [
              1,
              "#f0f921"
             ]
            ],
            "type": "histogram2d"
           }
          ],
          "histogram2dcontour": [
           {
            "colorbar": {
             "outlinewidth": 0,
             "ticks": ""
            },
            "colorscale": [
             [
              0,
              "#0d0887"
             ],
             [
              0.1111111111111111,
              "#46039f"
             ],
             [
              0.2222222222222222,
              "#7201a8"
             ],
             [
              0.3333333333333333,
              "#9c179e"
             ],
             [
              0.4444444444444444,
              "#bd3786"
             ],
             [
              0.5555555555555556,
              "#d8576b"
             ],
             [
              0.6666666666666666,
              "#ed7953"
             ],
             [
              0.7777777777777778,
              "#fb9f3a"
             ],
             [
              0.8888888888888888,
              "#fdca26"
             ],
             [
              1,
              "#f0f921"
             ]
            ],
            "type": "histogram2dcontour"
           }
          ],
          "mesh3d": [
           {
            "colorbar": {
             "outlinewidth": 0,
             "ticks": ""
            },
            "type": "mesh3d"
           }
          ],
          "parcoords": [
           {
            "line": {
             "colorbar": {
              "outlinewidth": 0,
              "ticks": ""
             }
            },
            "type": "parcoords"
           }
          ],
          "pie": [
           {
            "automargin": true,
            "type": "pie"
           }
          ],
          "scatter": [
           {
            "fillpattern": {
             "fillmode": "overlay",
             "size": 10,
             "solidity": 0.2
            },
            "type": "scatter"
           }
          ],
          "scatter3d": [
           {
            "line": {
             "colorbar": {
              "outlinewidth": 0,
              "ticks": ""
             }
            },
            "marker": {
             "colorbar": {
              "outlinewidth": 0,
              "ticks": ""
             }
            },
            "type": "scatter3d"
           }
          ],
          "scattercarpet": [
           {
            "marker": {
             "colorbar": {
              "outlinewidth": 0,
              "ticks": ""
             }
            },
            "type": "scattercarpet"
           }
          ],
          "scattergeo": [
           {
            "marker": {
             "colorbar": {
              "outlinewidth": 0,
              "ticks": ""
             }
            },
            "type": "scattergeo"
           }
          ],
          "scattergl": [
           {
            "marker": {
             "colorbar": {
              "outlinewidth": 0,
              "ticks": ""
             }
            },
            "type": "scattergl"
           }
          ],
          "scattermapbox": [
           {
            "marker": {
             "colorbar": {
              "outlinewidth": 0,
              "ticks": ""
             }
            },
            "type": "scattermapbox"
           }
          ],
          "scatterpolar": [
           {
            "marker": {
             "colorbar": {
              "outlinewidth": 0,
              "ticks": ""
             }
            },
            "type": "scatterpolar"
           }
          ],
          "scatterpolargl": [
           {
            "marker": {
             "colorbar": {
              "outlinewidth": 0,
              "ticks": ""
             }
            },
            "type": "scatterpolargl"
           }
          ],
          "scatterternary": [
           {
            "marker": {
             "colorbar": {
              "outlinewidth": 0,
              "ticks": ""
             }
            },
            "type": "scatterternary"
           }
          ],
          "surface": [
           {
            "colorbar": {
             "outlinewidth": 0,
             "ticks": ""
            },
            "colorscale": [
             [
              0,
              "#0d0887"
             ],
             [
              0.1111111111111111,
              "#46039f"
             ],
             [
              0.2222222222222222,
              "#7201a8"
             ],
             [
              0.3333333333333333,
              "#9c179e"
             ],
             [
              0.4444444444444444,
              "#bd3786"
             ],
             [
              0.5555555555555556,
              "#d8576b"
             ],
             [
              0.6666666666666666,
              "#ed7953"
             ],
             [
              0.7777777777777778,
              "#fb9f3a"
             ],
             [
              0.8888888888888888,
              "#fdca26"
             ],
             [
              1,
              "#f0f921"
             ]
            ],
            "type": "surface"
           }
          ],
          "table": [
           {
            "cells": {
             "fill": {
              "color": "#EBF0F8"
             },
             "line": {
              "color": "white"
             }
            },
            "header": {
             "fill": {
              "color": "#C8D4E3"
             },
             "line": {
              "color": "white"
             }
            },
            "type": "table"
           }
          ]
         },
         "layout": {
          "annotationdefaults": {
           "arrowcolor": "#2a3f5f",
           "arrowhead": 0,
           "arrowwidth": 1
          },
          "autotypenumbers": "strict",
          "coloraxis": {
           "colorbar": {
            "outlinewidth": 0,
            "ticks": ""
           }
          },
          "colorscale": {
           "diverging": [
            [
             0,
             "#8e0152"
            ],
            [
             0.1,
             "#c51b7d"
            ],
            [
             0.2,
             "#de77ae"
            ],
            [
             0.3,
             "#f1b6da"
            ],
            [
             0.4,
             "#fde0ef"
            ],
            [
             0.5,
             "#f7f7f7"
            ],
            [
             0.6,
             "#e6f5d0"
            ],
            [
             0.7,
             "#b8e186"
            ],
            [
             0.8,
             "#7fbc41"
            ],
            [
             0.9,
             "#4d9221"
            ],
            [
             1,
             "#276419"
            ]
           ],
           "sequential": [
            [
             0,
             "#0d0887"
            ],
            [
             0.1111111111111111,
             "#46039f"
            ],
            [
             0.2222222222222222,
             "#7201a8"
            ],
            [
             0.3333333333333333,
             "#9c179e"
            ],
            [
             0.4444444444444444,
             "#bd3786"
            ],
            [
             0.5555555555555556,
             "#d8576b"
            ],
            [
             0.6666666666666666,
             "#ed7953"
            ],
            [
             0.7777777777777778,
             "#fb9f3a"
            ],
            [
             0.8888888888888888,
             "#fdca26"
            ],
            [
             1,
             "#f0f921"
            ]
           ],
           "sequentialminus": [
            [
             0,
             "#0d0887"
            ],
            [
             0.1111111111111111,
             "#46039f"
            ],
            [
             0.2222222222222222,
             "#7201a8"
            ],
            [
             0.3333333333333333,
             "#9c179e"
            ],
            [
             0.4444444444444444,
             "#bd3786"
            ],
            [
             0.5555555555555556,
             "#d8576b"
            ],
            [
             0.6666666666666666,
             "#ed7953"
            ],
            [
             0.7777777777777778,
             "#fb9f3a"
            ],
            [
             0.8888888888888888,
             "#fdca26"
            ],
            [
             1,
             "#f0f921"
            ]
           ]
          },
          "colorway": [
           "#636efa",
           "#EF553B",
           "#00cc96",
           "#ab63fa",
           "#FFA15A",
           "#19d3f3",
           "#FF6692",
           "#B6E880",
           "#FF97FF",
           "#FECB52"
          ],
          "font": {
           "color": "#2a3f5f"
          },
          "geo": {
           "bgcolor": "white",
           "lakecolor": "white",
           "landcolor": "#E5ECF6",
           "showlakes": true,
           "showland": true,
           "subunitcolor": "white"
          },
          "hoverlabel": {
           "align": "left"
          },
          "hovermode": "closest",
          "mapbox": {
           "style": "light"
          },
          "paper_bgcolor": "white",
          "plot_bgcolor": "#E5ECF6",
          "polar": {
           "angularaxis": {
            "gridcolor": "white",
            "linecolor": "white",
            "ticks": ""
           },
           "bgcolor": "#E5ECF6",
           "radialaxis": {
            "gridcolor": "white",
            "linecolor": "white",
            "ticks": ""
           }
          },
          "scene": {
           "xaxis": {
            "backgroundcolor": "#E5ECF6",
            "gridcolor": "white",
            "gridwidth": 2,
            "linecolor": "white",
            "showbackground": true,
            "ticks": "",
            "zerolinecolor": "white"
           },
           "yaxis": {
            "backgroundcolor": "#E5ECF6",
            "gridcolor": "white",
            "gridwidth": 2,
            "linecolor": "white",
            "showbackground": true,
            "ticks": "",
            "zerolinecolor": "white"
           },
           "zaxis": {
            "backgroundcolor": "#E5ECF6",
            "gridcolor": "white",
            "gridwidth": 2,
            "linecolor": "white",
            "showbackground": true,
            "ticks": "",
            "zerolinecolor": "white"
           }
          },
          "shapedefaults": {
           "line": {
            "color": "#2a3f5f"
           }
          },
          "ternary": {
           "aaxis": {
            "gridcolor": "white",
            "linecolor": "white",
            "ticks": ""
           },
           "baxis": {
            "gridcolor": "white",
            "linecolor": "white",
            "ticks": ""
           },
           "bgcolor": "#E5ECF6",
           "caxis": {
            "gridcolor": "white",
            "linecolor": "white",
            "ticks": ""
           }
          },
          "title": {
           "x": 0.05
          },
          "xaxis": {
           "automargin": true,
           "gridcolor": "white",
           "linecolor": "white",
           "ticks": "",
           "title": {
            "standoff": 15
           },
           "zerolinecolor": "white",
           "zerolinewidth": 2
          },
          "yaxis": {
           "automargin": true,
           "gridcolor": "white",
           "linecolor": "white",
           "ticks": "",
           "title": {
            "standoff": 15
           },
           "zerolinecolor": "white",
           "zerolinewidth": 2
          }
         }
        },
        "title": {
         "text": "Outlier Detection Dashboard"
        },
        "xaxis": {
         "anchor": "y",
         "domain": [
          0,
          0.45
         ]
        },
        "xaxis2": {
         "anchor": "y2",
         "domain": [
          0.55,
          1
         ]
        },
        "xaxis3": {
         "anchor": "y3",
         "domain": [
          0,
          0.45
         ]
        },
        "xaxis4": {
         "anchor": "y4",
         "domain": [
          0.55,
          1
         ]
        },
        "yaxis": {
         "anchor": "x",
         "domain": [
          0.625,
          1
         ]
        },
        "yaxis2": {
         "anchor": "x2",
         "domain": [
          0.625,
          1
         ]
        },
        "yaxis3": {
         "anchor": "x3",
         "domain": [
          0,
          0.375
         ]
        },
        "yaxis4": {
         "anchor": "x4",
         "domain": [
          0,
          0.375
         ]
        }
       }
      }
     },
     "metadata": {},
     "output_type": "display_data"
    }
   ],
   "source": [
    "outlier_features = ['Order Quantity_sum', 'Gross Sales_sum', 'Current_Inventory', 'Procurement_Priority_Score']\n",
    "\n",
    "fig = make_subplots(\n",
    "    rows=2, cols=2,\n",
    "    subplot_titles=tuple([f'{feature} Outliers' for feature in outlier_features])\n",
    ")\n",
    "\n",
    "positions = [(1,1), (1,2), (2,1), (2,2)]\n",
    "\n",
    "for i, feature in enumerate(outlier_features):\n",
    "    row, col = positions[i]\n",
    "    fig.add_trace(\n",
    "        go.Box(y=procurement_df[feature], name=feature, boxpoints='outliers'),\n",
    "        row=row, col=col\n",
    "    )\n",
    "\n",
    "fig.update_layout(height=600, showlegend=False, title_text=\"Outlier Detection Dashboard\")\n",
    "fig.show()"
   ]
  },
  {
   "cell_type": "code",
   "execution_count": 30,
   "metadata": {},
   "outputs": [
    {
     "data": {
      "application/vnd.plotly.v1+json": {
       "config": {
        "plotlyServerURL": "https://plot.ly"
       },
       "data": [
        {
         "hole": 0.3,
         "labels": [
          "Urgent_Reorder",
          "Reduce_Orders",
          "Reorder_Soon",
          "Increase_Stock",
          "Monitor"
         ],
         "textinfo": "label+percent",
         "textposition": "inside",
         "type": "pie",
         "values": [
          96,
          16,
          3,
          2,
          1
         ]
        }
       ],
       "layout": {
        "template": {
         "data": {
          "bar": [
           {
            "error_x": {
             "color": "#2a3f5f"
            },
            "error_y": {
             "color": "#2a3f5f"
            },
            "marker": {
             "line": {
              "color": "#E5ECF6",
              "width": 0.5
             },
             "pattern": {
              "fillmode": "overlay",
              "size": 10,
              "solidity": 0.2
             }
            },
            "type": "bar"
           }
          ],
          "barpolar": [
           {
            "marker": {
             "line": {
              "color": "#E5ECF6",
              "width": 0.5
             },
             "pattern": {
              "fillmode": "overlay",
              "size": 10,
              "solidity": 0.2
             }
            },
            "type": "barpolar"
           }
          ],
          "carpet": [
           {
            "aaxis": {
             "endlinecolor": "#2a3f5f",
             "gridcolor": "white",
             "linecolor": "white",
             "minorgridcolor": "white",
             "startlinecolor": "#2a3f5f"
            },
            "baxis": {
             "endlinecolor": "#2a3f5f",
             "gridcolor": "white",
             "linecolor": "white",
             "minorgridcolor": "white",
             "startlinecolor": "#2a3f5f"
            },
            "type": "carpet"
           }
          ],
          "choropleth": [
           {
            "colorbar": {
             "outlinewidth": 0,
             "ticks": ""
            },
            "type": "choropleth"
           }
          ],
          "contour": [
           {
            "colorbar": {
             "outlinewidth": 0,
             "ticks": ""
            },
            "colorscale": [
             [
              0,
              "#0d0887"
             ],
             [
              0.1111111111111111,
              "#46039f"
             ],
             [
              0.2222222222222222,
              "#7201a8"
             ],
             [
              0.3333333333333333,
              "#9c179e"
             ],
             [
              0.4444444444444444,
              "#bd3786"
             ],
             [
              0.5555555555555556,
              "#d8576b"
             ],
             [
              0.6666666666666666,
              "#ed7953"
             ],
             [
              0.7777777777777778,
              "#fb9f3a"
             ],
             [
              0.8888888888888888,
              "#fdca26"
             ],
             [
              1,
              "#f0f921"
             ]
            ],
            "type": "contour"
           }
          ],
          "contourcarpet": [
           {
            "colorbar": {
             "outlinewidth": 0,
             "ticks": ""
            },
            "type": "contourcarpet"
           }
          ],
          "heatmap": [
           {
            "colorbar": {
             "outlinewidth": 0,
             "ticks": ""
            },
            "colorscale": [
             [
              0,
              "#0d0887"
             ],
             [
              0.1111111111111111,
              "#46039f"
             ],
             [
              0.2222222222222222,
              "#7201a8"
             ],
             [
              0.3333333333333333,
              "#9c179e"
             ],
             [
              0.4444444444444444,
              "#bd3786"
             ],
             [
              0.5555555555555556,
              "#d8576b"
             ],
             [
              0.6666666666666666,
              "#ed7953"
             ],
             [
              0.7777777777777778,
              "#fb9f3a"
             ],
             [
              0.8888888888888888,
              "#fdca26"
             ],
             [
              1,
              "#f0f921"
             ]
            ],
            "type": "heatmap"
           }
          ],
          "heatmapgl": [
           {
            "colorbar": {
             "outlinewidth": 0,
             "ticks": ""
            },
            "colorscale": [
             [
              0,
              "#0d0887"
             ],
             [
              0.1111111111111111,
              "#46039f"
             ],
             [
              0.2222222222222222,
              "#7201a8"
             ],
             [
              0.3333333333333333,
              "#9c179e"
             ],
             [
              0.4444444444444444,
              "#bd3786"
             ],
             [
              0.5555555555555556,
              "#d8576b"
             ],
             [
              0.6666666666666666,
              "#ed7953"
             ],
             [
              0.7777777777777778,
              "#fb9f3a"
             ],
             [
              0.8888888888888888,
              "#fdca26"
             ],
             [
              1,
              "#f0f921"
             ]
            ],
            "type": "heatmapgl"
           }
          ],
          "histogram": [
           {
            "marker": {
             "pattern": {
              "fillmode": "overlay",
              "size": 10,
              "solidity": 0.2
             }
            },
            "type": "histogram"
           }
          ],
          "histogram2d": [
           {
            "colorbar": {
             "outlinewidth": 0,
             "ticks": ""
            },
            "colorscale": [
             [
              0,
              "#0d0887"
             ],
             [
              0.1111111111111111,
              "#46039f"
             ],
             [
              0.2222222222222222,
              "#7201a8"
             ],
             [
              0.3333333333333333,
              "#9c179e"
             ],
             [
              0.4444444444444444,
              "#bd3786"
             ],
             [
              0.5555555555555556,
              "#d8576b"
             ],
             [
              0.6666666666666666,
              "#ed7953"
             ],
             [
              0.7777777777777778,
              "#fb9f3a"
             ],
             [
              0.8888888888888888,
              "#fdca26"
             ],
             [
              1,
              "#f0f921"
             ]
            ],
            "type": "histogram2d"
           }
          ],
          "histogram2dcontour": [
           {
            "colorbar": {
             "outlinewidth": 0,
             "ticks": ""
            },
            "colorscale": [
             [
              0,
              "#0d0887"
             ],
             [
              0.1111111111111111,
              "#46039f"
             ],
             [
              0.2222222222222222,
              "#7201a8"
             ],
             [
              0.3333333333333333,
              "#9c179e"
             ],
             [
              0.4444444444444444,
              "#bd3786"
             ],
             [
              0.5555555555555556,
              "#d8576b"
             ],
             [
              0.6666666666666666,
              "#ed7953"
             ],
             [
              0.7777777777777778,
              "#fb9f3a"
             ],
             [
              0.8888888888888888,
              "#fdca26"
             ],
             [
              1,
              "#f0f921"
             ]
            ],
            "type": "histogram2dcontour"
           }
          ],
          "mesh3d": [
           {
            "colorbar": {
             "outlinewidth": 0,
             "ticks": ""
            },
            "type": "mesh3d"
           }
          ],
          "parcoords": [
           {
            "line": {
             "colorbar": {
              "outlinewidth": 0,
              "ticks": ""
             }
            },
            "type": "parcoords"
           }
          ],
          "pie": [
           {
            "automargin": true,
            "type": "pie"
           }
          ],
          "scatter": [
           {
            "fillpattern": {
             "fillmode": "overlay",
             "size": 10,
             "solidity": 0.2
            },
            "type": "scatter"
           }
          ],
          "scatter3d": [
           {
            "line": {
             "colorbar": {
              "outlinewidth": 0,
              "ticks": ""
             }
            },
            "marker": {
             "colorbar": {
              "outlinewidth": 0,
              "ticks": ""
             }
            },
            "type": "scatter3d"
           }
          ],
          "scattercarpet": [
           {
            "marker": {
             "colorbar": {
              "outlinewidth": 0,
              "ticks": ""
             }
            },
            "type": "scattercarpet"
           }
          ],
          "scattergeo": [
           {
            "marker": {
             "colorbar": {
              "outlinewidth": 0,
              "ticks": ""
             }
            },
            "type": "scattergeo"
           }
          ],
          "scattergl": [
           {
            "marker": {
             "colorbar": {
              "outlinewidth": 0,
              "ticks": ""
             }
            },
            "type": "scattergl"
           }
          ],
          "scattermapbox": [
           {
            "marker": {
             "colorbar": {
              "outlinewidth": 0,
              "ticks": ""
             }
            },
            "type": "scattermapbox"
           }
          ],
          "scatterpolar": [
           {
            "marker": {
             "colorbar": {
              "outlinewidth": 0,
              "ticks": ""
             }
            },
            "type": "scatterpolar"
           }
          ],
          "scatterpolargl": [
           {
            "marker": {
             "colorbar": {
              "outlinewidth": 0,
              "ticks": ""
             }
            },
            "type": "scatterpolargl"
           }
          ],
          "scatterternary": [
           {
            "marker": {
             "colorbar": {
              "outlinewidth": 0,
              "ticks": ""
             }
            },
            "type": "scatterternary"
           }
          ],
          "surface": [
           {
            "colorbar": {
             "outlinewidth": 0,
             "ticks": ""
            },
            "colorscale": [
             [
              0,
              "#0d0887"
             ],
             [
              0.1111111111111111,
              "#46039f"
             ],
             [
              0.2222222222222222,
              "#7201a8"
             ],
             [
              0.3333333333333333,
              "#9c179e"
             ],
             [
              0.4444444444444444,
              "#bd3786"
             ],
             [
              0.5555555555555556,
              "#d8576b"
             ],
             [
              0.6666666666666666,
              "#ed7953"
             ],
             [
              0.7777777777777778,
              "#fb9f3a"
             ],
             [
              0.8888888888888888,
              "#fdca26"
             ],
             [
              1,
              "#f0f921"
             ]
            ],
            "type": "surface"
           }
          ],
          "table": [
           {
            "cells": {
             "fill": {
              "color": "#EBF0F8"
             },
             "line": {
              "color": "white"
             }
            },
            "header": {
             "fill": {
              "color": "#C8D4E3"
             },
             "line": {
              "color": "white"
             }
            },
            "type": "table"
           }
          ]
         },
         "layout": {
          "annotationdefaults": {
           "arrowcolor": "#2a3f5f",
           "arrowhead": 0,
           "arrowwidth": 1
          },
          "autotypenumbers": "strict",
          "coloraxis": {
           "colorbar": {
            "outlinewidth": 0,
            "ticks": ""
           }
          },
          "colorscale": {
           "diverging": [
            [
             0,
             "#8e0152"
            ],
            [
             0.1,
             "#c51b7d"
            ],
            [
             0.2,
             "#de77ae"
            ],
            [
             0.3,
             "#f1b6da"
            ],
            [
             0.4,
             "#fde0ef"
            ],
            [
             0.5,
             "#f7f7f7"
            ],
            [
             0.6,
             "#e6f5d0"
            ],
            [
             0.7,
             "#b8e186"
            ],
            [
             0.8,
             "#7fbc41"
            ],
            [
             0.9,
             "#4d9221"
            ],
            [
             1,
             "#276419"
            ]
           ],
           "sequential": [
            [
             0,
             "#0d0887"
            ],
            [
             0.1111111111111111,
             "#46039f"
            ],
            [
             0.2222222222222222,
             "#7201a8"
            ],
            [
             0.3333333333333333,
             "#9c179e"
            ],
            [
             0.4444444444444444,
             "#bd3786"
            ],
            [
             0.5555555555555556,
             "#d8576b"
            ],
            [
             0.6666666666666666,
             "#ed7953"
            ],
            [
             0.7777777777777778,
             "#fb9f3a"
            ],
            [
             0.8888888888888888,
             "#fdca26"
            ],
            [
             1,
             "#f0f921"
            ]
           ],
           "sequentialminus": [
            [
             0,
             "#0d0887"
            ],
            [
             0.1111111111111111,
             "#46039f"
            ],
            [
             0.2222222222222222,
             "#7201a8"
            ],
            [
             0.3333333333333333,
             "#9c179e"
            ],
            [
             0.4444444444444444,
             "#bd3786"
            ],
            [
             0.5555555555555556,
             "#d8576b"
            ],
            [
             0.6666666666666666,
             "#ed7953"
            ],
            [
             0.7777777777777778,
             "#fb9f3a"
            ],
            [
             0.8888888888888888,
             "#fdca26"
            ],
            [
             1,
             "#f0f921"
            ]
           ]
          },
          "colorway": [
           "#636efa",
           "#EF553B",
           "#00cc96",
           "#ab63fa",
           "#FFA15A",
           "#19d3f3",
           "#FF6692",
           "#B6E880",
           "#FF97FF",
           "#FECB52"
          ],
          "font": {
           "color": "#2a3f5f"
          },
          "geo": {
           "bgcolor": "white",
           "lakecolor": "white",
           "landcolor": "#E5ECF6",
           "showlakes": true,
           "showland": true,
           "subunitcolor": "white"
          },
          "hoverlabel": {
           "align": "left"
          },
          "hovermode": "closest",
          "mapbox": {
           "style": "light"
          },
          "paper_bgcolor": "white",
          "plot_bgcolor": "#E5ECF6",
          "polar": {
           "angularaxis": {
            "gridcolor": "white",
            "linecolor": "white",
            "ticks": ""
           },
           "bgcolor": "#E5ECF6",
           "radialaxis": {
            "gridcolor": "white",
            "linecolor": "white",
            "ticks": ""
           }
          },
          "scene": {
           "xaxis": {
            "backgroundcolor": "#E5ECF6",
            "gridcolor": "white",
            "gridwidth": 2,
            "linecolor": "white",
            "showbackground": true,
            "ticks": "",
            "zerolinecolor": "white"
           },
           "yaxis": {
            "backgroundcolor": "#E5ECF6",
            "gridcolor": "white",
            "gridwidth": 2,
            "linecolor": "white",
            "showbackground": true,
            "ticks": "",
            "zerolinecolor": "white"
           },
           "zaxis": {
            "backgroundcolor": "#E5ECF6",
            "gridcolor": "white",
            "gridwidth": 2,
            "linecolor": "white",
            "showbackground": true,
            "ticks": "",
            "zerolinecolor": "white"
           }
          },
          "shapedefaults": {
           "line": {
            "color": "#2a3f5f"
           }
          },
          "ternary": {
           "aaxis": {
            "gridcolor": "white",
            "linecolor": "white",
            "ticks": ""
           },
           "baxis": {
            "gridcolor": "white",
            "linecolor": "white",
            "ticks": ""
           },
           "bgcolor": "#E5ECF6",
           "caxis": {
            "gridcolor": "white",
            "linecolor": "white",
            "ticks": ""
           }
          },
          "title": {
           "x": 0.05
          },
          "xaxis": {
           "automargin": true,
           "gridcolor": "white",
           "linecolor": "white",
           "ticks": "",
           "title": {
            "standoff": 15
           },
           "zerolinecolor": "white",
           "zerolinewidth": 2
          },
          "yaxis": {
           "automargin": true,
           "gridcolor": "white",
           "linecolor": "white",
           "ticks": "",
           "title": {
            "standoff": 15
           },
           "zerolinecolor": "white",
           "zerolinewidth": 2
          }
         }
        },
        "title": {
         "text": "Recommended Procurement Actions Distribution"
        }
       }
      }
     },
     "metadata": {},
     "output_type": "display_data"
    },
    {
     "data": {
      "application/vnd.plotly.v1+json": {
       "config": {
        "plotlyServerURL": "https://plot.ly"
       },
       "data": [
        {
         "hovertemplate": "<b>%{text}</b><br>Stockout Risk: %{x:.2f}<br>Revenue: $%{y:,.0f}<br>Priority: %{marker.size:.1f}<br><extra></extra>",
         "marker": {
          "color": [
           "blue",
           "green",
           "blue",
           "green",
           "blue",
           "blue",
           "blue",
           "blue",
           "green",
           "blue",
           "green",
           "green",
           "green",
           "blue",
           "blue",
           "red",
           "green",
           "green",
           "red",
           "blue",
           "green",
           "red",
           "green",
           "red",
           "blue",
           "green",
           "green",
           "green",
           "green",
           "green",
           "green",
           "blue",
           "blue",
           "green",
           "green",
           "green",
           "green",
           "green",
           "red",
           "blue",
           "green",
           "red",
           "blue",
           "red",
           "green",
           "green",
           "green",
           "blue",
           "green",
           "green",
           "green",
           "green",
           "green",
           "red",
           "blue",
           "blue",
           "red",
           "green",
           "red",
           "green",
           "green",
           "blue",
           "green",
           "blue",
           "red",
           "green",
           "green",
           "red",
           "red",
           "green",
           "green",
           "red",
           "blue",
           "red",
           "green",
           "green",
           "red",
           "blue",
           "green",
           "blue",
           "green",
           "blue",
           "blue",
           "blue",
           "blue",
           "blue",
           "blue",
           "green",
           "green",
           "blue",
           "red",
           "blue",
           "red",
           "green",
           "green",
           "green",
           "green",
           "red",
           "blue",
           "blue",
           "blue",
           "blue",
           "blue",
           "blue",
           "red",
           "red",
           "green",
           "green",
           "blue",
           "red",
           "blue",
           "red",
           "green",
           "green",
           "green",
           "green",
           "green",
           "green"
          ],
          "line": {
           "color": "DarkSlateGrey",
           "width": 1
          },
          "opacity": 0.6,
          "size": [
           79.1324612590799,
           66.19642615012107,
           39.07640395480226,
           51.90868926553673,
           50.42281261770245,
           41.79927495291902,
           49.80068644067797,
           62.15340799031477,
           61.55882324455206,
           74.70652179176754,
           57.91011259079903,
           47.67604479418885,
           37.36329472693032,
           50.6279143126177,
           55.35395480225989,
           75.77154842615012,
           72.88306658595641,
           48.34916828087167,
           31.504740112994348,
           39.18609698681732,
           63.78434987893462,
           31.950468926553672,
           65.566299031477,
           82.20585472154963,
           59.74087167070218,
           58.14877589453861,
           47.88206658595641,
           43.43462469733656,
           39.43657815442562,
           35.91748493408663,
           46.20244915254238,
           42.27939265536723,
           39.22877777777778,
           42.45883777239709,
           50.49199623352166,
           41.7392297551789,
           42.50905838041431,
           43.15753201506591,
           80.3958837772397,
           67.00408595641647,
           50.00520809792844,
           48.91038512241054,
           59.03226647834275,
           79.20634140435834,
           44.450283427495286,
           49.69521791767555,
           57.8574604519774,
           77.03954802259886,
           44.319460048426144,
           47.816375302663445,
           63.62474293785311,
           45.90774011299435,
           54.46427602905569,
           30.629918079096043,
           53.74508757062147,
           52.69548775894539,
           28.33867796610169,
           51.7369176755448,
           29.70554237288136,
           56.83784261501211,
           63.79739225181598,
           61.6199818401937,
           46.1269802259887,
           57.57016572504709,
           30.6876713747646,
           67.91586064030132,
           55.455634382566586,
           31.319146892655368,
           30.254882297551788,
           59.04835122410546,
           49.0671120527307,
           80.93034866828087,
           73.26171549636804,
           79.09025544794189,
           66.55036803874091,
           71.23002421307505,
           81.59910532687653,
           46.96775894538607,
           53.49909792843691,
           71.81228436911488,
           55.73685956416465,
           47.98441054613936,
           56.03719679849341,
           53.86837288135592,
           49.73084651600753,
           45.93517514124294,
           53.90802824858757,
           48.96803013182674,
           59.01089588377724,
           57.918549905838034,
           54.33806308851224,
           52.84407438794727,
           58.97156967984935,
           49.92164971751412,
           47.3501779661017,
           67.20631113801453,
           48.42470217917675,
           28.76883145009416,
           46.28846798493409,
           58.85221280602636,
           65.81400094161958,
           49.58616854990584,
           58.96079472693032,
           48.03712335216572,
           52.292760828625234,
           77.9356416464891,
           49.858248184019374,
           46.672053268765126,
           48.69080414312618,
           41.30490960451977,
           49.34403107344633,
           56.85586064030132,
           64.07899636803874,
           17.966101694915256,
           17.966101694915256,
           17.966101694915256,
           17.966101694915256,
           17.966101694915256
          ],
          "sizemode": "diameter",
          "sizeref": 2
         },
         "mode": "markers",
         "text": [
          "Adult dog supplies",
          "Baby sweater",
          "Bag Boy Beverage Holder",
          "Bag Boy M330 Push Cart",
          "Bridgestone e6 Straight Distan",
          "Bridgestone e6 Straight Distan",
          "Bridgestone e6 Straight Distan",
          "Brooks Women's Ghost 6 Running",
          "CDs of rock",
          "Children's heaters",
          "Cleveland Golf Collegiate My C",
          "Cleveland Golf Women's 588 RTX",
          "Clicgear 8.0 Shoe Brush",
          "Clicgear Rovic Cooler Bag",
          "Columbia Men's PFG Anchor Toug",
          "DVDs",
          "Diamondback Boys' Insight 24 P",
          "Diamondback Girls' Clarity 24 ",
          "Diamondback Women's Serene Cla",
          "ENO Atlas Hammock Straps",
          "Elevation Training Mask 2.0",
          "Field & Stream Sportsman 16 Gu",
          "Fighting video games",
          "First aid kit",
          "Fitbit The One Wireless Activi",
          "Garmin Approach S3 Golf GPS Wa",
          "Garmin Approach S4 Golf GPS Wa",
          "Garmin Forerunner 910XT GPS Wa",
          "Glove It Imperial Golf Towel",
          "Glove It Urban Brick Golf Towe",
          "Glove It Women's Imperial Golf",
          "Glove It Women's Mod Oval 3-Zi",
          "Glove It Women's Mod Oval Golf",
          "GoPro HERO3+ Black Edition Cam",
          "GolfBuddy VT3 GPS Watch",
          "Hirzl Men's Hybrid Golf Glove",
          "Hirzl Women's Hybrid Golf Glov",
          "Hirzl Women's Soffft Flex Golf",
          "Industrial consumer electronic",
          "LIJA Women's Argyle Golf Polo",
          "LIJA Women's Button Golf Dress",
          "LIJA Women's Eyelet Sleeveless",
          "LIJA Women's Mid-Length Panel ",
          "Lawn mower",
          "MDGolf Pittsburgh Penguins Put",
          "Men's gala suit",
          "Merrell Men's All Out Flash Tr",
          "Merrell Women's Grassbow Sport",
          "Merrell Women's Grassbow Sport",
          "Merrell Women's Siren Mid Wate",
          "Mio ALPHA Heart Rate Monitor/S",
          "Nike Dri-FIT Crew Sock 6 Pack",
          "Nike Kids' Grade School KD VI ",
          "Nike Men's CJ Elite 2 TD Footb",
          "Nike Men's Comfort 2 Slide",
          "Nike Men's Deutschland Weltmei",
          "Nike Men's Dri-FIT Victory Gol",
          "Nike Men's Fingertrap Max Trai",
          "Nike Men's Free 5.0+ Running S",
          "Nike Men's Free TR 5.0 TB Trai",
          "Nike Men's Kobe IX Elite Low B",
          "Nike Women's Free 5.0 TR FIT P",
          "Nike Women's Legend V-Neck T-S",
          "Nike Women's Tempo Shorts",
          "O'Brien Men's Neoprene Life Ve",
          "Ogio Race Golf Shoes",
          "Pelican Maverick 100X Kayak",
          "Pelican Sunstream 100 Kayak",
          "Perfect Fitness Perfect Rip De",
          "Polar FT4 Heart Rate Monitor",
          "Polar Loop Activity Tracker",
          "Porcelain crafts",
          "Rock music",
          "Smart watch",
          "Sports Books",
          "Stiga Master Series ST3100 Com",
          "Summer dresses",
          "TYR Boys' Team Digi Jammer",
          "TaylorMade 2017 Purelite Stand",
          "TaylorMade White Smoke IN-12 P",
          "TaylorMade Women's RBZ SL Resc",
          "Team Golf New England Patriots",
          "Team Golf Pittsburgh Steelers ",
          "Team Golf San Francisco Giants",
          "Team Golf St. Louis Cardinals ",
          "Team Golf Tennessee Volunteers",
          "Team Golf Texas Longhorns Putt",
          "The North Face Women's Recon B",
          "Titleist Club Glove Travel Cov",
          "Titleist Pro V1 High Numbers P",
          "Titleist Pro V1x Golf Balls",
          "Titleist Pro V1x High Numbers ",
          "Titleist Pro V1x High Numbers ",
          "Titleist Small Wheeled Travel ",
          "Top Flite Women's 2017 XL Hybr",
          "Total Gym 1400",
          "Toys",
          "Under Armour Girls' Toddler Sp",
          "Under Armour Hustle Storm Medi",
          "Under Armour Kids' Mercenary S",
          "Under Armour Men's Compression",
          "Under Armour Men's Tech II T-S",
          "Under Armour Women's Ignite PI",
          "Under Armour Women's Ignite Sl",
          "Under Armour Women's Micro G S",
          "Web Camera",
          "Yakima DoubleDown Ace Hitch Mo",
          "adidas Brazuca 2017 Official M",
          "adidas Kids' F5 Messi FG Socce",
          "adidas Men's F10 Messi TRX FG ",
          "adidas Men's Germany Black Cre",
          "adidas Youth Germany Black/Red",
          "insta-bed Neverflat Air Mattre",
          "Bowflex SelectTech 1090 Dumbbe",
          "Bushnell Pro X7 Jolt Slope Ran",
          "Dell Laptop",
          "SOLE E25 Elliptical",
          "SOLE E35 Elliptical"
         ],
         "type": "scatter",
         "x": [
          0.8857142857142857,
          0.8571428571428571,
          0.4166666666666667,
          0.8333333333333334,
          0.4722222222222222,
          0.3611111111111111,
          0.5,
          0.8285714285714286,
          0.8285714285714286,
          0.9142857142857144,
          0.8571428571428571,
          0.8571428571428571,
          0.4444444444444444,
          0.4722222222222222,
          0.4166666666666667,
          0.7428571428571429,
          0.9714285714285714,
          0.9714285714285714,
          0.0833333333333333,
          0.3611111111111111,
          0.8571428571428571,
          0.0833333333333333,
          0.8571428571428571,
          0.9714285714285714,
          0.7714285714285715,
          0.8888888888888888,
          0.9714285714285714,
          0.9428571428571428,
          0.3055555555555556,
          0.3055555555555556,
          0.5,
          0.3333333333333333,
          0.4444444444444444,
          0.9714285714285714,
          0.8888888888888888,
          0.5277777777777778,
          0.4722222222222222,
          0.4444444444444444,
          0.8571428571428571,
          0.8285714285714286,
          0.8888888888888888,
          0.3611111111111111,
          0.8611111111111112,
          0.8571428571428571,
          0.8611111111111112,
          0.9428571428571428,
          0.8333333333333334,
          0.9166666666666666,
          0.8571428571428571,
          0.8571428571428571,
          0.9166666666666666,
          0.3333333333333333,
          0.9142857142857144,
          0.0833333333333333,
          0.3333333333333333,
          0.3888888888888889,
          0,
          0.8571428571428571,
          0,
          0.8857142857142857,
          0.8571428571428571,
          0.7714285714285715,
          0.4166666666666667,
          0.3888888888888889,
          0.0555555555555555,
          0.8888888888888888,
          0.9714285714285714,
          0.0833333333333333,
          0.0277777777777777,
          0.8611111111111112,
          0.8055555555555556,
          0.8285714285714286,
          0.8857142857142857,
          0.8285714285714286,
          0.8857142857142857,
          0.9714285714285714,
          0.8857142857142857,
          0.3888888888888889,
          0.8888888888888888,
          0.8888888888888888,
          0.8857142857142857,
          0.3611111111111111,
          0.3055555555555556,
          0.5,
          0.4722222222222222,
          0.4166666666666667,
          0.3333333333333333,
          0.8888888888888888,
          0.9428571428571428,
          0.4722222222222222,
          0.3611111111111111,
          0.4444444444444444,
          0.5555555555555556,
          0.9166666666666666,
          0.5,
          0.9428571428571428,
          0.9714285714285714,
          0.0277777777777777,
          0.3055555555555556,
          0.5277777777777778,
          0.5277777777777778,
          0.4722222222222222,
          0.4444444444444444,
          0.3888888888888889,
          0.4444444444444444,
          0.7428571428571429,
          0.8571428571428571,
          0.8571428571428571,
          0.4722222222222222,
          0.3333333333333333,
          0.4166666666666667,
          0.3888888888888889,
          0.9142857142857144,
          0,
          0,
          0,
          0,
          0
         ],
         "y": [
          6300,
          2183,
          3750,
          2480,
          4256,
          4224,
          3360,
          3510,
          693,
          3213,
          2310,
          720,
          1310,
          6160,
          4380,
          20008,
          900,
          1800,
          728100,
          4410,
          3040,
          1151200,
          2600,
          8497,
          3200,
          2500,
          900,
          1600,
          2480,
          2416,
          2640,
          4246,
          3080,
          800,
          2200,
          1920,
          2265,
          1890,
          12650,
          3200,
          1296,
          11635,
          3300,
          35711,
          1600,
          1688,
          2420,
          4500,
          1430,
          1755,
          2189,
          2970,
          2100,
          501150,
          7470,
          5670,
          544300,
          1625,
          645500,
          3000,
          2800,
          4940,
          2700,
          4770,
          508200,
          2210,
          2450,
          536200,
          777120,
          2970,
          1870,
          39185,
          3654,
          15088,
          1736,
          1320,
          14904,
          5080,
          2880,
          3200,
          910,
          4150,
          4850,
          3725,
          3250,
          3675,
          4225,
          1584,
          1500,
          5876,
          7728,
          5856,
          8216,
          2000,
          2800,
          1800,
          876,
          227560,
          4655,
          4144,
          6300,
          3600,
          4480,
          5344,
          7975,
          86332,
          2268,
          1600,
          3535,
          11520,
          3125,
          12390,
          1650,
          0,
          0,
          0,
          0,
          0
         ]
        }
       ],
       "layout": {
        "height": 600,
        "template": {
         "data": {
          "bar": [
           {
            "error_x": {
             "color": "#2a3f5f"
            },
            "error_y": {
             "color": "#2a3f5f"
            },
            "marker": {
             "line": {
              "color": "#E5ECF6",
              "width": 0.5
             },
             "pattern": {
              "fillmode": "overlay",
              "size": 10,
              "solidity": 0.2
             }
            },
            "type": "bar"
           }
          ],
          "barpolar": [
           {
            "marker": {
             "line": {
              "color": "#E5ECF6",
              "width": 0.5
             },
             "pattern": {
              "fillmode": "overlay",
              "size": 10,
              "solidity": 0.2
             }
            },
            "type": "barpolar"
           }
          ],
          "carpet": [
           {
            "aaxis": {
             "endlinecolor": "#2a3f5f",
             "gridcolor": "white",
             "linecolor": "white",
             "minorgridcolor": "white",
             "startlinecolor": "#2a3f5f"
            },
            "baxis": {
             "endlinecolor": "#2a3f5f",
             "gridcolor": "white",
             "linecolor": "white",
             "minorgridcolor": "white",
             "startlinecolor": "#2a3f5f"
            },
            "type": "carpet"
           }
          ],
          "choropleth": [
           {
            "colorbar": {
             "outlinewidth": 0,
             "ticks": ""
            },
            "type": "choropleth"
           }
          ],
          "contour": [
           {
            "colorbar": {
             "outlinewidth": 0,
             "ticks": ""
            },
            "colorscale": [
             [
              0,
              "#0d0887"
             ],
             [
              0.1111111111111111,
              "#46039f"
             ],
             [
              0.2222222222222222,
              "#7201a8"
             ],
             [
              0.3333333333333333,
              "#9c179e"
             ],
             [
              0.4444444444444444,
              "#bd3786"
             ],
             [
              0.5555555555555556,
              "#d8576b"
             ],
             [
              0.6666666666666666,
              "#ed7953"
             ],
             [
              0.7777777777777778,
              "#fb9f3a"
             ],
             [
              0.8888888888888888,
              "#fdca26"
             ],
             [
              1,
              "#f0f921"
             ]
            ],
            "type": "contour"
           }
          ],
          "contourcarpet": [
           {
            "colorbar": {
             "outlinewidth": 0,
             "ticks": ""
            },
            "type": "contourcarpet"
           }
          ],
          "heatmap": [
           {
            "colorbar": {
             "outlinewidth": 0,
             "ticks": ""
            },
            "colorscale": [
             [
              0,
              "#0d0887"
             ],
             [
              0.1111111111111111,
              "#46039f"
             ],
             [
              0.2222222222222222,
              "#7201a8"
             ],
             [
              0.3333333333333333,
              "#9c179e"
             ],
             [
              0.4444444444444444,
              "#bd3786"
             ],
             [
              0.5555555555555556,
              "#d8576b"
             ],
             [
              0.6666666666666666,
              "#ed7953"
             ],
             [
              0.7777777777777778,
              "#fb9f3a"
             ],
             [
              0.8888888888888888,
              "#fdca26"
             ],
             [
              1,
              "#f0f921"
             ]
            ],
            "type": "heatmap"
           }
          ],
          "heatmapgl": [
           {
            "colorbar": {
             "outlinewidth": 0,
             "ticks": ""
            },
            "colorscale": [
             [
              0,
              "#0d0887"
             ],
             [
              0.1111111111111111,
              "#46039f"
             ],
             [
              0.2222222222222222,
              "#7201a8"
             ],
             [
              0.3333333333333333,
              "#9c179e"
             ],
             [
              0.4444444444444444,
              "#bd3786"
             ],
             [
              0.5555555555555556,
              "#d8576b"
             ],
             [
              0.6666666666666666,
              "#ed7953"
             ],
             [
              0.7777777777777778,
              "#fb9f3a"
             ],
             [
              0.8888888888888888,
              "#fdca26"
             ],
             [
              1,
              "#f0f921"
             ]
            ],
            "type": "heatmapgl"
           }
          ],
          "histogram": [
           {
            "marker": {
             "pattern": {
              "fillmode": "overlay",
              "size": 10,
              "solidity": 0.2
             }
            },
            "type": "histogram"
           }
          ],
          "histogram2d": [
           {
            "colorbar": {
             "outlinewidth": 0,
             "ticks": ""
            },
            "colorscale": [
             [
              0,
              "#0d0887"
             ],
             [
              0.1111111111111111,
              "#46039f"
             ],
             [
              0.2222222222222222,
              "#7201a8"
             ],
             [
              0.3333333333333333,
              "#9c179e"
             ],
             [
              0.4444444444444444,
              "#bd3786"
             ],
             [
              0.5555555555555556,
              "#d8576b"
             ],
             [
              0.6666666666666666,
              "#ed7953"
             ],
             [
              0.7777777777777778,
              "#fb9f3a"
             ],
             [
              0.8888888888888888,
              "#fdca26"
             ],
             [
              1,
              "#f0f921"
             ]
            ],
            "type": "histogram2d"
           }
          ],
          "histogram2dcontour": [
           {
            "colorbar": {
             "outlinewidth": 0,
             "ticks": ""
            },
            "colorscale": [
             [
              0,
              "#0d0887"
             ],
             [
              0.1111111111111111,
              "#46039f"
             ],
             [
              0.2222222222222222,
              "#7201a8"
             ],
             [
              0.3333333333333333,
              "#9c179e"
             ],
             [
              0.4444444444444444,
              "#bd3786"
             ],
             [
              0.5555555555555556,
              "#d8576b"
             ],
             [
              0.6666666666666666,
              "#ed7953"
             ],
             [
              0.7777777777777778,
              "#fb9f3a"
             ],
             [
              0.8888888888888888,
              "#fdca26"
             ],
             [
              1,
              "#f0f921"
             ]
            ],
            "type": "histogram2dcontour"
           }
          ],
          "mesh3d": [
           {
            "colorbar": {
             "outlinewidth": 0,
             "ticks": ""
            },
            "type": "mesh3d"
           }
          ],
          "parcoords": [
           {
            "line": {
             "colorbar": {
              "outlinewidth": 0,
              "ticks": ""
             }
            },
            "type": "parcoords"
           }
          ],
          "pie": [
           {
            "automargin": true,
            "type": "pie"
           }
          ],
          "scatter": [
           {
            "fillpattern": {
             "fillmode": "overlay",
             "size": 10,
             "solidity": 0.2
            },
            "type": "scatter"
           }
          ],
          "scatter3d": [
           {
            "line": {
             "colorbar": {
              "outlinewidth": 0,
              "ticks": ""
             }
            },
            "marker": {
             "colorbar": {
              "outlinewidth": 0,
              "ticks": ""
             }
            },
            "type": "scatter3d"
           }
          ],
          "scattercarpet": [
           {
            "marker": {
             "colorbar": {
              "outlinewidth": 0,
              "ticks": ""
             }
            },
            "type": "scattercarpet"
           }
          ],
          "scattergeo": [
           {
            "marker": {
             "colorbar": {
              "outlinewidth": 0,
              "ticks": ""
             }
            },
            "type": "scattergeo"
           }
          ],
          "scattergl": [
           {
            "marker": {
             "colorbar": {
              "outlinewidth": 0,
              "ticks": ""
             }
            },
            "type": "scattergl"
           }
          ],
          "scattermapbox": [
           {
            "marker": {
             "colorbar": {
              "outlinewidth": 0,
              "ticks": ""
             }
            },
            "type": "scattermapbox"
           }
          ],
          "scatterpolar": [
           {
            "marker": {
             "colorbar": {
              "outlinewidth": 0,
              "ticks": ""
             }
            },
            "type": "scatterpolar"
           }
          ],
          "scatterpolargl": [
           {
            "marker": {
             "colorbar": {
              "outlinewidth": 0,
              "ticks": ""
             }
            },
            "type": "scatterpolargl"
           }
          ],
          "scatterternary": [
           {
            "marker": {
             "colorbar": {
              "outlinewidth": 0,
              "ticks": ""
             }
            },
            "type": "scatterternary"
           }
          ],
          "surface": [
           {
            "colorbar": {
             "outlinewidth": 0,
             "ticks": ""
            },
            "colorscale": [
             [
              0,
              "#0d0887"
             ],
             [
              0.1111111111111111,
              "#46039f"
             ],
             [
              0.2222222222222222,
              "#7201a8"
             ],
             [
              0.3333333333333333,
              "#9c179e"
             ],
             [
              0.4444444444444444,
              "#bd3786"
             ],
             [
              0.5555555555555556,
              "#d8576b"
             ],
             [
              0.6666666666666666,
              "#ed7953"
             ],
             [
              0.7777777777777778,
              "#fb9f3a"
             ],
             [
              0.8888888888888888,
              "#fdca26"
             ],
             [
              1,
              "#f0f921"
             ]
            ],
            "type": "surface"
           }
          ],
          "table": [
           {
            "cells": {
             "fill": {
              "color": "#EBF0F8"
             },
             "line": {
              "color": "white"
             }
            },
            "header": {
             "fill": {
              "color": "#C8D4E3"
             },
             "line": {
              "color": "white"
             }
            },
            "type": "table"
           }
          ]
         },
         "layout": {
          "annotationdefaults": {
           "arrowcolor": "#2a3f5f",
           "arrowhead": 0,
           "arrowwidth": 1
          },
          "autotypenumbers": "strict",
          "coloraxis": {
           "colorbar": {
            "outlinewidth": 0,
            "ticks": ""
           }
          },
          "colorscale": {
           "diverging": [
            [
             0,
             "#8e0152"
            ],
            [
             0.1,
             "#c51b7d"
            ],
            [
             0.2,
             "#de77ae"
            ],
            [
             0.3,
             "#f1b6da"
            ],
            [
             0.4,
             "#fde0ef"
            ],
            [
             0.5,
             "#f7f7f7"
            ],
            [
             0.6,
             "#e6f5d0"
            ],
            [
             0.7,
             "#b8e186"
            ],
            [
             0.8,
             "#7fbc41"
            ],
            [
             0.9,
             "#4d9221"
            ],
            [
             1,
             "#276419"
            ]
           ],
           "sequential": [
            [
             0,
             "#0d0887"
            ],
            [
             0.1111111111111111,
             "#46039f"
            ],
            [
             0.2222222222222222,
             "#7201a8"
            ],
            [
             0.3333333333333333,
             "#9c179e"
            ],
            [
             0.4444444444444444,
             "#bd3786"
            ],
            [
             0.5555555555555556,
             "#d8576b"
            ],
            [
             0.6666666666666666,
             "#ed7953"
            ],
            [
             0.7777777777777778,
             "#fb9f3a"
            ],
            [
             0.8888888888888888,
             "#fdca26"
            ],
            [
             1,
             "#f0f921"
            ]
           ],
           "sequentialminus": [
            [
             0,
             "#0d0887"
            ],
            [
             0.1111111111111111,
             "#46039f"
            ],
            [
             0.2222222222222222,
             "#7201a8"
            ],
            [
             0.3333333333333333,
             "#9c179e"
            ],
            [
             0.4444444444444444,
             "#bd3786"
            ],
            [
             0.5555555555555556,
             "#d8576b"
            ],
            [
             0.6666666666666666,
             "#ed7953"
            ],
            [
             0.7777777777777778,
             "#fb9f3a"
            ],
            [
             0.8888888888888888,
             "#fdca26"
            ],
            [
             1,
             "#f0f921"
            ]
           ]
          },
          "colorway": [
           "#636efa",
           "#EF553B",
           "#00cc96",
           "#ab63fa",
           "#FFA15A",
           "#19d3f3",
           "#FF6692",
           "#B6E880",
           "#FF97FF",
           "#FECB52"
          ],
          "font": {
           "color": "#2a3f5f"
          },
          "geo": {
           "bgcolor": "white",
           "lakecolor": "white",
           "landcolor": "#E5ECF6",
           "showlakes": true,
           "showland": true,
           "subunitcolor": "white"
          },
          "hoverlabel": {
           "align": "left"
          },
          "hovermode": "closest",
          "mapbox": {
           "style": "light"
          },
          "paper_bgcolor": "white",
          "plot_bgcolor": "#E5ECF6",
          "polar": {
           "angularaxis": {
            "gridcolor": "white",
            "linecolor": "white",
            "ticks": ""
           },
           "bgcolor": "#E5ECF6",
           "radialaxis": {
            "gridcolor": "white",
            "linecolor": "white",
            "ticks": ""
           }
          },
          "scene": {
           "xaxis": {
            "backgroundcolor": "#E5ECF6",
            "gridcolor": "white",
            "gridwidth": 2,
            "linecolor": "white",
            "showbackground": true,
            "ticks": "",
            "zerolinecolor": "white"
           },
           "yaxis": {
            "backgroundcolor": "#E5ECF6",
            "gridcolor": "white",
            "gridwidth": 2,
            "linecolor": "white",
            "showbackground": true,
            "ticks": "",
            "zerolinecolor": "white"
           },
           "zaxis": {
            "backgroundcolor": "#E5ECF6",
            "gridcolor": "white",
            "gridwidth": 2,
            "linecolor": "white",
            "showbackground": true,
            "ticks": "",
            "zerolinecolor": "white"
           }
          },
          "shapedefaults": {
           "line": {
            "color": "#2a3f5f"
           }
          },
          "ternary": {
           "aaxis": {
            "gridcolor": "white",
            "linecolor": "white",
            "ticks": ""
           },
           "baxis": {
            "gridcolor": "white",
            "linecolor": "white",
            "ticks": ""
           },
           "bgcolor": "#E5ECF6",
           "caxis": {
            "gridcolor": "white",
            "linecolor": "white",
            "ticks": ""
           }
          },
          "title": {
           "x": 0.05
          },
          "xaxis": {
           "automargin": true,
           "gridcolor": "white",
           "linecolor": "white",
           "ticks": "",
           "title": {
            "standoff": 15
           },
           "zerolinecolor": "white",
           "zerolinewidth": 2
          },
          "yaxis": {
           "automargin": true,
           "gridcolor": "white",
           "linecolor": "white",
           "ticks": "",
           "title": {
            "standoff": 15
           },
           "zerolinecolor": "white",
           "zerolinewidth": 2
          }
         }
        },
        "title": {
         "text": "Procurement Priority Matrix: Stockout Risk vs Revenue Impact"
        },
        "width": 800,
        "xaxis": {
         "title": {
          "text": "Stockout Frequency"
         }
        },
        "yaxis": {
         "title": {
          "text": "Total Revenue ($)"
         }
        }
       }
      }
     },
     "metadata": {},
     "output_type": "display_data"
    }
   ],
   "source": [
    "action_counts = procurement_df['Recommended_Action'].value_counts()\n",
    "\n",
    "# Create pie chart for recommended actions\n",
    "fig = go.Figure(data=[go.Pie(\n",
    "    labels=action_counts.index,\n",
    "    values=action_counts.values,\n",
    "    hole=.3,\n",
    "    textinfo='label+percent',\n",
    "    textposition='inside'\n",
    ")])\n",
    "\n",
    "fig.update_layout(title_text=\"Recommended Procurement Actions Distribution\")\n",
    "fig.show()\n",
    "\n",
    "# Priority matrix: Stockout Risk vs Revenue Impact\n",
    "fig = go.Figure()\n",
    "\n",
    "# Create scatter plot with size based on priority score\n",
    "fig.add_trace(go.Scatter(\n",
    "    x=procurement_df['Stockout_Frequency'],\n",
    "    y=procurement_df['Gross Sales_sum'],\n",
    "    mode='markers',\n",
    "    marker=dict(\n",
    "        size=procurement_df['Procurement_Priority_Score'],\n",
    "        color=procurement_df['ABC_Category'].map({'A': 'red', 'B': 'blue', 'C': 'green'}),\n",
    "        opacity=0.6,\n",
    "        sizemode='diameter',\n",
    "        sizeref=2,\n",
    "        line=dict(width=1, color='DarkSlateGrey')\n",
    "    ),\n",
    "    text=procurement_df['Product Name'].str[:30],\n",
    "    hovertemplate='<b>%{text}</b><br>' +\n",
    "                  'Stockout Risk: %{x:.2f}<br>' +\n",
    "                  'Revenue: $%{y:,.0f}<br>' +\n",
    "                  'Priority: %{marker.size:.1f}<br>' +\n",
    "                  '<extra></extra>'\n",
    "))\n",
    "\n",
    "fig.update_layout(\n",
    "    title='Procurement Priority Matrix: Stockout Risk vs Revenue Impact',\n",
    "    xaxis_title='Stockout Frequency',\n",
    "    yaxis_title='Total Revenue ($)',\n",
    "    width=800,\n",
    "    height=600\n",
    ")\n",
    "fig.show()"
   ]
  },
  {
   "cell_type": "code",
   "execution_count": 31,
   "metadata": {},
   "outputs": [
    {
     "data": {
      "application/vnd.plotly.v1+json": {
       "config": {
        "plotlyServerURL": "https://plot.ly"
       },
       "data": [
        {
         "marker": {
          "color": "lightblue"
         },
         "name": "Revenue",
         "type": "bar",
         "x": [
          "Fan Shop",
          "Apparel",
          "Golf",
          "Footwear",
          "Outdoors",
          "Technology",
          "Fitness",
          "Discs Shop",
          "Health and Beauty",
          "Pet Shop"
         ],
         "xaxis": "x",
         "y": [
          2934670,
          1341243,
          805305,
          697686,
          200834,
          98982,
          59268,
          26955,
          8497,
          6300
         ],
         "yaxis": "y"
        },
        {
         "marker": {
          "color": "lightgreen"
         },
         "name": "Profit Margin %",
         "type": "bar",
         "x": [
          "Fan Shop",
          "Apparel",
          "Golf",
          "Footwear",
          "Outdoors",
          "Technology",
          "Fitness",
          "Discs Shop",
          "Health and Beauty",
          "Pet Shop"
         ],
         "xaxis": "x2",
         "y": [
          55.933648417028145,
          67.9991619713952,
          81.33713313589261,
          79.51886665348022,
          62.225021659679136,
          48.47244953627932,
          63.04076398731188,
          47.453162678538305,
          46.41638225255973,
          47.61904761904761
         ],
         "yaxis": "y2"
        },
        {
         "marker": {
          "color": "orange"
         },
         "name": "Product Count",
         "type": "bar",
         "x": [
          "Fan Shop",
          "Apparel",
          "Golf",
          "Footwear",
          "Outdoors",
          "Technology",
          "Fitness",
          "Discs Shop",
          "Health and Beauty",
          "Pet Shop"
         ],
         "xaxis": "x3",
         "y": [
          9,
          8,
          8,
          13,
          52,
          2,
          14,
          4,
          1,
          1
         ],
         "yaxis": "y3"
        },
        {
         "marker": {
          "color": "purple"
         },
         "name": "Order Volume",
         "type": "bar",
         "x": [
          "Fan Shop",
          "Apparel",
          "Golf",
          "Footwear",
          "Outdoors",
          "Technology",
          "Fitness",
          "Discs Shop",
          "Health and Beauty",
          "Pet Shop"
         ],
         "xaxis": "x4",
         "y": [
          18404,
          17021,
          17353,
          7622,
          4315,
          241,
          987,
          264,
          29,
          75
         ],
         "yaxis": "y4"
        }
       ],
       "layout": {
        "annotations": [
         {
          "font": {
           "size": 16
          },
          "showarrow": false,
          "text": "Revenue by Department",
          "x": 0.225,
          "xanchor": "center",
          "xref": "paper",
          "y": 1,
          "yanchor": "bottom",
          "yref": "paper"
         },
         {
          "font": {
           "size": 16
          },
          "showarrow": false,
          "text": "Profit Margin by Department",
          "x": 0.775,
          "xanchor": "center",
          "xref": "paper",
          "y": 1,
          "yanchor": "bottom",
          "yref": "paper"
         },
         {
          "font": {
           "size": 16
          },
          "showarrow": false,
          "text": "Product Count by Department",
          "x": 0.225,
          "xanchor": "center",
          "xref": "paper",
          "y": 0.375,
          "yanchor": "bottom",
          "yref": "paper"
         },
         {
          "font": {
           "size": 16
          },
          "showarrow": false,
          "text": "Volume by Department",
          "x": 0.775,
          "xanchor": "center",
          "xref": "paper",
          "y": 0.375,
          "yanchor": "bottom",
          "yref": "paper"
         }
        ],
        "height": 800,
        "showlegend": false,
        "template": {
         "data": {
          "bar": [
           {
            "error_x": {
             "color": "#2a3f5f"
            },
            "error_y": {
             "color": "#2a3f5f"
            },
            "marker": {
             "line": {
              "color": "#E5ECF6",
              "width": 0.5
             },
             "pattern": {
              "fillmode": "overlay",
              "size": 10,
              "solidity": 0.2
             }
            },
            "type": "bar"
           }
          ],
          "barpolar": [
           {
            "marker": {
             "line": {
              "color": "#E5ECF6",
              "width": 0.5
             },
             "pattern": {
              "fillmode": "overlay",
              "size": 10,
              "solidity": 0.2
             }
            },
            "type": "barpolar"
           }
          ],
          "carpet": [
           {
            "aaxis": {
             "endlinecolor": "#2a3f5f",
             "gridcolor": "white",
             "linecolor": "white",
             "minorgridcolor": "white",
             "startlinecolor": "#2a3f5f"
            },
            "baxis": {
             "endlinecolor": "#2a3f5f",
             "gridcolor": "white",
             "linecolor": "white",
             "minorgridcolor": "white",
             "startlinecolor": "#2a3f5f"
            },
            "type": "carpet"
           }
          ],
          "choropleth": [
           {
            "colorbar": {
             "outlinewidth": 0,
             "ticks": ""
            },
            "type": "choropleth"
           }
          ],
          "contour": [
           {
            "colorbar": {
             "outlinewidth": 0,
             "ticks": ""
            },
            "colorscale": [
             [
              0,
              "#0d0887"
             ],
             [
              0.1111111111111111,
              "#46039f"
             ],
             [
              0.2222222222222222,
              "#7201a8"
             ],
             [
              0.3333333333333333,
              "#9c179e"
             ],
             [
              0.4444444444444444,
              "#bd3786"
             ],
             [
              0.5555555555555556,
              "#d8576b"
             ],
             [
              0.6666666666666666,
              "#ed7953"
             ],
             [
              0.7777777777777778,
              "#fb9f3a"
             ],
             [
              0.8888888888888888,
              "#fdca26"
             ],
             [
              1,
              "#f0f921"
             ]
            ],
            "type": "contour"
           }
          ],
          "contourcarpet": [
           {
            "colorbar": {
             "outlinewidth": 0,
             "ticks": ""
            },
            "type": "contourcarpet"
           }
          ],
          "heatmap": [
           {
            "colorbar": {
             "outlinewidth": 0,
             "ticks": ""
            },
            "colorscale": [
             [
              0,
              "#0d0887"
             ],
             [
              0.1111111111111111,
              "#46039f"
             ],
             [
              0.2222222222222222,
              "#7201a8"
             ],
             [
              0.3333333333333333,
              "#9c179e"
             ],
             [
              0.4444444444444444,
              "#bd3786"
             ],
             [
              0.5555555555555556,
              "#d8576b"
             ],
             [
              0.6666666666666666,
              "#ed7953"
             ],
             [
              0.7777777777777778,
              "#fb9f3a"
             ],
             [
              0.8888888888888888,
              "#fdca26"
             ],
             [
              1,
              "#f0f921"
             ]
            ],
            "type": "heatmap"
           }
          ],
          "heatmapgl": [
           {
            "colorbar": {
             "outlinewidth": 0,
             "ticks": ""
            },
            "colorscale": [
             [
              0,
              "#0d0887"
             ],
             [
              0.1111111111111111,
              "#46039f"
             ],
             [
              0.2222222222222222,
              "#7201a8"
             ],
             [
              0.3333333333333333,
              "#9c179e"
             ],
             [
              0.4444444444444444,
              "#bd3786"
             ],
             [
              0.5555555555555556,
              "#d8576b"
             ],
             [
              0.6666666666666666,
              "#ed7953"
             ],
             [
              0.7777777777777778,
              "#fb9f3a"
             ],
             [
              0.8888888888888888,
              "#fdca26"
             ],
             [
              1,
              "#f0f921"
             ]
            ],
            "type": "heatmapgl"
           }
          ],
          "histogram": [
           {
            "marker": {
             "pattern": {
              "fillmode": "overlay",
              "size": 10,
              "solidity": 0.2
             }
            },
            "type": "histogram"
           }
          ],
          "histogram2d": [
           {
            "colorbar": {
             "outlinewidth": 0,
             "ticks": ""
            },
            "colorscale": [
             [
              0,
              "#0d0887"
             ],
             [
              0.1111111111111111,
              "#46039f"
             ],
             [
              0.2222222222222222,
              "#7201a8"
             ],
             [
              0.3333333333333333,
              "#9c179e"
             ],
             [
              0.4444444444444444,
              "#bd3786"
             ],
             [
              0.5555555555555556,
              "#d8576b"
             ],
             [
              0.6666666666666666,
              "#ed7953"
             ],
             [
              0.7777777777777778,
              "#fb9f3a"
             ],
             [
              0.8888888888888888,
              "#fdca26"
             ],
             [
              1,
              "#f0f921"
             ]
            ],
            "type": "histogram2d"
           }
          ],
          "histogram2dcontour": [
           {
            "colorbar": {
             "outlinewidth": 0,
             "ticks": ""
            },
            "colorscale": [
             [
              0,
              "#0d0887"
             ],
             [
              0.1111111111111111,
              "#46039f"
             ],
             [
              0.2222222222222222,
              "#7201a8"
             ],
             [
              0.3333333333333333,
              "#9c179e"
             ],
             [
              0.4444444444444444,
              "#bd3786"
             ],
             [
              0.5555555555555556,
              "#d8576b"
             ],
             [
              0.6666666666666666,
              "#ed7953"
             ],
             [
              0.7777777777777778,
              "#fb9f3a"
             ],
             [
              0.8888888888888888,
              "#fdca26"
             ],
             [
              1,
              "#f0f921"
             ]
            ],
            "type": "histogram2dcontour"
           }
          ],
          "mesh3d": [
           {
            "colorbar": {
             "outlinewidth": 0,
             "ticks": ""
            },
            "type": "mesh3d"
           }
          ],
          "parcoords": [
           {
            "line": {
             "colorbar": {
              "outlinewidth": 0,
              "ticks": ""
             }
            },
            "type": "parcoords"
           }
          ],
          "pie": [
           {
            "automargin": true,
            "type": "pie"
           }
          ],
          "scatter": [
           {
            "fillpattern": {
             "fillmode": "overlay",
             "size": 10,
             "solidity": 0.2
            },
            "type": "scatter"
           }
          ],
          "scatter3d": [
           {
            "line": {
             "colorbar": {
              "outlinewidth": 0,
              "ticks": ""
             }
            },
            "marker": {
             "colorbar": {
              "outlinewidth": 0,
              "ticks": ""
             }
            },
            "type": "scatter3d"
           }
          ],
          "scattercarpet": [
           {
            "marker": {
             "colorbar": {
              "outlinewidth": 0,
              "ticks": ""
             }
            },
            "type": "scattercarpet"
           }
          ],
          "scattergeo": [
           {
            "marker": {
             "colorbar": {
              "outlinewidth": 0,
              "ticks": ""
             }
            },
            "type": "scattergeo"
           }
          ],
          "scattergl": [
           {
            "marker": {
             "colorbar": {
              "outlinewidth": 0,
              "ticks": ""
             }
            },
            "type": "scattergl"
           }
          ],
          "scattermapbox": [
           {
            "marker": {
             "colorbar": {
              "outlinewidth": 0,
              "ticks": ""
             }
            },
            "type": "scattermapbox"
           }
          ],
          "scatterpolar": [
           {
            "marker": {
             "colorbar": {
              "outlinewidth": 0,
              "ticks": ""
             }
            },
            "type": "scatterpolar"
           }
          ],
          "scatterpolargl": [
           {
            "marker": {
             "colorbar": {
              "outlinewidth": 0,
              "ticks": ""
             }
            },
            "type": "scatterpolargl"
           }
          ],
          "scatterternary": [
           {
            "marker": {
             "colorbar": {
              "outlinewidth": 0,
              "ticks": ""
             }
            },
            "type": "scatterternary"
           }
          ],
          "surface": [
           {
            "colorbar": {
             "outlinewidth": 0,
             "ticks": ""
            },
            "colorscale": [
             [
              0,
              "#0d0887"
             ],
             [
              0.1111111111111111,
              "#46039f"
             ],
             [
              0.2222222222222222,
              "#7201a8"
             ],
             [
              0.3333333333333333,
              "#9c179e"
             ],
             [
              0.4444444444444444,
              "#bd3786"
             ],
             [
              0.5555555555555556,
              "#d8576b"
             ],
             [
              0.6666666666666666,
              "#ed7953"
             ],
             [
              0.7777777777777778,
              "#fb9f3a"
             ],
             [
              0.8888888888888888,
              "#fdca26"
             ],
             [
              1,
              "#f0f921"
             ]
            ],
            "type": "surface"
           }
          ],
          "table": [
           {
            "cells": {
             "fill": {
              "color": "#EBF0F8"
             },
             "line": {
              "color": "white"
             }
            },
            "header": {
             "fill": {
              "color": "#C8D4E3"
             },
             "line": {
              "color": "white"
             }
            },
            "type": "table"
           }
          ]
         },
         "layout": {
          "annotationdefaults": {
           "arrowcolor": "#2a3f5f",
           "arrowhead": 0,
           "arrowwidth": 1
          },
          "autotypenumbers": "strict",
          "coloraxis": {
           "colorbar": {
            "outlinewidth": 0,
            "ticks": ""
           }
          },
          "colorscale": {
           "diverging": [
            [
             0,
             "#8e0152"
            ],
            [
             0.1,
             "#c51b7d"
            ],
            [
             0.2,
             "#de77ae"
            ],
            [
             0.3,
             "#f1b6da"
            ],
            [
             0.4,
             "#fde0ef"
            ],
            [
             0.5,
             "#f7f7f7"
            ],
            [
             0.6,
             "#e6f5d0"
            ],
            [
             0.7,
             "#b8e186"
            ],
            [
             0.8,
             "#7fbc41"
            ],
            [
             0.9,
             "#4d9221"
            ],
            [
             1,
             "#276419"
            ]
           ],
           "sequential": [
            [
             0,
             "#0d0887"
            ],
            [
             0.1111111111111111,
             "#46039f"
            ],
            [
             0.2222222222222222,
             "#7201a8"
            ],
            [
             0.3333333333333333,
             "#9c179e"
            ],
            [
             0.4444444444444444,
             "#bd3786"
            ],
            [
             0.5555555555555556,
             "#d8576b"
            ],
            [
             0.6666666666666666,
             "#ed7953"
            ],
            [
             0.7777777777777778,
             "#fb9f3a"
            ],
            [
             0.8888888888888888,
             "#fdca26"
            ],
            [
             1,
             "#f0f921"
            ]
           ],
           "sequentialminus": [
            [
             0,
             "#0d0887"
            ],
            [
             0.1111111111111111,
             "#46039f"
            ],
            [
             0.2222222222222222,
             "#7201a8"
            ],
            [
             0.3333333333333333,
             "#9c179e"
            ],
            [
             0.4444444444444444,
             "#bd3786"
            ],
            [
             0.5555555555555556,
             "#d8576b"
            ],
            [
             0.6666666666666666,
             "#ed7953"
            ],
            [
             0.7777777777777778,
             "#fb9f3a"
            ],
            [
             0.8888888888888888,
             "#fdca26"
            ],
            [
             1,
             "#f0f921"
            ]
           ]
          },
          "colorway": [
           "#636efa",
           "#EF553B",
           "#00cc96",
           "#ab63fa",
           "#FFA15A",
           "#19d3f3",
           "#FF6692",
           "#B6E880",
           "#FF97FF",
           "#FECB52"
          ],
          "font": {
           "color": "#2a3f5f"
          },
          "geo": {
           "bgcolor": "white",
           "lakecolor": "white",
           "landcolor": "#E5ECF6",
           "showlakes": true,
           "showland": true,
           "subunitcolor": "white"
          },
          "hoverlabel": {
           "align": "left"
          },
          "hovermode": "closest",
          "mapbox": {
           "style": "light"
          },
          "paper_bgcolor": "white",
          "plot_bgcolor": "#E5ECF6",
          "polar": {
           "angularaxis": {
            "gridcolor": "white",
            "linecolor": "white",
            "ticks": ""
           },
           "bgcolor": "#E5ECF6",
           "radialaxis": {
            "gridcolor": "white",
            "linecolor": "white",
            "ticks": ""
           }
          },
          "scene": {
           "xaxis": {
            "backgroundcolor": "#E5ECF6",
            "gridcolor": "white",
            "gridwidth": 2,
            "linecolor": "white",
            "showbackground": true,
            "ticks": "",
            "zerolinecolor": "white"
           },
           "yaxis": {
            "backgroundcolor": "#E5ECF6",
            "gridcolor": "white",
            "gridwidth": 2,
            "linecolor": "white",
            "showbackground": true,
            "ticks": "",
            "zerolinecolor": "white"
           },
           "zaxis": {
            "backgroundcolor": "#E5ECF6",
            "gridcolor": "white",
            "gridwidth": 2,
            "linecolor": "white",
            "showbackground": true,
            "ticks": "",
            "zerolinecolor": "white"
           }
          },
          "shapedefaults": {
           "line": {
            "color": "#2a3f5f"
           }
          },
          "ternary": {
           "aaxis": {
            "gridcolor": "white",
            "linecolor": "white",
            "ticks": ""
           },
           "baxis": {
            "gridcolor": "white",
            "linecolor": "white",
            "ticks": ""
           },
           "bgcolor": "#E5ECF6",
           "caxis": {
            "gridcolor": "white",
            "linecolor": "white",
            "ticks": ""
           }
          },
          "title": {
           "x": 0.05
          },
          "xaxis": {
           "automargin": true,
           "gridcolor": "white",
           "linecolor": "white",
           "ticks": "",
           "title": {
            "standoff": 15
           },
           "zerolinecolor": "white",
           "zerolinewidth": 2
          },
          "yaxis": {
           "automargin": true,
           "gridcolor": "white",
           "linecolor": "white",
           "ticks": "",
           "title": {
            "standoff": 15
           },
           "zerolinecolor": "white",
           "zerolinewidth": 2
          }
         }
        },
        "title": {
         "text": "Department Performance Dashboard"
        },
        "xaxis": {
         "anchor": "y",
         "domain": [
          0,
          0.45
         ],
         "tickangle": 45
        },
        "xaxis2": {
         "anchor": "y2",
         "domain": [
          0.55,
          1
         ],
         "tickangle": 45
        },
        "xaxis3": {
         "anchor": "y3",
         "domain": [
          0,
          0.45
         ],
         "tickangle": 45
        },
        "xaxis4": {
         "anchor": "y4",
         "domain": [
          0.55,
          1
         ],
         "tickangle": 45
        },
        "yaxis": {
         "anchor": "x",
         "domain": [
          0.625,
          1
         ]
        },
        "yaxis2": {
         "anchor": "x2",
         "domain": [
          0.625,
          1
         ]
        },
        "yaxis3": {
         "anchor": "x3",
         "domain": [
          0,
          0.375
         ]
        },
        "yaxis4": {
         "anchor": "x4",
         "domain": [
          0,
          0.375
         ]
        }
       }
      }
     },
     "metadata": {},
     "output_type": "display_data"
    }
   ],
   "source": [
    "dept_analysis = orders_df.groupby('Product Department').agg({\n",
    "    'Order Quantity': 'sum',\n",
    "    'Gross Sales': 'sum',\n",
    "    'Profit': 'sum',\n",
    "    'Product Name': 'nunique'\n",
    "}).round(2)\n",
    "\n",
    "dept_analysis['Profit_Margin'] = (dept_analysis['Profit'] / dept_analysis['Gross Sales']) * 100\n",
    "dept_analysis = dept_analysis.sort_values('Gross Sales', ascending=False).head(10)\n",
    "\n",
    "# Create department analysis dashboard\n",
    "fig = make_subplots(\n",
    "    rows=2, cols=2,\n",
    "    subplot_titles=('Revenue by Department', 'Profit Margin by Department',\n",
    "                   'Product Count by Department', 'Volume by Department')\n",
    ")\n",
    "\n",
    "# Revenue by Department\n",
    "fig.add_trace(\n",
    "    go.Bar(x=dept_analysis.index, y=dept_analysis['Gross Sales'], \n",
    "           name='Revenue', marker_color='lightblue'),\n",
    "    row=1, col=1\n",
    ")\n",
    "\n",
    "# Profit Margin by Department\n",
    "fig.add_trace(\n",
    "    go.Bar(x=dept_analysis.index, y=dept_analysis['Profit_Margin'], \n",
    "           name='Profit Margin %', marker_color='lightgreen'),\n",
    "    row=1, col=2\n",
    ")\n",
    "\n",
    "# Product Count by Department\n",
    "fig.add_trace(\n",
    "    go.Bar(x=dept_analysis.index, y=dept_analysis['Product Name'], \n",
    "           name='Product Count', marker_color='orange'),\n",
    "    row=2, col=1\n",
    ")\n",
    "\n",
    "# Volume by Department\n",
    "fig.add_trace(\n",
    "    go.Bar(x=dept_analysis.index, y=dept_analysis['Order Quantity'], \n",
    "           name='Order Volume', marker_color='purple'),\n",
    "    row=2, col=2\n",
    ")\n",
    "\n",
    "fig.update_layout(height=800, showlegend=False, title_text=\"Department Performance Dashboard\")\n",
    "fig.update_xaxes(tickangle=45)\n",
    "fig.show()"
   ]
  },
  {
   "cell_type": "code",
   "execution_count": 34,
   "metadata": {},
   "outputs": [
    {
     "data": {
      "application/vnd.plotly.v1+json": {
       "config": {
        "plotlyServerURL": "https://plot.ly"
       },
       "data": [
        {
         "name": "Stockout_Frequency",
         "opacity": 0.7,
         "type": "bar",
         "x": [
          "Stockout_Frequency",
          "Procurement_Priority_Score",
          "EOQ",
          "Gross Sales_sum",
          "Safety_Stock",
          "Reorder_Point",
          "Delivery_Reliability",
          "Order Quantity_mean",
          "Demand_Growth_Mean",
          "Current_Inventory"
         ],
         "y": [
          1,
          0.7274373967045049,
          0.5459218864712393,
          0.477076436155535,
          0.4536720481035407,
          0.4135354106142875,
          0.39251302609326133,
          0.3073186794685954,
          0.29619467345513667,
          0.0617442121420631
         ]
        },
        {
         "name": "Demand_Growth_Mean",
         "opacity": 0.7,
         "type": "bar",
         "x": [
          "Demand_Growth_Mean",
          "Procurement_Priority_Score",
          "Stockout_Frequency",
          "Safety_Stock",
          "Reorder_Point",
          "Order Quantity_mean",
          "EOQ",
          "Gross Sales_sum",
          "Delivery_Reliability",
          "Current_Inventory"
         ],
         "y": [
          1,
          0.6471164204045776,
          0.29619467345513667,
          0.20964110295518804,
          0.1964954362911853,
          0.1697509823115935,
          0.16877162050401068,
          0.15711502197188998,
          0.14986536664204395,
          0.054947710425203446
         ]
        },
        {
         "name": "Procurement_Priority_Score",
         "opacity": 0.7,
         "type": "bar",
         "x": [
          "Procurement_Priority_Score",
          "Stockout_Frequency",
          "Demand_Growth_Mean",
          "EOQ",
          "Gross Sales_sum",
          "Delivery_Reliability",
          "Safety_Stock",
          "Reorder_Point",
          "Order Quantity_mean",
          "Current_Inventory"
         ],
         "y": [
          1,
          0.7274373967045049,
          0.6471164204045776,
          0.38677645201047856,
          0.3751053806638464,
          0.36706230311428034,
          0.22026852773039407,
          0.1893537417368093,
          0.06735969812110519,
          0.027097096869057223
         ]
        }
       ],
       "layout": {
        "barmode": "group",
        "height": 500,
        "template": {
         "data": {
          "bar": [
           {
            "error_x": {
             "color": "#2a3f5f"
            },
            "error_y": {
             "color": "#2a3f5f"
            },
            "marker": {
             "line": {
              "color": "#E5ECF6",
              "width": 0.5
             },
             "pattern": {
              "fillmode": "overlay",
              "size": 10,
              "solidity": 0.2
             }
            },
            "type": "bar"
           }
          ],
          "barpolar": [
           {
            "marker": {
             "line": {
              "color": "#E5ECF6",
              "width": 0.5
             },
             "pattern": {
              "fillmode": "overlay",
              "size": 10,
              "solidity": 0.2
             }
            },
            "type": "barpolar"
           }
          ],
          "carpet": [
           {
            "aaxis": {
             "endlinecolor": "#2a3f5f",
             "gridcolor": "white",
             "linecolor": "white",
             "minorgridcolor": "white",
             "startlinecolor": "#2a3f5f"
            },
            "baxis": {
             "endlinecolor": "#2a3f5f",
             "gridcolor": "white",
             "linecolor": "white",
             "minorgridcolor": "white",
             "startlinecolor": "#2a3f5f"
            },
            "type": "carpet"
           }
          ],
          "choropleth": [
           {
            "colorbar": {
             "outlinewidth": 0,
             "ticks": ""
            },
            "type": "choropleth"
           }
          ],
          "contour": [
           {
            "colorbar": {
             "outlinewidth": 0,
             "ticks": ""
            },
            "colorscale": [
             [
              0,
              "#0d0887"
             ],
             [
              0.1111111111111111,
              "#46039f"
             ],
             [
              0.2222222222222222,
              "#7201a8"
             ],
             [
              0.3333333333333333,
              "#9c179e"
             ],
             [
              0.4444444444444444,
              "#bd3786"
             ],
             [
              0.5555555555555556,
              "#d8576b"
             ],
             [
              0.6666666666666666,
              "#ed7953"
             ],
             [
              0.7777777777777778,
              "#fb9f3a"
             ],
             [
              0.8888888888888888,
              "#fdca26"
             ],
             [
              1,
              "#f0f921"
             ]
            ],
            "type": "contour"
           }
          ],
          "contourcarpet": [
           {
            "colorbar": {
             "outlinewidth": 0,
             "ticks": ""
            },
            "type": "contourcarpet"
           }
          ],
          "heatmap": [
           {
            "colorbar": {
             "outlinewidth": 0,
             "ticks": ""
            },
            "colorscale": [
             [
              0,
              "#0d0887"
             ],
             [
              0.1111111111111111,
              "#46039f"
             ],
             [
              0.2222222222222222,
              "#7201a8"
             ],
             [
              0.3333333333333333,
              "#9c179e"
             ],
             [
              0.4444444444444444,
              "#bd3786"
             ],
             [
              0.5555555555555556,
              "#d8576b"
             ],
             [
              0.6666666666666666,
              "#ed7953"
             ],
             [
              0.7777777777777778,
              "#fb9f3a"
             ],
             [
              0.8888888888888888,
              "#fdca26"
             ],
             [
              1,
              "#f0f921"
             ]
            ],
            "type": "heatmap"
           }
          ],
          "heatmapgl": [
           {
            "colorbar": {
             "outlinewidth": 0,
             "ticks": ""
            },
            "colorscale": [
             [
              0,
              "#0d0887"
             ],
             [
              0.1111111111111111,
              "#46039f"
             ],
             [
              0.2222222222222222,
              "#7201a8"
             ],
             [
              0.3333333333333333,
              "#9c179e"
             ],
             [
              0.4444444444444444,
              "#bd3786"
             ],
             [
              0.5555555555555556,
              "#d8576b"
             ],
             [
              0.6666666666666666,
              "#ed7953"
             ],
             [
              0.7777777777777778,
              "#fb9f3a"
             ],
             [
              0.8888888888888888,
              "#fdca26"
             ],
             [
              1,
              "#f0f921"
             ]
            ],
            "type": "heatmapgl"
           }
          ],
          "histogram": [
           {
            "marker": {
             "pattern": {
              "fillmode": "overlay",
              "size": 10,
              "solidity": 0.2
             }
            },
            "type": "histogram"
           }
          ],
          "histogram2d": [
           {
            "colorbar": {
             "outlinewidth": 0,
             "ticks": ""
            },
            "colorscale": [
             [
              0,
              "#0d0887"
             ],
             [
              0.1111111111111111,
              "#46039f"
             ],
             [
              0.2222222222222222,
              "#7201a8"
             ],
             [
              0.3333333333333333,
              "#9c179e"
             ],
             [
              0.4444444444444444,
              "#bd3786"
             ],
             [
              0.5555555555555556,
              "#d8576b"
             ],
             [
              0.6666666666666666,
              "#ed7953"
             ],
             [
              0.7777777777777778,
              "#fb9f3a"
             ],
             [
              0.8888888888888888,
              "#fdca26"
             ],
             [
              1,
              "#f0f921"
             ]
            ],
            "type": "histogram2d"
           }
          ],
          "histogram2dcontour": [
           {
            "colorbar": {
             "outlinewidth": 0,
             "ticks": ""
            },
            "colorscale": [
             [
              0,
              "#0d0887"
             ],
             [
              0.1111111111111111,
              "#46039f"
             ],
             [
              0.2222222222222222,
              "#7201a8"
             ],
             [
              0.3333333333333333,
              "#9c179e"
             ],
             [
              0.4444444444444444,
              "#bd3786"
             ],
             [
              0.5555555555555556,
              "#d8576b"
             ],
             [
              0.6666666666666666,
              "#ed7953"
             ],
             [
              0.7777777777777778,
              "#fb9f3a"
             ],
             [
              0.8888888888888888,
              "#fdca26"
             ],
             [
              1,
              "#f0f921"
             ]
            ],
            "type": "histogram2dcontour"
           }
          ],
          "mesh3d": [
           {
            "colorbar": {
             "outlinewidth": 0,
             "ticks": ""
            },
            "type": "mesh3d"
           }
          ],
          "parcoords": [
           {
            "line": {
             "colorbar": {
              "outlinewidth": 0,
              "ticks": ""
             }
            },
            "type": "parcoords"
           }
          ],
          "pie": [
           {
            "automargin": true,
            "type": "pie"
           }
          ],
          "scatter": [
           {
            "fillpattern": {
             "fillmode": "overlay",
             "size": 10,
             "solidity": 0.2
            },
            "type": "scatter"
           }
          ],
          "scatter3d": [
           {
            "line": {
             "colorbar": {
              "outlinewidth": 0,
              "ticks": ""
             }
            },
            "marker": {
             "colorbar": {
              "outlinewidth": 0,
              "ticks": ""
             }
            },
            "type": "scatter3d"
           }
          ],
          "scattercarpet": [
           {
            "marker": {
             "colorbar": {
              "outlinewidth": 0,
              "ticks": ""
             }
            },
            "type": "scattercarpet"
           }
          ],
          "scattergeo": [
           {
            "marker": {
             "colorbar": {
              "outlinewidth": 0,
              "ticks": ""
             }
            },
            "type": "scattergeo"
           }
          ],
          "scattergl": [
           {
            "marker": {
             "colorbar": {
              "outlinewidth": 0,
              "ticks": ""
             }
            },
            "type": "scattergl"
           }
          ],
          "scattermapbox": [
           {
            "marker": {
             "colorbar": {
              "outlinewidth": 0,
              "ticks": ""
             }
            },
            "type": "scattermapbox"
           }
          ],
          "scatterpolar": [
           {
            "marker": {
             "colorbar": {
              "outlinewidth": 0,
              "ticks": ""
             }
            },
            "type": "scatterpolar"
           }
          ],
          "scatterpolargl": [
           {
            "marker": {
             "colorbar": {
              "outlinewidth": 0,
              "ticks": ""
             }
            },
            "type": "scatterpolargl"
           }
          ],
          "scatterternary": [
           {
            "marker": {
             "colorbar": {
              "outlinewidth": 0,
              "ticks": ""
             }
            },
            "type": "scatterternary"
           }
          ],
          "surface": [
           {
            "colorbar": {
             "outlinewidth": 0,
             "ticks": ""
            },
            "colorscale": [
             [
              0,
              "#0d0887"
             ],
             [
              0.1111111111111111,
              "#46039f"
             ],
             [
              0.2222222222222222,
              "#7201a8"
             ],
             [
              0.3333333333333333,
              "#9c179e"
             ],
             [
              0.4444444444444444,
              "#bd3786"
             ],
             [
              0.5555555555555556,
              "#d8576b"
             ],
             [
              0.6666666666666666,
              "#ed7953"
             ],
             [
              0.7777777777777778,
              "#fb9f3a"
             ],
             [
              0.8888888888888888,
              "#fdca26"
             ],
             [
              1,
              "#f0f921"
             ]
            ],
            "type": "surface"
           }
          ],
          "table": [
           {
            "cells": {
             "fill": {
              "color": "#EBF0F8"
             },
             "line": {
              "color": "white"
             }
            },
            "header": {
             "fill": {
              "color": "#C8D4E3"
             },
             "line": {
              "color": "white"
             }
            },
            "type": "table"
           }
          ]
         },
         "layout": {
          "annotationdefaults": {
           "arrowcolor": "#2a3f5f",
           "arrowhead": 0,
           "arrowwidth": 1
          },
          "autotypenumbers": "strict",
          "coloraxis": {
           "colorbar": {
            "outlinewidth": 0,
            "ticks": ""
           }
          },
          "colorscale": {
           "diverging": [
            [
             0,
             "#8e0152"
            ],
            [
             0.1,
             "#c51b7d"
            ],
            [
             0.2,
             "#de77ae"
            ],
            [
             0.3,
             "#f1b6da"
            ],
            [
             0.4,
             "#fde0ef"
            ],
            [
             0.5,
             "#f7f7f7"
            ],
            [
             0.6,
             "#e6f5d0"
            ],
            [
             0.7,
             "#b8e186"
            ],
            [
             0.8,
             "#7fbc41"
            ],
            [
             0.9,
             "#4d9221"
            ],
            [
             1,
             "#276419"
            ]
           ],
           "sequential": [
            [
             0,
             "#0d0887"
            ],
            [
             0.1111111111111111,
             "#46039f"
            ],
            [
             0.2222222222222222,
             "#7201a8"
            ],
            [
             0.3333333333333333,
             "#9c179e"
            ],
            [
             0.4444444444444444,
             "#bd3786"
            ],
            [
             0.5555555555555556,
             "#d8576b"
            ],
            [
             0.6666666666666666,
             "#ed7953"
            ],
            [
             0.7777777777777778,
             "#fb9f3a"
            ],
            [
             0.8888888888888888,
             "#fdca26"
            ],
            [
             1,
             "#f0f921"
            ]
           ],
           "sequentialminus": [
            [
             0,
             "#0d0887"
            ],
            [
             0.1111111111111111,
             "#46039f"
            ],
            [
             0.2222222222222222,
             "#7201a8"
            ],
            [
             0.3333333333333333,
             "#9c179e"
            ],
            [
             0.4444444444444444,
             "#bd3786"
            ],
            [
             0.5555555555555556,
             "#d8576b"
            ],
            [
             0.6666666666666666,
             "#ed7953"
            ],
            [
             0.7777777777777778,
             "#fb9f3a"
            ],
            [
             0.8888888888888888,
             "#fdca26"
            ],
            [
             1,
             "#f0f921"
            ]
           ]
          },
          "colorway": [
           "#636efa",
           "#EF553B",
           "#00cc96",
           "#ab63fa",
           "#FFA15A",
           "#19d3f3",
           "#FF6692",
           "#B6E880",
           "#FF97FF",
           "#FECB52"
          ],
          "font": {
           "color": "#2a3f5f"
          },
          "geo": {
           "bgcolor": "white",
           "lakecolor": "white",
           "landcolor": "#E5ECF6",
           "showlakes": true,
           "showland": true,
           "subunitcolor": "white"
          },
          "hoverlabel": {
           "align": "left"
          },
          "hovermode": "closest",
          "mapbox": {
           "style": "light"
          },
          "paper_bgcolor": "white",
          "plot_bgcolor": "#E5ECF6",
          "polar": {
           "angularaxis": {
            "gridcolor": "white",
            "linecolor": "white",
            "ticks": ""
           },
           "bgcolor": "#E5ECF6",
           "radialaxis": {
            "gridcolor": "white",
            "linecolor": "white",
            "ticks": ""
           }
          },
          "scene": {
           "xaxis": {
            "backgroundcolor": "#E5ECF6",
            "gridcolor": "white",
            "gridwidth": 2,
            "linecolor": "white",
            "showbackground": true,
            "ticks": "",
            "zerolinecolor": "white"
           },
           "yaxis": {
            "backgroundcolor": "#E5ECF6",
            "gridcolor": "white",
            "gridwidth": 2,
            "linecolor": "white",
            "showbackground": true,
            "ticks": "",
            "zerolinecolor": "white"
           },
           "zaxis": {
            "backgroundcolor": "#E5ECF6",
            "gridcolor": "white",
            "gridwidth": 2,
            "linecolor": "white",
            "showbackground": true,
            "ticks": "",
            "zerolinecolor": "white"
           }
          },
          "shapedefaults": {
           "line": {
            "color": "#2a3f5f"
           }
          },
          "ternary": {
           "aaxis": {
            "gridcolor": "white",
            "linecolor": "white",
            "ticks": ""
           },
           "baxis": {
            "gridcolor": "white",
            "linecolor": "white",
            "ticks": ""
           },
           "bgcolor": "#E5ECF6",
           "caxis": {
            "gridcolor": "white",
            "linecolor": "white",
            "ticks": ""
           }
          },
          "title": {
           "x": 0.05
          },
          "xaxis": {
           "automargin": true,
           "gridcolor": "white",
           "linecolor": "white",
           "ticks": "",
           "title": {
            "standoff": 15
           },
           "zerolinecolor": "white",
           "zerolinewidth": 2
          },
          "yaxis": {
           "automargin": true,
           "gridcolor": "white",
           "linecolor": "white",
           "ticks": "",
           "title": {
            "standoff": 15
           },
           "zerolinecolor": "white",
           "zerolinewidth": 2
          }
         }
        },
        "title": {
         "text": "Feature Importance for Key Prediction Targets"
        },
        "xaxis": {
         "tickangle": 45,
         "title": {
          "text": "Features"
         }
        },
        "yaxis": {
         "title": {
          "text": "Absolute Correlation"
         }
        }
       }
      }
     },
     "metadata": {},
     "output_type": "display_data"
    },
    {
     "data": {
      "application/vnd.plotly.v1+json": {
       "config": {
        "plotlyServerURL": "https://plot.ly"
       },
       "data": [
        {
         "marker": {
          "color": "lightcoral"
         },
         "orientation": "h",
         "type": "bar",
         "x": [
          100,
          100,
          100,
          100,
          100,
          100,
          100,
          100,
          100,
          100,
          100,
          100,
          100,
          100,
          100,
          100,
          100,
          100,
          100,
          100,
          100,
          100,
          100,
          100,
          100,
          100,
          100,
          100,
          100,
          100,
          100,
          100,
          100,
          100,
          100,
          100,
          100,
          100,
          100,
          100,
          100,
          100,
          100,
          100,
          100,
          100,
          100,
          100,
          100,
          100,
          100,
          100,
          100,
          100,
          100,
          100,
          100
         ],
         "y": [
          "Order Quantity_sum",
          "Year Month_max",
          "Inventory_Variability",
          "Cost_Variability",
          "Stockout_Frequency",
          "Low_Stock_Frequency",
          "Current_Inventory",
          "Current_Unit_Cost",
          "Actual_Shipment_Days_mean",
          "Actual_Shipment_Days_std",
          "Shipment_Delay_mean",
          "Shipment_Delay_std",
          "On_Time_Delivery_mean",
          "Early_Delivery_mean",
          "Late_Delivery_mean",
          "Warehouse_Fulfillment_Days",
          "Delivery_Reliability",
          "Fulfillment_Consistency",
          "Safety_Stock",
          "Daily_Demand",
          "Reorder_Point",
          "Annual_Demand",
          "EOQ",
          "Inventory_Days_Supply",
          "Revenue_Rank",
          "Procurement_Priority_Score",
          "Year Month_min",
          "Inventory_Efficiency",
          "Inventory Cost Per Unit_std",
          "Warehouse Inventory_count",
          "Order Quantity_mean",
          "Order Quantity_std",
          "Order Quantity_min",
          "Order Quantity_max",
          "Order Quantity_count",
          "Gross Sales_sum",
          "Gross Sales_mean",
          "Gross Sales_std",
          "Profit_sum",
          "Profit_mean",
          "Order ID_nunique",
          "Is_Holiday_Season_mean",
          "Is_Weekend_mean",
          "Quarter_<lambda>",
          "Demand_Variability",
          "Revenue_per_Unit",
          "Profit_Margin",
          "Order_Frequency",
          "Demand_Growth_Mean",
          "Demand_Growth_Std",
          "Demand_Trend_Slope",
          "Warehouse Inventory_mean",
          "Warehouse Inventory_std",
          "Warehouse Inventory_min",
          "Warehouse Inventory_max",
          "Inventory Cost Per Unit_mean",
          "Cost_Efficiency"
         ]
        }
       ],
       "layout": {
        "height": 1140,
        "template": {
         "data": {
          "bar": [
           {
            "error_x": {
             "color": "#2a3f5f"
            },
            "error_y": {
             "color": "#2a3f5f"
            },
            "marker": {
             "line": {
              "color": "#E5ECF6",
              "width": 0.5
             },
             "pattern": {
              "fillmode": "overlay",
              "size": 10,
              "solidity": 0.2
             }
            },
            "type": "bar"
           }
          ],
          "barpolar": [
           {
            "marker": {
             "line": {
              "color": "#E5ECF6",
              "width": 0.5
             },
             "pattern": {
              "fillmode": "overlay",
              "size": 10,
              "solidity": 0.2
             }
            },
            "type": "barpolar"
           }
          ],
          "carpet": [
           {
            "aaxis": {
             "endlinecolor": "#2a3f5f",
             "gridcolor": "white",
             "linecolor": "white",
             "minorgridcolor": "white",
             "startlinecolor": "#2a3f5f"
            },
            "baxis": {
             "endlinecolor": "#2a3f5f",
             "gridcolor": "white",
             "linecolor": "white",
             "minorgridcolor": "white",
             "startlinecolor": "#2a3f5f"
            },
            "type": "carpet"
           }
          ],
          "choropleth": [
           {
            "colorbar": {
             "outlinewidth": 0,
             "ticks": ""
            },
            "type": "choropleth"
           }
          ],
          "contour": [
           {
            "colorbar": {
             "outlinewidth": 0,
             "ticks": ""
            },
            "colorscale": [
             [
              0,
              "#0d0887"
             ],
             [
              0.1111111111111111,
              "#46039f"
             ],
             [
              0.2222222222222222,
              "#7201a8"
             ],
             [
              0.3333333333333333,
              "#9c179e"
             ],
             [
              0.4444444444444444,
              "#bd3786"
             ],
             [
              0.5555555555555556,
              "#d8576b"
             ],
             [
              0.6666666666666666,
              "#ed7953"
             ],
             [
              0.7777777777777778,
              "#fb9f3a"
             ],
             [
              0.8888888888888888,
              "#fdca26"
             ],
             [
              1,
              "#f0f921"
             ]
            ],
            "type": "contour"
           }
          ],
          "contourcarpet": [
           {
            "colorbar": {
             "outlinewidth": 0,
             "ticks": ""
            },
            "type": "contourcarpet"
           }
          ],
          "heatmap": [
           {
            "colorbar": {
             "outlinewidth": 0,
             "ticks": ""
            },
            "colorscale": [
             [
              0,
              "#0d0887"
             ],
             [
              0.1111111111111111,
              "#46039f"
             ],
             [
              0.2222222222222222,
              "#7201a8"
             ],
             [
              0.3333333333333333,
              "#9c179e"
             ],
             [
              0.4444444444444444,
              "#bd3786"
             ],
             [
              0.5555555555555556,
              "#d8576b"
             ],
             [
              0.6666666666666666,
              "#ed7953"
             ],
             [
              0.7777777777777778,
              "#fb9f3a"
             ],
             [
              0.8888888888888888,
              "#fdca26"
             ],
             [
              1,
              "#f0f921"
             ]
            ],
            "type": "heatmap"
           }
          ],
          "heatmapgl": [
           {
            "colorbar": {
             "outlinewidth": 0,
             "ticks": ""
            },
            "colorscale": [
             [
              0,
              "#0d0887"
             ],
             [
              0.1111111111111111,
              "#46039f"
             ],
             [
              0.2222222222222222,
              "#7201a8"
             ],
             [
              0.3333333333333333,
              "#9c179e"
             ],
             [
              0.4444444444444444,
              "#bd3786"
             ],
             [
              0.5555555555555556,
              "#d8576b"
             ],
             [
              0.6666666666666666,
              "#ed7953"
             ],
             [
              0.7777777777777778,
              "#fb9f3a"
             ],
             [
              0.8888888888888888,
              "#fdca26"
             ],
             [
              1,
              "#f0f921"
             ]
            ],
            "type": "heatmapgl"
           }
          ],
          "histogram": [
           {
            "marker": {
             "pattern": {
              "fillmode": "overlay",
              "size": 10,
              "solidity": 0.2
             }
            },
            "type": "histogram"
           }
          ],
          "histogram2d": [
           {
            "colorbar": {
             "outlinewidth": 0,
             "ticks": ""
            },
            "colorscale": [
             [
              0,
              "#0d0887"
             ],
             [
              0.1111111111111111,
              "#46039f"
             ],
             [
              0.2222222222222222,
              "#7201a8"
             ],
             [
              0.3333333333333333,
              "#9c179e"
             ],
             [
              0.4444444444444444,
              "#bd3786"
             ],
             [
              0.5555555555555556,
              "#d8576b"
             ],
             [
              0.6666666666666666,
              "#ed7953"
             ],
             [
              0.7777777777777778,
              "#fb9f3a"
             ],
             [
              0.8888888888888888,
              "#fdca26"
             ],
             [
              1,
              "#f0f921"
             ]
            ],
            "type": "histogram2d"
           }
          ],
          "histogram2dcontour": [
           {
            "colorbar": {
             "outlinewidth": 0,
             "ticks": ""
            },
            "colorscale": [
             [
              0,
              "#0d0887"
             ],
             [
              0.1111111111111111,
              "#46039f"
             ],
             [
              0.2222222222222222,
              "#7201a8"
             ],
             [
              0.3333333333333333,
              "#9c179e"
             ],
             [
              0.4444444444444444,
              "#bd3786"
             ],
             [
              0.5555555555555556,
              "#d8576b"
             ],
             [
              0.6666666666666666,
              "#ed7953"
             ],
             [
              0.7777777777777778,
              "#fb9f3a"
             ],
             [
              0.8888888888888888,
              "#fdca26"
             ],
             [
              1,
              "#f0f921"
             ]
            ],
            "type": "histogram2dcontour"
           }
          ],
          "mesh3d": [
           {
            "colorbar": {
             "outlinewidth": 0,
             "ticks": ""
            },
            "type": "mesh3d"
           }
          ],
          "parcoords": [
           {
            "line": {
             "colorbar": {
              "outlinewidth": 0,
              "ticks": ""
             }
            },
            "type": "parcoords"
           }
          ],
          "pie": [
           {
            "automargin": true,
            "type": "pie"
           }
          ],
          "scatter": [
           {
            "fillpattern": {
             "fillmode": "overlay",
             "size": 10,
             "solidity": 0.2
            },
            "type": "scatter"
           }
          ],
          "scatter3d": [
           {
            "line": {
             "colorbar": {
              "outlinewidth": 0,
              "ticks": ""
             }
            },
            "marker": {
             "colorbar": {
              "outlinewidth": 0,
              "ticks": ""
             }
            },
            "type": "scatter3d"
           }
          ],
          "scattercarpet": [
           {
            "marker": {
             "colorbar": {
              "outlinewidth": 0,
              "ticks": ""
             }
            },
            "type": "scattercarpet"
           }
          ],
          "scattergeo": [
           {
            "marker": {
             "colorbar": {
              "outlinewidth": 0,
              "ticks": ""
             }
            },
            "type": "scattergeo"
           }
          ],
          "scattergl": [
           {
            "marker": {
             "colorbar": {
              "outlinewidth": 0,
              "ticks": ""
             }
            },
            "type": "scattergl"
           }
          ],
          "scattermapbox": [
           {
            "marker": {
             "colorbar": {
              "outlinewidth": 0,
              "ticks": ""
             }
            },
            "type": "scattermapbox"
           }
          ],
          "scatterpolar": [
           {
            "marker": {
             "colorbar": {
              "outlinewidth": 0,
              "ticks": ""
             }
            },
            "type": "scatterpolar"
           }
          ],
          "scatterpolargl": [
           {
            "marker": {
             "colorbar": {
              "outlinewidth": 0,
              "ticks": ""
             }
            },
            "type": "scatterpolargl"
           }
          ],
          "scatterternary": [
           {
            "marker": {
             "colorbar": {
              "outlinewidth": 0,
              "ticks": ""
             }
            },
            "type": "scatterternary"
           }
          ],
          "surface": [
           {
            "colorbar": {
             "outlinewidth": 0,
             "ticks": ""
            },
            "colorscale": [
             [
              0,
              "#0d0887"
             ],
             [
              0.1111111111111111,
              "#46039f"
             ],
             [
              0.2222222222222222,
              "#7201a8"
             ],
             [
              0.3333333333333333,
              "#9c179e"
             ],
             [
              0.4444444444444444,
              "#bd3786"
             ],
             [
              0.5555555555555556,
              "#d8576b"
             ],
             [
              0.6666666666666666,
              "#ed7953"
             ],
             [
              0.7777777777777778,
              "#fb9f3a"
             ],
             [
              0.8888888888888888,
              "#fdca26"
             ],
             [
              1,
              "#f0f921"
             ]
            ],
            "type": "surface"
           }
          ],
          "table": [
           {
            "cells": {
             "fill": {
              "color": "#EBF0F8"
             },
             "line": {
              "color": "white"
             }
            },
            "header": {
             "fill": {
              "color": "#C8D4E3"
             },
             "line": {
              "color": "white"
             }
            },
            "type": "table"
           }
          ]
         },
         "layout": {
          "annotationdefaults": {
           "arrowcolor": "#2a3f5f",
           "arrowhead": 0,
           "arrowwidth": 1
          },
          "autotypenumbers": "strict",
          "coloraxis": {
           "colorbar": {
            "outlinewidth": 0,
            "ticks": ""
           }
          },
          "colorscale": {
           "diverging": [
            [
             0,
             "#8e0152"
            ],
            [
             0.1,
             "#c51b7d"
            ],
            [
             0.2,
             "#de77ae"
            ],
            [
             0.3,
             "#f1b6da"
            ],
            [
             0.4,
             "#fde0ef"
            ],
            [
             0.5,
             "#f7f7f7"
            ],
            [
             0.6,
             "#e6f5d0"
            ],
            [
             0.7,
             "#b8e186"
            ],
            [
             0.8,
             "#7fbc41"
            ],
            [
             0.9,
             "#4d9221"
            ],
            [
             1,
             "#276419"
            ]
           ],
           "sequential": [
            [
             0,
             "#0d0887"
            ],
            [
             0.1111111111111111,
             "#46039f"
            ],
            [
             0.2222222222222222,
             "#7201a8"
            ],
            [
             0.3333333333333333,
             "#9c179e"
            ],
            [
             0.4444444444444444,
             "#bd3786"
            ],
            [
             0.5555555555555556,
             "#d8576b"
            ],
            [
             0.6666666666666666,
             "#ed7953"
            ],
            [
             0.7777777777777778,
             "#fb9f3a"
            ],
            [
             0.8888888888888888,
             "#fdca26"
            ],
            [
             1,
             "#f0f921"
            ]
           ],
           "sequentialminus": [
            [
             0,
             "#0d0887"
            ],
            [
             0.1111111111111111,
             "#46039f"
            ],
            [
             0.2222222222222222,
             "#7201a8"
            ],
            [
             0.3333333333333333,
             "#9c179e"
            ],
            [
             0.4444444444444444,
             "#bd3786"
            ],
            [
             0.5555555555555556,
             "#d8576b"
            ],
            [
             0.6666666666666666,
             "#ed7953"
            ],
            [
             0.7777777777777778,
             "#fb9f3a"
            ],
            [
             0.8888888888888888,
             "#fdca26"
            ],
            [
             1,
             "#f0f921"
            ]
           ]
          },
          "colorway": [
           "#636efa",
           "#EF553B",
           "#00cc96",
           "#ab63fa",
           "#FFA15A",
           "#19d3f3",
           "#FF6692",
           "#B6E880",
           "#FF97FF",
           "#FECB52"
          ],
          "font": {
           "color": "#2a3f5f"
          },
          "geo": {
           "bgcolor": "white",
           "lakecolor": "white",
           "landcolor": "#E5ECF6",
           "showlakes": true,
           "showland": true,
           "subunitcolor": "white"
          },
          "hoverlabel": {
           "align": "left"
          },
          "hovermode": "closest",
          "mapbox": {
           "style": "light"
          },
          "paper_bgcolor": "white",
          "plot_bgcolor": "#E5ECF6",
          "polar": {
           "angularaxis": {
            "gridcolor": "white",
            "linecolor": "white",
            "ticks": ""
           },
           "bgcolor": "#E5ECF6",
           "radialaxis": {
            "gridcolor": "white",
            "linecolor": "white",
            "ticks": ""
           }
          },
          "scene": {
           "xaxis": {
            "backgroundcolor": "#E5ECF6",
            "gridcolor": "white",
            "gridwidth": 2,
            "linecolor": "white",
            "showbackground": true,
            "ticks": "",
            "zerolinecolor": "white"
           },
           "yaxis": {
            "backgroundcolor": "#E5ECF6",
            "gridcolor": "white",
            "gridwidth": 2,
            "linecolor": "white",
            "showbackground": true,
            "ticks": "",
            "zerolinecolor": "white"
           },
           "zaxis": {
            "backgroundcolor": "#E5ECF6",
            "gridcolor": "white",
            "gridwidth": 2,
            "linecolor": "white",
            "showbackground": true,
            "ticks": "",
            "zerolinecolor": "white"
           }
          },
          "shapedefaults": {
           "line": {
            "color": "#2a3f5f"
           }
          },
          "ternary": {
           "aaxis": {
            "gridcolor": "white",
            "linecolor": "white",
            "ticks": ""
           },
           "baxis": {
            "gridcolor": "white",
            "linecolor": "white",
            "ticks": ""
           },
           "bgcolor": "#E5ECF6",
           "caxis": {
            "gridcolor": "white",
            "linecolor": "white",
            "ticks": ""
           }
          },
          "title": {
           "x": 0.05
          },
          "xaxis": {
           "automargin": true,
           "gridcolor": "white",
           "linecolor": "white",
           "ticks": "",
           "title": {
            "standoff": 15
           },
           "zerolinecolor": "white",
           "zerolinewidth": 2
          },
          "yaxis": {
           "automargin": true,
           "gridcolor": "white",
           "linecolor": "white",
           "ticks": "",
           "title": {
            "standoff": 15
           },
           "zerolinecolor": "white",
           "zerolinewidth": 2
          }
         }
        },
        "title": {
         "text": "Data Completeness by Feature"
        },
        "xaxis": {
         "title": {
          "text": "Completeness (%)"
         }
        }
       }
      }
     },
     "metadata": {},
     "output_type": "display_data"
    }
   ],
   "source": [
    "target_correlations = {}\n",
    "targets = ['Stockout_Frequency', 'Demand_Growth_Mean', 'Procurement_Priority_Score']\n",
    "\n",
    "for target in targets:\n",
    "    correlations = procurement_df[key_features].corrwith(procurement_df[target]).abs().sort_values(ascending=False)\n",
    "    target_correlations[target] = correlations\n",
    "\n",
    "# Create feature importance heatmap\n",
    "fig = go.Figure()\n",
    "\n",
    "for i, target in enumerate(targets):\n",
    "    fig.add_trace(go.Bar(\n",
    "        x=target_correlations[target].index,\n",
    "        y=target_correlations[target].values,\n",
    "        name=target,\n",
    "        opacity=0.7\n",
    "    ))\n",
    "\n",
    "fig.update_layout(\n",
    "    title='Feature Importance for Key Prediction Targets',\n",
    "    xaxis_title='Features',\n",
    "    yaxis_title='Absolute Correlation',\n",
    "    barmode='group',\n",
    "    height=500\n",
    ")\n",
    "fig.update_xaxes(tickangle=45)\n",
    "fig.show()\n",
    "\n",
    "# Data completeness visualization\n",
    "completeness_data = []\n",
    "for col in procurement_df.columns:\n",
    "    if procurement_df[col].dtype in ['float64', 'int64']:\n",
    "        completeness = (1 - procurement_df[col].isnull().sum() / len(procurement_df)) * 100\n",
    "        completeness_data.append({'Feature': col, 'Completeness': completeness})\n",
    "\n",
    "completeness_df = pd.DataFrame(completeness_data).sort_values('Completeness')\n",
    "\n",
    "fig = go.Figure(go.Bar(\n",
    "    x=completeness_df['Completeness'],\n",
    "    y=completeness_df['Feature'],\n",
    "    orientation='h',\n",
    "    marker_color='lightcoral'\n",
    "))\n",
    "\n",
    "fig.update_layout(\n",
    "    title='Data Completeness by Feature',\n",
    "    xaxis_title='Completeness (%)',\n",
    "    height=max(400, len(completeness_df) * 20)\n",
    ")\n",
    "fig.show()"
   ]
  },
  {
   "cell_type": "code",
   "execution_count": null,
   "metadata": {},
   "outputs": [],
   "source": []
  }
 ],
 "metadata": {
  "kernelspec": {
   "display_name": "chain_env",
   "language": "python",
   "name": "python3"
  },
  "language_info": {
   "codemirror_mode": {
    "name": "ipython",
    "version": 3
   },
   "file_extension": ".py",
   "mimetype": "text/x-python",
   "name": "python",
   "nbconvert_exporter": "python",
   "pygments_lexer": "ipython3",
   "version": "3.10.18"
  }
 },
 "nbformat": 4,
 "nbformat_minor": 2
}
