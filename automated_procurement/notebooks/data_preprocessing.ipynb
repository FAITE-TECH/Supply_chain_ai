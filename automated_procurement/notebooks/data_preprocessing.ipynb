{
 "cells": [
  {
   "cell_type": "code",
   "execution_count": 4,
   "metadata": {},
   "outputs": [],
   "source": [
    "import pandas as pd\n",
    "import numpy as np\n",
    "from datetime import datetime, timedelta\n",
    "import warnings\n",
    "warnings.filterwarnings('ignore')\n"
   ]
  },
  {
   "cell_type": "code",
   "execution_count": 5,
   "metadata": {},
   "outputs": [
    {
     "name": "stdout",
     "output_type": "stream",
     "text": [
      "✓ Orders dataset loaded: (30871, 24)\n",
      "✓ Inventory dataset loaded: (4200, 4)\n",
      "✓ Fulfillment dataset loaded: (118, 2)\n"
     ]
    }
   ],
   "source": [
    "try:\n",
    "    orders_df = pd.read_csv('../data/raw/orders_and_shipments.csv')\n",
    "    inventory_df = pd.read_csv('../data/raw/inventory.csv')\n",
    "    fulfillment_df = pd.read_csv('../data/raw/fulfillment.csv')\n",
    "    \n",
    "    print(f\"✓ Orders dataset loaded: {orders_df.shape}\")\n",
    "    print(f\"✓ Inventory dataset loaded: {inventory_df.shape}\")\n",
    "    print(f\"✓ Fulfillment dataset loaded: {fulfillment_df.shape}\")\n",
    "except Exception as e:\n",
    "    print(f\"Error loading data: {e}\")\n",
    "    print(\"Please ensure data files are in the correct location\")"
   ]
  },
  {
   "cell_type": "code",
   "execution_count": 6,
   "metadata": {},
   "outputs": [
    {
     "name": "stdout",
     "output_type": "stream",
     "text": [
      "✓ Column names cleaned\n",
      "Orders columns: ['Order ID', 'Order Item ID', 'Order YearMonth', 'Order Year', 'Order Month', 'Order Day', 'Order Time', 'Order Quantity', 'Product Department', 'Product Category', 'Product Name', 'Customer ID', 'Customer Market', 'Customer Region', 'Customer Country', 'Warehouse Country', 'Shipment Year', 'Shipment Month', 'Shipment Day', 'Shipment Mode', 'Shipment Days - Scheduled', 'Gross Sales', 'Discount %', 'Profit']\n",
      "Inventory columns: ['Product Name', 'Year Month', 'Warehouse Inventory', 'Inventory Cost Per Unit']\n",
      "Fulfillment columns: ['Product Name', 'Warehouse Order Fulfillment (days)']\n"
     ]
    }
   ],
   "source": [
    "def clean_column_names(df):\n",
    "    \"\"\"Clean column names by removing leading/trailing whitespace\"\"\"\n",
    "    df.columns = df.columns.str.strip()\n",
    "    return df\n",
    "\n",
    "# Clean all datasets\n",
    "orders_df = clean_column_names(orders_df)\n",
    "inventory_df = clean_column_names(inventory_df)\n",
    "fulfillment_df = clean_column_names(fulfillment_df)\n",
    "\n",
    "print(\"✓ Column names cleaned\")\n",
    "print(\"Orders columns:\", list(orders_df.columns))\n",
    "print(\"Inventory columns:\", list(inventory_df.columns))\n",
    "print(\"Fulfillment columns:\", list(fulfillment_df.columns))\n"
   ]
  },
  {
   "cell_type": "code",
   "execution_count": 7,
   "metadata": {},
   "outputs": [
    {
     "data": {
      "text/html": [
       "<div>\n",
       "<style scoped>\n",
       "    .dataframe tbody tr th:only-of-type {\n",
       "        vertical-align: middle;\n",
       "    }\n",
       "\n",
       "    .dataframe tbody tr th {\n",
       "        vertical-align: top;\n",
       "    }\n",
       "\n",
       "    .dataframe thead th {\n",
       "        text-align: right;\n",
       "    }\n",
       "</style>\n",
       "<table border=\"1\" class=\"dataframe\">\n",
       "  <thead>\n",
       "    <tr style=\"text-align: right;\">\n",
       "      <th></th>\n",
       "      <th>Order ID</th>\n",
       "      <th>Order Item ID</th>\n",
       "      <th>Order YearMonth</th>\n",
       "      <th>Order Year</th>\n",
       "      <th>Order Month</th>\n",
       "      <th>Order Day</th>\n",
       "      <th>Order Time</th>\n",
       "      <th>Order Quantity</th>\n",
       "      <th>Product Department</th>\n",
       "      <th>Product Category</th>\n",
       "      <th>...</th>\n",
       "      <th>Customer Country</th>\n",
       "      <th>Warehouse Country</th>\n",
       "      <th>Shipment Year</th>\n",
       "      <th>Shipment Month</th>\n",
       "      <th>Shipment Day</th>\n",
       "      <th>Shipment Mode</th>\n",
       "      <th>Shipment Days - Scheduled</th>\n",
       "      <th>Gross Sales</th>\n",
       "      <th>Discount %</th>\n",
       "      <th>Profit</th>\n",
       "    </tr>\n",
       "  </thead>\n",
       "  <tbody>\n",
       "    <tr>\n",
       "      <th>0</th>\n",
       "      <td>3535</td>\n",
       "      <td>8793</td>\n",
       "      <td>201502</td>\n",
       "      <td>2015</td>\n",
       "      <td>2</td>\n",
       "      <td>21</td>\n",
       "      <td>14:07</td>\n",
       "      <td>1</td>\n",
       "      <td>Fan Shop</td>\n",
       "      <td>Fishing</td>\n",
       "      <td>...</td>\n",
       "      <td>Mexico</td>\n",
       "      <td>Puerto Rico</td>\n",
       "      <td>2015</td>\n",
       "      <td>2</td>\n",
       "      <td>27</td>\n",
       "      <td>Standard Class</td>\n",
       "      <td>4</td>\n",
       "      <td>400</td>\n",
       "      <td>0.25</td>\n",
       "      <td>200</td>\n",
       "    </tr>\n",
       "    <tr>\n",
       "      <th>1</th>\n",
       "      <td>4133</td>\n",
       "      <td>10320</td>\n",
       "      <td>201503</td>\n",
       "      <td>2015</td>\n",
       "      <td>3</td>\n",
       "      <td>2</td>\n",
       "      <td>07:37</td>\n",
       "      <td>1</td>\n",
       "      <td>Fan Shop</td>\n",
       "      <td>Fishing</td>\n",
       "      <td>...</td>\n",
       "      <td>Brazil</td>\n",
       "      <td>Puerto Rico</td>\n",
       "      <td>2015</td>\n",
       "      <td>3</td>\n",
       "      <td>6</td>\n",
       "      <td>Standard Class</td>\n",
       "      <td>4</td>\n",
       "      <td>400</td>\n",
       "      <td>0.09</td>\n",
       "      <td>200</td>\n",
       "    </tr>\n",
       "    <tr>\n",
       "      <th>2</th>\n",
       "      <td>7396</td>\n",
       "      <td>18517</td>\n",
       "      <td>201504</td>\n",
       "      <td>2015</td>\n",
       "      <td>4</td>\n",
       "      <td>18</td>\n",
       "      <td>22:47</td>\n",
       "      <td>1</td>\n",
       "      <td>Fan Shop</td>\n",
       "      <td>Fishing</td>\n",
       "      <td>...</td>\n",
       "      <td>Mexico</td>\n",
       "      <td>Puerto Rico</td>\n",
       "      <td>2015</td>\n",
       "      <td>4</td>\n",
       "      <td>20</td>\n",
       "      <td>Standard Class</td>\n",
       "      <td>4</td>\n",
       "      <td>400</td>\n",
       "      <td>0.06</td>\n",
       "      <td>200</td>\n",
       "    </tr>\n",
       "    <tr>\n",
       "      <th>3</th>\n",
       "      <td>11026</td>\n",
       "      <td>27608</td>\n",
       "      <td>201506</td>\n",
       "      <td>2015</td>\n",
       "      <td>6</td>\n",
       "      <td>10</td>\n",
       "      <td>22:32</td>\n",
       "      <td>1</td>\n",
       "      <td>Fan Shop</td>\n",
       "      <td>Fishing</td>\n",
       "      <td>...</td>\n",
       "      <td>Denmark</td>\n",
       "      <td>Puerto Rico</td>\n",
       "      <td>2015</td>\n",
       "      <td>6</td>\n",
       "      <td>12</td>\n",
       "      <td>Standard Class</td>\n",
       "      <td>4</td>\n",
       "      <td>400</td>\n",
       "      <td>0.15</td>\n",
       "      <td>200</td>\n",
       "    </tr>\n",
       "    <tr>\n",
       "      <th>4</th>\n",
       "      <td>11026</td>\n",
       "      <td>27609</td>\n",
       "      <td>201506</td>\n",
       "      <td>2015</td>\n",
       "      <td>6</td>\n",
       "      <td>10</td>\n",
       "      <td>22:32</td>\n",
       "      <td>1</td>\n",
       "      <td>Fan Shop</td>\n",
       "      <td>Fishing</td>\n",
       "      <td>...</td>\n",
       "      <td>Denmark</td>\n",
       "      <td>Puerto Rico</td>\n",
       "      <td>2015</td>\n",
       "      <td>6</td>\n",
       "      <td>12</td>\n",
       "      <td>Standard Class</td>\n",
       "      <td>4</td>\n",
       "      <td>400</td>\n",
       "      <td>0.13</td>\n",
       "      <td>200</td>\n",
       "    </tr>\n",
       "  </tbody>\n",
       "</table>\n",
       "<p>5 rows × 24 columns</p>\n",
       "</div>"
      ],
      "text/plain": [
       "   Order ID  Order Item ID  Order YearMonth  Order Year  Order Month  \\\n",
       "0      3535           8793           201502        2015            2   \n",
       "1      4133          10320           201503        2015            3   \n",
       "2      7396          18517           201504        2015            4   \n",
       "3     11026          27608           201506        2015            6   \n",
       "4     11026          27609           201506        2015            6   \n",
       "\n",
       "   Order Day Order Time  Order Quantity Product Department Product Category  \\\n",
       "0         21      14:07               1           Fan Shop          Fishing   \n",
       "1          2      07:37               1           Fan Shop          Fishing   \n",
       "2         18      22:47               1           Fan Shop          Fishing   \n",
       "3         10      22:32               1           Fan Shop          Fishing   \n",
       "4         10      22:32               1           Fan Shop          Fishing   \n",
       "\n",
       "   ... Customer Country  Warehouse Country Shipment Year Shipment Month  \\\n",
       "0  ...           Mexico        Puerto Rico          2015              2   \n",
       "1  ...           Brazil        Puerto Rico          2015              3   \n",
       "2  ...           Mexico        Puerto Rico          2015              4   \n",
       "3  ...          Denmark        Puerto Rico          2015              6   \n",
       "4  ...          Denmark        Puerto Rico          2015              6   \n",
       "\n",
       "  Shipment Day   Shipment Mode  Shipment Days - Scheduled  Gross Sales  \\\n",
       "0           27  Standard Class                          4          400   \n",
       "1            6  Standard Class                          4          400   \n",
       "2           20  Standard Class                          4          400   \n",
       "3           12  Standard Class                          4          400   \n",
       "4           12  Standard Class                          4          400   \n",
       "\n",
       "   Discount % Profit  \n",
       "0        0.25    200  \n",
       "1        0.09    200  \n",
       "2        0.06    200  \n",
       "3        0.15    200  \n",
       "4        0.13    200  \n",
       "\n",
       "[5 rows x 24 columns]"
      ]
     },
     "execution_count": 7,
     "metadata": {},
     "output_type": "execute_result"
    }
   ],
   "source": [
    "orders_df.head(5)"
   ]
  },
  {
   "cell_type": "code",
   "execution_count": 8,
   "metadata": {},
   "outputs": [
    {
     "name": "stdout",
     "output_type": "stream",
     "text": [
      "<class 'pandas.core.frame.DataFrame'>\n",
      "RangeIndex: 30871 entries, 0 to 30870\n",
      "Data columns (total 24 columns):\n",
      " #   Column                     Non-Null Count  Dtype \n",
      "---  ------                     --------------  ----- \n",
      " 0   Order ID                   30871 non-null  int64 \n",
      " 1   Order Item ID              30871 non-null  int64 \n",
      " 2   Order YearMonth            30871 non-null  int64 \n",
      " 3   Order Year                 30871 non-null  int64 \n",
      " 4   Order Month                30871 non-null  int64 \n",
      " 5   Order Day                  30871 non-null  int64 \n",
      " 6   Order Time                 30871 non-null  object\n",
      " 7   Order Quantity             30871 non-null  int64 \n",
      " 8   Product Department         30871 non-null  object\n",
      " 9   Product Category           30871 non-null  object\n",
      " 10  Product Name               30871 non-null  object\n",
      " 11  Customer ID                30871 non-null  int64 \n",
      " 12  Customer Market            30871 non-null  object\n",
      " 13  Customer Region            30871 non-null  object\n",
      " 14  Customer Country           30871 non-null  object\n",
      " 15  Warehouse Country          30871 non-null  object\n",
      " 16  Shipment Year              30871 non-null  int64 \n",
      " 17  Shipment Month             30871 non-null  int64 \n",
      " 18  Shipment Day               30871 non-null  int64 \n",
      " 19  Shipment Mode              30871 non-null  object\n",
      " 20  Shipment Days - Scheduled  30871 non-null  int64 \n",
      " 21  Gross Sales                30871 non-null  int64 \n",
      " 22  Discount %                 30871 non-null  object\n",
      " 23  Profit                     30871 non-null  int64 \n",
      "dtypes: int64(14), object(10)\n",
      "memory usage: 5.7+ MB\n"
     ]
    }
   ],
   "source": [
    "orders_df.info()"
   ]
  },
  {
   "cell_type": "code",
   "execution_count": 9,
   "metadata": {},
   "outputs": [
    {
     "data": {
      "text/html": [
       "<div>\n",
       "<style scoped>\n",
       "    .dataframe tbody tr th:only-of-type {\n",
       "        vertical-align: middle;\n",
       "    }\n",
       "\n",
       "    .dataframe tbody tr th {\n",
       "        vertical-align: top;\n",
       "    }\n",
       "\n",
       "    .dataframe thead th {\n",
       "        text-align: right;\n",
       "    }\n",
       "</style>\n",
       "<table border=\"1\" class=\"dataframe\">\n",
       "  <thead>\n",
       "    <tr style=\"text-align: right;\">\n",
       "      <th></th>\n",
       "      <th>Product Name</th>\n",
       "      <th>Year Month</th>\n",
       "      <th>Warehouse Inventory</th>\n",
       "      <th>Inventory Cost Per Unit</th>\n",
       "    </tr>\n",
       "  </thead>\n",
       "  <tbody>\n",
       "    <tr>\n",
       "      <th>0</th>\n",
       "      <td>Perfect Fitness Perfect Rip Deck</td>\n",
       "      <td>201712</td>\n",
       "      <td>0</td>\n",
       "      <td>0.69517</td>\n",
       "    </tr>\n",
       "    <tr>\n",
       "      <th>1</th>\n",
       "      <td>Nike Men's Dri-FIT Victory Golf Polo</td>\n",
       "      <td>201712</td>\n",
       "      <td>2</td>\n",
       "      <td>1.29291</td>\n",
       "    </tr>\n",
       "    <tr>\n",
       "      <th>2</th>\n",
       "      <td>O'Brien Men's Neoprene Life Vest</td>\n",
       "      <td>201712</td>\n",
       "      <td>0</td>\n",
       "      <td>0.56531</td>\n",
       "    </tr>\n",
       "    <tr>\n",
       "      <th>3</th>\n",
       "      <td>Nike Men's Free 5.0+ Running Shoe</td>\n",
       "      <td>201712</td>\n",
       "      <td>1</td>\n",
       "      <td>1.26321</td>\n",
       "    </tr>\n",
       "    <tr>\n",
       "      <th>4</th>\n",
       "      <td>Under Armour Girls' Toddler Spine Surge Runni</td>\n",
       "      <td>201712</td>\n",
       "      <td>0</td>\n",
       "      <td>1.47648</td>\n",
       "    </tr>\n",
       "  </tbody>\n",
       "</table>\n",
       "</div>"
      ],
      "text/plain": [
       "                                    Product Name  Year Month  \\\n",
       "0               Perfect Fitness Perfect Rip Deck      201712   \n",
       "1           Nike Men's Dri-FIT Victory Golf Polo      201712   \n",
       "2               O'Brien Men's Neoprene Life Vest      201712   \n",
       "3              Nike Men's Free 5.0+ Running Shoe      201712   \n",
       "4  Under Armour Girls' Toddler Spine Surge Runni      201712   \n",
       "\n",
       "   Warehouse Inventory  Inventory Cost Per Unit  \n",
       "0                    0                  0.69517  \n",
       "1                    2                  1.29291  \n",
       "2                    0                  0.56531  \n",
       "3                    1                  1.26321  \n",
       "4                    0                  1.47648  "
      ]
     },
     "execution_count": 9,
     "metadata": {},
     "output_type": "execute_result"
    }
   ],
   "source": [
    "inventory_df.head(5)"
   ]
  },
  {
   "cell_type": "code",
   "execution_count": 10,
   "metadata": {},
   "outputs": [
    {
     "name": "stdout",
     "output_type": "stream",
     "text": [
      "<class 'pandas.core.frame.DataFrame'>\n",
      "RangeIndex: 4200 entries, 0 to 4199\n",
      "Data columns (total 4 columns):\n",
      " #   Column                   Non-Null Count  Dtype  \n",
      "---  ------                   --------------  -----  \n",
      " 0   Product Name             4200 non-null   object \n",
      " 1   Year Month               4200 non-null   int64  \n",
      " 2   Warehouse Inventory      4200 non-null   int64  \n",
      " 3   Inventory Cost Per Unit  4200 non-null   float64\n",
      "dtypes: float64(1), int64(2), object(1)\n",
      "memory usage: 131.4+ KB\n"
     ]
    }
   ],
   "source": [
    "inventory_df.info()"
   ]
  },
  {
   "cell_type": "code",
   "execution_count": 11,
   "metadata": {},
   "outputs": [
    {
     "data": {
      "text/html": [
       "<div>\n",
       "<style scoped>\n",
       "    .dataframe tbody tr th:only-of-type {\n",
       "        vertical-align: middle;\n",
       "    }\n",
       "\n",
       "    .dataframe tbody tr th {\n",
       "        vertical-align: top;\n",
       "    }\n",
       "\n",
       "    .dataframe thead th {\n",
       "        text-align: right;\n",
       "    }\n",
       "</style>\n",
       "<table border=\"1\" class=\"dataframe\">\n",
       "  <thead>\n",
       "    <tr style=\"text-align: right;\">\n",
       "      <th></th>\n",
       "      <th>Product Name</th>\n",
       "      <th>Warehouse Order Fulfillment (days)</th>\n",
       "    </tr>\n",
       "  </thead>\n",
       "  <tbody>\n",
       "    <tr>\n",
       "      <th>0</th>\n",
       "      <td>Perfect Fitness Perfect Rip Deck</td>\n",
       "      <td>8.3</td>\n",
       "    </tr>\n",
       "    <tr>\n",
       "      <th>1</th>\n",
       "      <td>Nike Men's Dri-FIT Victory Golf Polo</td>\n",
       "      <td>6.6</td>\n",
       "    </tr>\n",
       "    <tr>\n",
       "      <th>2</th>\n",
       "      <td>O'Brien Men's Neoprene Life Vest</td>\n",
       "      <td>5.5</td>\n",
       "    </tr>\n",
       "    <tr>\n",
       "      <th>3</th>\n",
       "      <td>Nike Men's Free 5.0+ Running Shoe</td>\n",
       "      <td>9.4</td>\n",
       "    </tr>\n",
       "    <tr>\n",
       "      <th>4</th>\n",
       "      <td>Under Armour Girls' Toddler Spine Surge Runni</td>\n",
       "      <td>6.3</td>\n",
       "    </tr>\n",
       "  </tbody>\n",
       "</table>\n",
       "</div>"
      ],
      "text/plain": [
       "                                    Product Name  \\\n",
       "0               Perfect Fitness Perfect Rip Deck   \n",
       "1           Nike Men's Dri-FIT Victory Golf Polo   \n",
       "2               O'Brien Men's Neoprene Life Vest   \n",
       "3              Nike Men's Free 5.0+ Running Shoe   \n",
       "4  Under Armour Girls' Toddler Spine Surge Runni   \n",
       "\n",
       "   Warehouse Order Fulfillment (days)  \n",
       "0                                 8.3  \n",
       "1                                 6.6  \n",
       "2                                 5.5  \n",
       "3                                 9.4  \n",
       "4                                 6.3  "
      ]
     },
     "execution_count": 11,
     "metadata": {},
     "output_type": "execute_result"
    }
   ],
   "source": [
    "fulfillment_df.head(5)"
   ]
  },
  {
   "cell_type": "code",
   "execution_count": 12,
   "metadata": {},
   "outputs": [
    {
     "name": "stdout",
     "output_type": "stream",
     "text": [
      "<class 'pandas.core.frame.DataFrame'>\n",
      "RangeIndex: 118 entries, 0 to 117\n",
      "Data columns (total 2 columns):\n",
      " #   Column                              Non-Null Count  Dtype  \n",
      "---  ------                              --------------  -----  \n",
      " 0   Product Name                        118 non-null    object \n",
      " 1   Warehouse Order Fulfillment (days)  118 non-null    float64\n",
      "dtypes: float64(1), object(1)\n",
      "memory usage: 2.0+ KB\n"
     ]
    }
   ],
   "source": [
    "fulfillment_df.info()"
   ]
  },
  {
   "cell_type": "code",
   "execution_count": 14,
   "metadata": {},
   "outputs": [
    {
     "name": "stdout",
     "output_type": "stream",
     "text": [
      "✓ Date conversions completed\n",
      "✓ Data types optimized\n"
     ]
    }
   ],
   "source": [
    "orders_df['Order_Date'] = pd.to_datetime(\n",
    "    orders_df[['Order Year', 'Order Month', 'Order Day']].rename(\n",
    "        columns={'Order Year': 'year', 'Order Month': 'month', 'Order Day': 'day'}\n",
    "    )\n",
    ")\n",
    "orders_df['Shipment_Date'] = pd.to_datetime(\n",
    "    orders_df[['Shipment Year', 'Shipment Month', 'Shipment Day']].rename(\n",
    "        columns={'Shipment Year': 'year', 'Shipment Month': 'month', 'Shipment Day': 'day'}\n",
    "    )\n",
    ")\n",
    "\n",
    "# Convert YearMonth to datetime for inventory\n",
    "inventory_df['Year_Month_Date'] = pd.to_datetime(\n",
    "    inventory_df['Year Month'].astype(str), format='%Y%m'\n",
    ")\n",
    "\n",
    "# Clean discount percentage (remove non-numeric characters if any)\n",
    "orders_df['Discount %'] = pd.to_numeric(orders_df['Discount %'], errors='coerce')\n",
    "\n",
    "print(\"✓ Date conversions completed\")\n",
    "print(\"✓ Data types optimized\")"
   ]
  },
  {
   "cell_type": "code",
   "execution_count": 15,
   "metadata": {},
   "outputs": [
    {
     "name": "stdout",
     "output_type": "stream",
     "text": [
      "\n",
      "--- Orders Dataset Quality ---\n",
      "Shape: (30871, 26)\n",
      "Missing values:\n",
      "Discount %    1749\n",
      "dtype: int64\n",
      "Duplicate rows: 0\n",
      "\n",
      "--- Inventory Dataset Quality ---\n",
      "Shape: (4200, 5)\n",
      "Missing values:\n",
      "Series([], dtype: int64)\n",
      "Duplicate rows: 0\n",
      "\n",
      "--- Fulfillment Dataset Quality ---\n",
      "Shape: (118, 2)\n",
      "Missing values:\n",
      "Series([], dtype: int64)\n",
      "Duplicate rows: 0\n"
     ]
    }
   ],
   "source": [
    "def assess_data_quality(df, dataset_name):\n",
    "    \"\"\"Assess data quality for a dataset\"\"\"\n",
    "    print(f\"\\n--- {dataset_name} Dataset Quality ---\")\n",
    "    print(f\"Shape: {df.shape}\")\n",
    "    print(f\"Missing values:\\n{df.isnull().sum()[df.isnull().sum() > 0]}\")\n",
    "    print(f\"Duplicate rows: {df.duplicated().sum()}\")\n",
    "    \n",
    "    # Check for negative values in key numeric columns\n",
    "    numeric_cols = df.select_dtypes(include=[np.number]).columns\n",
    "    for col in numeric_cols:\n",
    "        if col in df.columns:\n",
    "            negative_count = (df[col] < 0).sum()\n",
    "            if negative_count > 0:\n",
    "                print(f\"Negative values in {col}: {negative_count}\")\n",
    "\n",
    "assess_data_quality(orders_df, \"Orders\")\n",
    "assess_data_quality(inventory_df, \"Inventory\")\n",
    "assess_data_quality(fulfillment_df, \"Fulfillment\")"
   ]
  },
  {
   "cell_type": "code",
   "execution_count": 16,
   "metadata": {},
   "outputs": [
    {
     "name": "stdout",
     "output_type": "stream",
     "text": [
      "✓ Demand patterns calculated\n"
     ]
    }
   ],
   "source": [
    "monthly_demand = orders_df.groupby(['Product Name', 'Order Year', 'Order Month']).agg({\n",
    "    'Order Quantity': 'sum',\n",
    "    'Gross Sales': 'sum',\n",
    "    'Profit': 'sum',\n",
    "    'Order ID': 'nunique'  # Number of unique orders\n",
    "}).reset_index()\n",
    "\n",
    "monthly_demand['Year_Month'] = (monthly_demand['Order Year'] * 100 + \n",
    "                               monthly_demand['Order Month'])\n",
    "\n",
    "# Calculate demand velocity (orders per day)\n",
    "orders_df['Days_in_Month'] = orders_df['Order_Date'].dt.days_in_month\n",
    "daily_demand = orders_df.groupby(['Product Name', 'Order Year', 'Order Month']).agg({\n",
    "    'Order Quantity': 'sum',\n",
    "    'Days_in_Month': 'first'\n",
    "}).reset_index()\n",
    "daily_demand['Daily_Demand_Rate'] = daily_demand['Order Quantity'] / daily_demand['Days_in_Month']\n",
    "\n",
    "# Seasonality features\n",
    "orders_df['Quarter'] = orders_df['Order_Date'].dt.quarter\n",
    "orders_df['Month_Name'] = orders_df['Order_Date'].dt.month_name()\n",
    "orders_df['Is_Holiday_Season'] = orders_df['Order Month'].isin([11, 12]).astype(int)\n",
    "\n",
    "print(\"✓ Demand patterns calculated\")"
   ]
  },
  {
   "cell_type": "code",
   "execution_count": 17,
   "metadata": {},
   "outputs": [
    {
     "name": "stdout",
     "output_type": "stream",
     "text": [
      "✓ Inventory analysis completed\n"
     ]
    }
   ],
   "source": [
    "inventory_analysis = inventory_df.groupby('Product Name').agg({\n",
    "    'Warehouse Inventory': ['mean', 'std', 'min', 'max'],\n",
    "    'Inventory Cost Per Unit': 'mean'\n",
    "}).round(4)\n",
    "\n",
    "# Flatten column names\n",
    "inventory_analysis.columns = ['_'.join(col).strip() for col in inventory_analysis.columns]\n",
    "inventory_analysis = inventory_analysis.reset_index()\n",
    "\n",
    "# Identify products with frequent stockouts (zero inventory)\n",
    "stockout_analysis = inventory_df.groupby('Product Name').agg({\n",
    "    'Warehouse Inventory': lambda x: (x == 0).sum() / len(x)  # Stockout frequency\n",
    "}).reset_index()\n",
    "stockout_analysis.columns = ['Product Name', 'Stockout_Frequency']\n",
    "\n",
    "print(\"✓ Inventory analysis completed\")"
   ]
  },
  {
   "cell_type": "code",
   "execution_count": null,
   "metadata": {},
   "outputs": [
    {
     "name": "stdout",
     "output_type": "stream",
     "text": [
      "✓ Lead time analysis completed\n"
     ]
    }
   ],
   "source": [
    "fulfillment_clean = fulfillment_df.copy()\n",
    "fulfillment_clean.columns = ['Product Name', 'Avg_Fulfillment_Days']\n",
    "# Calculate actual vs scheduled shipment performance\n",
    "orders_df['Actual_Shipment_Days'] = (orders_df['Shipment_Date'] - orders_df['Order_Date']).dt.days\n",
    "orders_df['Shipment_Delay'] = orders_df['Actual_Shipment_Days'] - orders_df['Shipment Days - Scheduled']\n",
    "orders_df['On_Time_Delivery'] = (orders_df['Shipment_Delay'] <= 0).astype(int)\n",
    "\n",
    "shipment_performance = orders_df.groupby('Product Name').agg({\n",
    "    'Actual_Shipment_Days': 'mean',\n",
    "    'Shipment_Delay': 'mean',\n",
    "    'On_Time_Delivery': 'mean'\n",
    "}).round(4).reset_index()\n",
    "\n",
    "print(\"✓ Lead time analysis completed\")"
   ]
  },
  {
   "cell_type": "code",
   "execution_count": 19,
   "metadata": {},
   "outputs": [
    {
     "name": "stdout",
     "output_type": "stream",
     "text": [
      "✓ Master procurement dataset created: (113, 17)\n"
     ]
    }
   ],
   "source": [
    "procurement_master = orders_df.groupby('Product Name').agg({\n",
    "    'Order Quantity': ['sum', 'mean', 'std'],\n",
    "    'Gross Sales': ['sum', 'mean'],\n",
    "    'Profit': ['sum', 'mean'],\n",
    "    'Order ID': 'nunique',\n",
    "    'Is_Holiday_Season': 'mean'  # Proportion of holiday orders\n",
    "}).round(4)\n",
    "\n",
    "# Flatten column names\n",
    "procurement_master.columns = ['_'.join(col).strip() for col in procurement_master.columns]\n",
    "procurement_master = procurement_master.reset_index()\n",
    "\n",
    "# Add recent inventory data (latest available month)\n",
    "latest_inventory = inventory_df.loc[inventory_df.groupby('Product Name')['Year Month'].idxmax()]\n",
    "latest_inventory = latest_inventory[['Product Name', 'Warehouse Inventory', 'Inventory Cost Per Unit']]\n",
    "latest_inventory.columns = ['Product Name', 'Current_Inventory', 'Unit_Cost']\n",
    "\n",
    "# Merge all datasets\n",
    "procurement_master = procurement_master.merge(latest_inventory, on='Product Name', how='left')\n",
    "procurement_master = procurement_master.merge(stockout_analysis, on='Product Name', how='left')\n",
    "procurement_master = procurement_master.merge(fulfillment_clean, on='Product Name', how='left')\n",
    "procurement_master = procurement_master.merge(shipment_performance, on='Product Name', how='left')\n",
    "\n",
    "print(f\"✓ Master procurement dataset created: {procurement_master.shape}\")"
   ]
  },
  {
   "cell_type": "code",
   "execution_count": 20,
   "metadata": {},
   "outputs": [
    {
     "name": "stdout",
     "output_type": "stream",
     "text": [
      "✓ Procurement metrics calculated\n"
     ]
    }
   ],
   "source": [
    "procurement_master['Avg_Monthly_Demand'] = procurement_master['Order Quantity_sum'] / 12  # Assuming 1 year of data\n",
    "procurement_master['Demand_Variability'] = procurement_master['Order Quantity_std'] / procurement_master['Order Quantity_mean']\n",
    "procurement_master['Inventory_Days_Supply'] = (procurement_master['Current_Inventory'] / \n",
    "                                              (procurement_master['Avg_Monthly_Demand'] / 30)).fillna(0)\n",
    "\n",
    "# Safety stock calculation (assuming 95% service level)\n",
    "procurement_master['Safety_Stock'] = (1.65 * procurement_master['Order Quantity_std'] * \n",
    "                                     np.sqrt(procurement_master['Avg_Fulfillment_Days'] / 30)).fillna(0)\n",
    "\n",
    "# Reorder point calculation\n",
    "procurement_master['Reorder_Point'] = (procurement_master['Avg_Monthly_Demand'] / 30 * \n",
    "                                      procurement_master['Avg_Fulfillment_Days'] + \n",
    "                                      procurement_master['Safety_Stock']).fillna(0)\n",
    "\n",
    "# Economic Order Quantity (simplified - assuming holding cost = 20% of unit cost)\n",
    "holding_cost_rate = 0.2\n",
    "setup_cost = 50  # Assumed fixed ordering cost\n",
    "\n",
    "procurement_master['EOQ'] = np.sqrt((2 * procurement_master['Avg_Monthly_Demand'] * setup_cost) / \n",
    "                                   (procurement_master['Unit_Cost'] * holding_cost_rate)).fillna(0)\n",
    "\n",
    "print(\"✓ Procurement metrics calculated\")"
   ]
  },
  {
   "cell_type": "code",
   "execution_count": 21,
   "metadata": {},
   "outputs": [
    {
     "name": "stdout",
     "output_type": "stream",
     "text": [
      "✓ Priority classification completed\n"
     ]
    }
   ],
   "source": [
    "procurement_master['Revenue_Contribution'] = procurement_master['Gross Sales_sum']\n",
    "procurement_master['Revenue_Cumsum'] = procurement_master['Revenue_Contribution'].rank(method='dense', ascending=False)\n",
    "total_products = len(procurement_master)\n",
    "\n",
    "# ABC Classification\n",
    "procurement_master['ABC_Category'] = 'C'  # Default\n",
    "procurement_master.loc[procurement_master['Revenue_Cumsum'] <= total_products * 0.2, 'ABC_Category'] = 'A'\n",
    "procurement_master.loc[(procurement_master['Revenue_Cumsum'] > total_products * 0.2) & \n",
    "                      (procurement_master['Revenue_Cumsum'] <= total_products * 0.5), 'ABC_Category'] = 'B'\n",
    "\n",
    "# Critical stock classification\n",
    "procurement_master['Stock_Status'] = 'Normal'\n",
    "procurement_master.loc[procurement_master['Current_Inventory'] <= procurement_master['Reorder_Point'], 'Stock_Status'] = 'Reorder_Required'\n",
    "procurement_master.loc[procurement_master['Current_Inventory'] == 0, 'Stock_Status'] = 'Stockout'\n",
    "\n",
    "print(\"✓ Priority classification completed\")"
   ]
  },
  {
   "cell_type": "code",
   "execution_count": 22,
   "metadata": {},
   "outputs": [
    {
     "name": "stdout",
     "output_type": "stream",
     "text": [
      "Total products analyzed: 113\n",
      "Products requiring reorder: 6\n",
      "Products in stockout: 96\n",
      "ABC Distribution:\n",
      "ABC_Category\n",
      "C    56\n",
      "B    35\n",
      "A    22\n",
      "Name: count, dtype: int64\n",
      "\n",
      "Missing values in master dataset:\n",
      "Series([], dtype: int64)\n"
     ]
    }
   ],
   "source": [
    "print(f\"Total products analyzed: {len(procurement_master)}\")\n",
    "print(f\"Products requiring reorder: {(procurement_master['Stock_Status'] == 'Reorder_Required').sum()}\")\n",
    "print(f\"Products in stockout: {(procurement_master['Stock_Status'] == 'Stockout').sum()}\")\n",
    "print(f\"ABC Distribution:\")\n",
    "print(procurement_master['ABC_Category'].value_counts())\n",
    "\n",
    "# Check for data quality issues in final dataset\n",
    "print(f\"\\nMissing values in master dataset:\\n{procurement_master.isnull().sum()[procurement_master.isnull().sum() > 0]}\")\n"
   ]
  },
  {
   "cell_type": "code",
   "execution_count": 24,
   "metadata": {},
   "outputs": [
    {
     "name": "stdout",
     "output_type": "stream",
     "text": [
      "✓ All processed datasets saved to data/processed/\n"
     ]
    }
   ],
   "source": [
    "try:\n",
    "    # Create processed data directory structure\n",
    "    import os\n",
    "    os.makedirs('../data/processed', exist_ok=True)\n",
    "    \n",
    "    # Save cleaned individual datasets\n",
    "    orders_df.to_csv('../data/processed/orders_cleaned.csv', index=False)\n",
    "    inventory_df.to_csv('../data/processed/inventory_cleaned.csv', index=False)\n",
    "    fulfillment_df.to_csv('../data/processed/fulfillment_cleaned.csv', index=False)\n",
    "    \n",
    "    # Save master procurement dataset\n",
    "    procurement_master.to_csv('../data/processed/procurement_master.csv', index=False)\n",
    "    \n",
    "    # Save demand patterns\n",
    "    monthly_demand.to_csv('../data/processed/monthly_demand.csv', index=False)\n",
    "    \n",
    "    print(\"✓ All processed datasets saved to data/processed/\")\n",
    "    \n",
    "except Exception as e:\n",
    "    print(f\"Error saving files: {e}\")"
   ]
  },
  {
   "cell_type": "code",
   "execution_count": 25,
   "metadata": {},
   "outputs": [
    {
     "name": "stdout",
     "output_type": "stream",
     "text": [
      "Key Procurement Metrics Summary:\n",
      "       Avg_Monthly_Demand  Current_Inventory  Reorder_Point  Safety_Stock  \\\n",
      "count              113.00             113.00         113.00        113.00   \n",
      "mean                48.94               2.75          11.39          0.55   \n",
      "std                169.24              14.49          41.08          0.52   \n",
      "min                  0.17               0.00           0.02          0.00   \n",
      "25%                  1.33               0.00           0.26          0.00   \n",
      "50%                  7.08               0.00           1.59          0.64   \n",
      "75%                 12.50               0.00           3.41          1.02   \n",
      "max               1079.33             133.00         299.84          1.46   \n",
      "\n",
      "          EOQ  Stockout_Frequency  Avg_Fulfillment_Days  \n",
      "count  113.00              113.00                113.00  \n",
      "mean    94.61                0.63                  5.42  \n",
      "std    152.85                0.29                  2.38  \n",
      "min      7.63                0.00                  1.00  \n",
      "25%     26.82                0.42                  3.50  \n",
      "50%     55.56                0.77                  5.40  \n",
      "75%     86.89                0.89                  7.00  \n",
      "max    881.08                0.97                  9.90  \n",
      "\n",
      "=== DATA PREPROCESSING COMPLETED ===\n",
      "The datasets are now ready for developing the automated procurement model.\n",
      "Key features available:\n",
      "- Demand forecasting features (seasonality, trends)\n",
      "- Inventory optimization metrics (EOQ, safety stock, reorder points)\n",
      "- Supplier performance metrics (lead times, delivery reliability)\n",
      "- Product classification (ABC analysis)\n",
      "- Real-time stock status monitoring\n",
      "\n",
      "Sample of processed procurement data:\n",
      "                                    Product Name  Current_Inventory  \\\n",
      "0                             Adult dog supplies                  2   \n",
      "1                                   Baby sweater                  0   \n",
      "2                        Bag Boy Beverage Holder                  0   \n",
      "3                         Bag Boy M330 Push Cart                  0   \n",
      "4  Bridgestone e6 Straight Distance NFL Carolina                  0   \n",
      "5  Bridgestone e6 Straight Distance NFL San Dieg                  0   \n",
      "6  Bridgestone e6 Straight Distance NFL Tennesse                  0   \n",
      "7            Brooks Women's Ghost 6 Running Shoe                  0   \n",
      "8                                    CDs of rock                  0   \n",
      "9                             Children's heaters                  0   \n",
      "\n",
      "   Reorder_Point Stock_Status ABC_Category  \n",
      "0       1.437500       Normal            B  \n",
      "1       0.811944     Stockout            C  \n",
      "2       3.875742     Stockout            B  \n",
      "3       1.988540     Stockout            C  \n",
      "4       2.827055     Stockout            B  \n",
      "5       2.319866     Stockout            B  \n",
      "6       4.231003     Stockout            B  \n",
      "7       1.420032     Stockout            B  \n",
      "8       0.612500     Stockout            C  \n",
      "9       0.067500     Stockout            B  \n"
     ]
    }
   ],
   "source": [
    "key_metrics = [\n",
    "    'Avg_Monthly_Demand', 'Current_Inventory', 'Reorder_Point', \n",
    "    'Safety_Stock', 'EOQ', 'Stockout_Frequency', 'Avg_Fulfillment_Days'\n",
    "]\n",
    "\n",
    "print(\"Key Procurement Metrics Summary:\")\n",
    "print(procurement_master[key_metrics].describe().round(2))\n",
    "\n",
    "print(\"\\n=== DATA PREPROCESSING COMPLETED ===\")\n",
    "print(\"The datasets are now ready for developing the automated procurement model.\")\n",
    "print(\"Key features available:\")\n",
    "print(\"- Demand forecasting features (seasonality, trends)\")\n",
    "print(\"- Inventory optimization metrics (EOQ, safety stock, reorder points)\")\n",
    "print(\"- Supplier performance metrics (lead times, delivery reliability)\")\n",
    "print(\"- Product classification (ABC analysis)\")\n",
    "print(\"- Real-time stock status monitoring\")\n",
    "\n",
    "# Display sample of final dataset\n",
    "print(f\"\\nSample of processed procurement data:\")\n",
    "print(procurement_master[['Product Name', 'Current_Inventory', 'Reorder_Point', \n",
    "                         'Stock_Status', 'ABC_Category']].head(10))"
   ]
  },
  {
   "cell_type": "code",
   "execution_count": null,
   "metadata": {},
   "outputs": [],
   "source": []
  }
 ],
 "metadata": {
  "kernelspec": {
   "display_name": "chain_env",
   "language": "python",
   "name": "python3"
  },
  "language_info": {
   "codemirror_mode": {
    "name": "ipython",
    "version": 3
   },
   "file_extension": ".py",
   "mimetype": "text/x-python",
   "name": "python",
   "nbconvert_exporter": "python",
   "pygments_lexer": "ipython3",
   "version": "3.10.18"
  }
 },
 "nbformat": 4,
 "nbformat_minor": 2
}
